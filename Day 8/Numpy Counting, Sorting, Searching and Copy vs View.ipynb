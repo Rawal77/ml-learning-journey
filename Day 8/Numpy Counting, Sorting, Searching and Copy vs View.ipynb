{
 "cells": [
  {
   "cell_type": "markdown",
   "id": "7bee35d3-3325-4183-9e9e-0410ac61f8f2",
   "metadata": {},
   "source": [
    "# NumPy - Counting, Sorting, Searching, and Copy vs View "
   ]
  },
  {
   "cell_type": "markdown",
   "id": "521e52a4-faca-458b-9e6d-78053fdaa664",
   "metadata": {},
   "source": [
    "### Counting Functions in NumPy"
   ]
  },
  {
   "cell_type": "code",
   "execution_count": 3,
   "id": "9600fede-a4aa-48e0-9f96-c593b378530a",
   "metadata": {},
   "outputs": [],
   "source": [
    "import numpy as np\n",
    "\n",
    "# Creating a NumPy array\n",
    "\n",
    "a = np.array([1, 0, 2, 0, 3, 2, 2, 2])\n",
    "b = np.array([4, 5, 6])"
   ]
  },
  {
   "cell_type": "code",
   "execution_count": 5,
   "id": "da1bf5ab-1aa5-4eb2-a932-12d2c220d5e3",
   "metadata": {},
   "outputs": [
    {
     "name": "stdout",
     "output_type": "stream",
     "text": [
      "Non-zero count: 6\n"
     ]
    }
   ],
   "source": [
    "# Count the non-zero elements in the array\n",
    "\n",
    "print(\"Non-zero count:\", np.count_nonzero(a))"
   ]
  },
  {
   "cell_type": "code",
   "execution_count": 7,
   "id": "dc2107c1-48aa-4cfc-9812-64cab8e49ae0",
   "metadata": {},
   "outputs": [
    {
     "name": "stdout",
     "output_type": "stream",
     "text": [
      "Unique elements: [0 1 2 3]\n"
     ]
    }
   ],
   "source": [
    "# Find unique elements in the array\n",
    "\n",
    "print(\"Unique elements:\", np.unique(a))"
   ]
  },
  {
   "cell_type": "code",
   "execution_count": 9,
   "id": "ca002c47-fcea-4f30-9a67-8ec2f3bc66da",
   "metadata": {},
   "outputs": [
    {
     "name": "stdout",
     "output_type": "stream",
     "text": [
      "Frequency count (bincount): [2 1 4 1]\n"
     ]
    }
   ],
   "source": [
    "# Count the frequency of each unique value in the array using bincount()\n",
    "# (Index represents the value, and value at that index represents its frequency)\n",
    "\n",
    "print(\"Frequency count (bincount):\", np.bincount(a))"
   ]
  },
  {
   "cell_type": "code",
   "execution_count": 11,
   "id": "78b2eb81-45bf-4a9b-8cca-ed3106020371",
   "metadata": {},
   "outputs": [
    {
     "name": "stdout",
     "output_type": "stream",
     "text": [
      "Cumulative sum: [ 1  1  3  3  6  8 10 12]\n"
     ]
    }
   ],
   "source": [
    "# Cumulative sum of elements\n",
    "\n",
    "print(\"Cumulative sum:\", np.cumsum(a))"
   ]
  },
  {
   "cell_type": "code",
   "execution_count": 13,
   "id": "4476226b-08ed-4992-82a1-e6b1e3c0fa69",
   "metadata": {},
   "outputs": [
    {
     "name": "stdout",
     "output_type": "stream",
     "text": [
      "Cumulative product: [1 0 0 0 0 0 0 0]\n"
     ]
    }
   ],
   "source": [
    "# Cumulative product of elements\n",
    "\n",
    "print(\"Cumulative product:\", np.cumprod(a))"
   ]
  },
  {
   "cell_type": "markdown",
   "id": "8bb4c220-5bde-447b-96ed-0b306d3e400c",
   "metadata": {},
   "source": [
    "### Sorting in NumPy"
   ]
  },
  {
   "cell_type": "code",
   "execution_count": 16,
   "id": "007ad458-81d5-4b4c-a5c4-433bc4bff186",
   "metadata": {},
   "outputs": [],
   "source": [
    "# Sorting in one-dimensional and two-dimensional arrays\n",
    "ar = np.array([\n",
    "    [1, 2, 3],\n",
    "    [3, 4, 2],\n",
    "    [7, 5, 6]\n",
    "])"
   ]
  },
  {
   "cell_type": "code",
   "execution_count": 18,
   "id": "fa47bbd8-944a-4914-a773-b033e3c4920c",
   "metadata": {},
   "outputs": [],
   "source": [
    "# Sorting in one-dimensional and two-dimensional arrays\n",
    "\n",
    "ar = np.array([\n",
    "    [1, 2, 3],\n",
    "    [3, 4, 2],\n",
    "    [7, 5, 6]\n",
    "])"
   ]
  },
  {
   "cell_type": "code",
   "execution_count": 20,
   "id": "58c26091-3790-4b9c-bc32-a2e213b9b9b5",
   "metadata": {},
   "outputs": [
    {
     "name": "stdout",
     "output_type": "stream",
     "text": [
      "Sorted array along columns:\n",
      " [[1 2 2]\n",
      " [3 4 3]\n",
      " [7 5 6]]\n"
     ]
    }
   ],
   "source": [
    "# Sort along columns (axis=0)\n",
    "\n",
    "sorted_arr = np.sort(ar, axis=0)\n",
    "print(\"Sorted array along columns:\\n\", sorted_arr)"
   ]
  },
  {
   "cell_type": "code",
   "execution_count": 22,
   "id": "9d3d3478-d665-486d-b31c-58457a36cb72",
   "metadata": {},
   "outputs": [
    {
     "name": "stdout",
     "output_type": "stream",
     "text": [
      "Sorted array: [1 2 4 4 5 6 7 8]\n",
      "Indices for sorting: [5 6 1 7 3 2 0 4]\n"
     ]
    }
   ],
   "source": [
    "# argsort() - Returns the indices that would sort the array\n",
    "\n",
    "ar = np.array([7, 4, 6, 5, 8, 1, 2, 4])\n",
    "print(\"Sorted array:\", np.sort(ar))\n",
    "print(\"Indices for sorting:\", np.argsort(ar))"
   ]
  },
  {
   "cell_type": "code",
   "execution_count": 24,
   "id": "49860630-9906-4ca5-80cb-e51c370fba8e",
   "metadata": {},
   "outputs": [
    {
     "name": "stdout",
     "output_type": "stream",
     "text": [
      "Index to insert 6: 4\n"
     ]
    }
   ],
   "source": [
    "# searchsorted() - Find the index to insert an element in a sorted array\n",
    "\n",
    "ar = np.array([1, 2, 4, 5, 7, 8])\n",
    "print(\"Index to insert 6:\", np.searchsorted(ar, 6))"
   ]
  },
  {
   "cell_type": "code",
   "execution_count": 26,
   "id": "c29bc012-a16a-428b-bce8-7baa97f75742",
   "metadata": {},
   "outputs": [
    {
     "name": "stdout",
     "output_type": "stream",
     "text": [
      "Partitioned array: [2 1 3 4 5 8 7]\n",
      "Indices of partitioned elements: [2 3 6 0 1 5 4]\n"
     ]
    }
   ],
   "source": [
    "# partition() - Rearrange elements so that the k-th smallest element is in its correct position\n",
    "\n",
    "ar = np.array([4, 5, 2, 1, 7, 8, 3])\n",
    "print(\"Partitioned array:\", np.partition(ar, 3))\n",
    "print(\"Indices of partitioned elements:\", np.argpartition(ar, 3))"
   ]
  },
  {
   "cell_type": "markdown",
   "id": "30f72e90-70b8-4434-8850-5a2fde162d2d",
   "metadata": {},
   "source": [
    "### Searching in NumPy"
   ]
  },
  {
   "cell_type": "code",
   "execution_count": 29,
   "id": "46414739-2c0d-442e-9b3e-5ab985de0b82",
   "metadata": {},
   "outputs": [
    {
     "name": "stdout",
     "output_type": "stream",
     "text": [
      "Indices where elements > 3 (where): (array([1, 2, 3, 5], dtype=int64),)\n"
     ]
    }
   ],
   "source": [
    "# where() and argwhere() - Find indices where a condition is met\n",
    "\n",
    "ar = np.array([1, 5, 4, 7, 2, 8, 3])\n",
    "indices = np.where(ar > 3)\n",
    "print(\"Indices where elements > 3 (where):\", indices)"
   ]
  },
  {
   "cell_type": "code",
   "execution_count": 31,
   "id": "1b408bf9-c643-41ca-9c84-14a9935bd17a",
   "metadata": {},
   "outputs": [
    {
     "name": "stdout",
     "output_type": "stream",
     "text": [
      "Indices where elements > 3 (argwhere): [[1]\n",
      " [2]\n",
      " [3]\n",
      " [5]]\n"
     ]
    }
   ],
   "source": [
    "indices_argwhere = np.argwhere(ar > 3)\n",
    "print(\"Indices where elements > 3 (argwhere):\", indices_argwhere)"
   ]
  },
  {
   "cell_type": "code",
   "execution_count": 33,
   "id": "ae054efb-c741-4a6f-91a5-a0879ed7abe2",
   "metadata": {},
   "outputs": [
    {
     "name": "stdout",
     "output_type": "stream",
     "text": [
      "Indices of non-zero elements: (array([1, 2, 3, 4, 5, 6, 7], dtype=int64),)\n"
     ]
    }
   ],
   "source": [
    "# Find indices of non-zero elements\n",
    "\n",
    "ar = np.array([0, 1, 5, 4, 7, 2, 8, 3, 0])\n",
    "print(\"Indices of non-zero elements:\", np.nonzero(ar))"
   ]
  },
  {
   "cell_type": "code",
   "execution_count": 35,
   "id": "bc792924-3012-4afa-890e-7a05159916d7",
   "metadata": {},
   "outputs": [
    {
     "name": "stdout",
     "output_type": "stream",
     "text": [
      "Elements > 3 (extract): [5 4 7 8]\n"
     ]
    }
   ],
   "source": [
    "# extract() - Extract elements that satisfy a condition\n",
    "\n",
    "extracted = np.extract(ar > 3, ar)\n",
    "print(\"Elements > 3 (extract):\", extracted)"
   ]
  },
  {
   "cell_type": "markdown",
   "id": "9af94ed3-756c-4e62-9916-94af79616899",
   "metadata": {},
   "source": [
    "### Filtration in NumPy"
   ]
  },
  {
   "cell_type": "code",
   "execution_count": 38,
   "id": "9e92a98b-7191-4da5-9581-44cf8b9a6d19",
   "metadata": {},
   "outputs": [
    {
     "name": "stdout",
     "output_type": "stream",
     "text": [
      "Elements > 5 (Boolean indexing): [7 8]\n"
     ]
    }
   ],
   "source": [
    "# Boolean indexing\n",
    "\n",
    "ar = np.array([0, 1, 5, 4, 7, 2, 8, 3, 0])\n",
    "print(\"Elements > 5 (Boolean indexing):\", ar[ar > 5])"
   ]
  },
  {
   "cell_type": "code",
   "execution_count": 40,
   "id": "fce65277-b2f4-4f40-8bed-7a8a84debf40",
   "metadata": {},
   "outputs": [
    {
     "name": "stdout",
     "output_type": "stream",
     "text": [
      "Masked array (where): [0 0 5 4 7 0 8 0 0]\n"
     ]
    }
   ],
   "source": [
    "# where() with masking\n",
    "\n",
    "new_arr = np.where(ar > 3, ar, 0)  # Replace elements <= 3 with 0\n",
    "print(\"Masked array (where):\", new_arr)"
   ]
  },
  {
   "cell_type": "code",
   "execution_count": 42,
   "id": "ee72f975-4826-44a0-a874-de22bfc0c59a",
   "metadata": {},
   "outputs": [
    {
     "name": "stdout",
     "output_type": "stream",
     "text": [
      "Filtered elements (compress): [0 1 2 0]\n"
     ]
    }
   ],
   "source": [
    "# compress() - Filter elements using a boolean mask\n",
    "\n",
    "compressed = np.compress(ar < 3, ar)\n",
    "print(\"Filtered elements (compress):\", compressed)"
   ]
  },
  {
   "cell_type": "markdown",
   "id": "0c4b054c-159e-416b-b5a6-56ab19cd62f2",
   "metadata": {},
   "source": [
    "### View in NumPy"
   ]
  },
  {
   "cell_type": "code",
   "execution_count": 45,
   "id": "5f1abe48-79dc-4bba-8d83-7d414ee690c7",
   "metadata": {},
   "outputs": [
    {
     "name": "stdout",
     "output_type": "stream",
     "text": [
      "Original array: [3 4 8 2 1 7 5 6]\n",
      "View (slice): [4 8 2]\n"
     ]
    }
   ],
   "source": [
    "# View creation using slicing\n",
    "\n",
    "ar = np.array([3, 4, 8, 2, 1, 7, 5, 6])\n",
    "view = ar[1:4]\n",
    "print(\"Original array:\", ar)\n",
    "print(\"View (slice):\", view)"
   ]
  },
  {
   "cell_type": "code",
   "execution_count": 47,
   "id": "099d8c8b-ac54-455d-a6f9-3c33793b817a",
   "metadata": {},
   "outputs": [
    {
     "name": "stdout",
     "output_type": "stream",
     "text": [
      "Original array after modifying view: [3 4 1 2 1 7 5 6]\n"
     ]
    }
   ],
   "source": [
    "# Modifying the view affects the original array\n",
    "\n",
    "view[1] = 1\n",
    "print(\"Original array after modifying view:\", ar)"
   ]
  },
  {
   "cell_type": "code",
   "execution_count": 49,
   "id": "aeb44a38-a270-4b96-9678-0ee68858a3dc",
   "metadata": {},
   "outputs": [
    {
     "name": "stdout",
     "output_type": "stream",
     "text": [
      "Transposed view:\n",
      " [[1 4]\n",
      " [2 5]\n",
      " [3 6]]\n"
     ]
    }
   ],
   "source": [
    "# View creation using transpose\n",
    "\n",
    "arr = np.array([\n",
    "    [1, 2, 3],\n",
    "    [4, 5, 6]\n",
    "])\n",
    "view = arr.T  # Creates a transposed view\n",
    "print(\"Transposed view:\\n\", view)"
   ]
  },
  {
   "cell_type": "code",
   "execution_count": 51,
   "id": "4ac4a4cd-f38a-4f60-923d-5a8d386d4d13",
   "metadata": {},
   "outputs": [
    {
     "name": "stdout",
     "output_type": "stream",
     "text": [
      "Reshaped view:\n",
      " [[1 2]\n",
      " [5 3]\n",
      " [6 4]\n",
      " [8 7]]\n"
     ]
    }
   ],
   "source": [
    "# View creation using reshape\n",
    "\n",
    "ar = np.array([1, 2, 5, 3, 6, 4, 8, 7])\n",
    "view = ar.reshape(4, 2)\n",
    "print(\"Reshaped view:\\n\", view)"
   ]
  },
  {
   "cell_type": "markdown",
   "id": "ef064094-9e26-49b6-af53-7f7031f206f6",
   "metadata": {},
   "source": [
    "### Copy in NumPy"
   ]
  },
  {
   "cell_type": "code",
   "execution_count": 54,
   "id": "820b6a2c-d550-4863-ac0f-282297f2c9a0",
   "metadata": {},
   "outputs": [
    {
     "name": "stdout",
     "output_type": "stream",
     "text": [
      "Original array: [1 2 4 5 6]\n"
     ]
    }
   ],
   "source": [
    "# Copy function\n",
    "\n",
    "ar = np.array([1, 2, 4, 5, 6])\n",
    "print(\"Original array:\", ar)"
   ]
  },
  {
   "cell_type": "code",
   "execution_count": 56,
   "id": "91cb791c-ef0c-4475-8faf-b38cd0802f3b",
   "metadata": {},
   "outputs": [
    {
     "name": "stdout",
     "output_type": "stream",
     "text": [
      "Original array after modifying copy: [1 2 4 5 6]\n",
      "Modified copy: [1 3 4 5 6]\n"
     ]
    }
   ],
   "source": [
    "# Create a copy\n",
    "\n",
    "arr_copy = ar.copy()\n",
    "arr_copy[1] = 3  # Modify the copy\n",
    "print(\"Original array after modifying copy:\", ar)\n",
    "print(\"Modified copy:\", arr_copy)"
   ]
  },
  {
   "cell_type": "code",
   "execution_count": 58,
   "id": "6a0eead1-0116-4306-b0c1-da9d418bcc10",
   "metadata": {},
   "outputs": [
    {
     "name": "stdout",
     "output_type": "stream",
     "text": [
      "Original array after fancy indexing: [1 2 4 5 6]\n"
     ]
    }
   ],
   "source": [
    "# Fancy Indexing (Copy)\n",
    "\n",
    "ar = np.array([1, 2, 4, 5, 6])\n",
    "i = [3, 0, 1]  # Indices to extract elements\n",
    "new_arr = ar[i]  # Creates a copy of the selected elements\n",
    "new_arr[:2] = [1, 2]  # Modify the copy\n",
    "print(\"Original array after fancy indexing:\", ar)"
   ]
  },
  {
   "cell_type": "code",
   "execution_count": 60,
   "id": "336d2d37-e17c-4f0a-938f-92cd86ce507e",
   "metadata": {},
   "outputs": [
    {
     "name": "stdout",
     "output_type": "stream",
     "text": [
      "Original array: [1 2 4 5 6]\n",
      "Boolean-indexed copy before modification: [1 2 4]\n"
     ]
    }
   ],
   "source": [
    "# Boolean Indexing (Copy)\n",
    "\n",
    "ar = np.array([1, 2, 4, 5, 6])\n",
    "new_ar = ar[ar < 5]  # Extracts elements less than 5 (creates a copy)\n",
    "print(\"Original array:\", ar)\n",
    "print(\"Boolean-indexed copy before modification:\", new_ar)"
   ]
  },
  {
   "cell_type": "code",
   "execution_count": 62,
   "id": "253ff514-f2ba-407f-b954-323990aa157c",
   "metadata": {},
   "outputs": [
    {
     "name": "stdout",
     "output_type": "stream",
     "text": [
      "Modified copy: [1 2 3]\n",
      "Original array remains unchanged: [1 2 4 5 6]\n"
     ]
    }
   ],
   "source": [
    "# Modifying the boolean-indexed copy\n",
    "\n",
    "new_ar[2] = 3\n",
    "print(\"Modified copy:\", new_ar)\n",
    "print(\"Original array remains unchanged:\", ar)"
   ]
  },
  {
   "cell_type": "code",
   "execution_count": null,
   "id": "d7e886d3-eb95-4f5b-8a15-dfe70ed71210",
   "metadata": {},
   "outputs": [],
   "source": []
  }
 ],
 "metadata": {
  "kernelspec": {
   "display_name": "Python [conda env:base] *",
   "language": "python",
   "name": "conda-base-py"
  },
  "language_info": {
   "codemirror_mode": {
    "name": "ipython",
    "version": 3
   },
   "file_extension": ".py",
   "mimetype": "text/x-python",
   "name": "python",
   "nbconvert_exporter": "python",
   "pygments_lexer": "ipython3",
   "version": "3.12.7"
  }
 },
 "nbformat": 4,
 "nbformat_minor": 5
}
