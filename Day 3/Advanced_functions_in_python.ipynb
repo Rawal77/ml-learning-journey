{
 "cells": [
  {
   "cell_type": "markdown",
   "id": "a8a32b66-0150-4643-9f95-546b54e89abe",
   "metadata": {},
   "source": [
    "# Advanced Functions in python"
   ]
  },
  {
   "cell_type": "markdown",
   "id": "828c039a-a123-4775-83aa-edf190d46f4c",
   "metadata": {},
   "source": [
    "### Lambda Functions in Python\n",
    "\n",
    "##### lambda is used to create anonymous functions."
   ]
  },
  {
   "cell_type": "code",
   "execution_count": 38,
   "id": "8ac12190-66e5-494e-9b33-a47f4f15f410",
   "metadata": {},
   "outputs": [
    {
     "name": "stdout",
     "output_type": "stream",
     "text": [
      "Given number is odd\n"
     ]
    }
   ],
   "source": [
    "# Lambda function to check if a number is even or odd\n",
    "\n",
    "calculate = lambda num : \"even\" if num%2 == 0 else \"odd\"\n",
    "print(f'Given number is {calculate(5)}')"
   ]
  },
  {
   "cell_type": "markdown",
   "id": "fe559a69-ba5b-4a96-b2d3-ef35d6af8ac1",
   "metadata": {},
   "source": [
    "### Lambda vs Regular Functions"
   ]
  },
  {
   "cell_type": "code",
   "execution_count": 44,
   "id": "db3b3b22-84e1-4af7-a16c-ce32e557ce6c",
   "metadata": {},
   "outputs": [
    {
     "name": "stdout",
     "output_type": "stream",
     "text": [
      "invoking function defined with def keyword:\n",
      "Finding cube of number:30\n",
      "27000\n",
      "invoking lambda function: 27000\n"
     ]
    }
   ],
   "source": [
    "# A regular function is defined using the 'def' keyword. It can perform more complex operations.\n",
    "\n",
    "\n",
    "# Example: A function to find the cube of a number\n",
    "def cube(y):\n",
    "    print(f\"Finding cube of number:{y}\")\n",
    "    return y * y * y\n",
    "\n",
    "# Example: A function to find the cube of a number using lambda\n",
    "lambda_cube = lambda num: num ** 3\n",
    "\n",
    "# invoking regular function\n",
    "print(\"invoking function defined with def keyword:\")\n",
    "\n",
    "print(cube(30))\n",
    "# invoking lambda function\n",
    "print(\"invoking lambda function:\", lambda_cube(30))"
   ]
  },
  {
   "cell_type": "markdown",
   "id": "cd27cd7b-6c90-4fde-9bc3-5f47a0b05b12",
   "metadata": {},
   "source": [
    "### filter() in python"
   ]
  },
  {
   "cell_type": "code",
   "execution_count": 50,
   "id": "da6d298b-3077-46d7-8b88-30eb0d83c621",
   "metadata": {},
   "outputs": [
    {
     "name": "stdout",
     "output_type": "stream",
     "text": [
      "[2, 2, 8]\n"
     ]
    }
   ],
   "source": [
    "# The filter() function is used to filter elements that evaluates each element.\n",
    "\n",
    "# simple program to demonstrate filter\n",
    "def even(n):\n",
    "    return n % 2 == 0\n",
    "\n",
    "a = [2, 3, 2, 1, 7, 8]\n",
    "b = filter(even, a)\n",
    "\n",
    "# Convert filter object to a list\n",
    "print(list(b))\n"
   ]
  },
  {
   "cell_type": "markdown",
   "id": "9032e514-de12-4a3c-87f2-cdf16ffe9cda",
   "metadata": {},
   "source": [
    "### Using filter() with lambda"
   ]
  },
  {
   "cell_type": "code",
   "execution_count": 52,
   "id": "5b20f13f-dead-46a3-b49f-4adb94935016",
   "metadata": {},
   "outputs": [
    {
     "name": "stdout",
     "output_type": "stream",
     "text": [
      "[2, 2, 8]\n"
     ]
    }
   ],
   "source": [
    "filtered = filter(lambda n: n % 2 == 0, a)\n",
    "print(list(filtered)) "
   ]
  },
  {
   "cell_type": "markdown",
   "id": "1dff6b07-11ae-41a7-bb63-86ffc41184ad",
   "metadata": {},
   "source": [
    "### reduce() in Python"
   ]
  },
  {
   "cell_type": "code",
   "execution_count": 55,
   "id": "01dc2ff4-68b5-4fd0-93ed-aa837b27d897",
   "metadata": {},
   "outputs": [
    {
     "name": "stdout",
     "output_type": "stream",
     "text": [
      "15\n"
     ]
    }
   ],
   "source": [
    "# The reduce() function from the functools module is used to apply a binary function \n",
    "from functools import reduce\n",
    "\n",
    "# Function to add two numbers\n",
    "def add(x, y):\n",
    "    return x + y\n",
    "\n",
    "a = [1, 2, 3, 4, 5]\n",
    "res = reduce(add, a)\n",
    "\n",
    "print(res) "
   ]
  },
  {
   "cell_type": "markdown",
   "id": "f21371f4-8d11-4eaf-b388-a4f13503cf2d",
   "metadata": {},
   "source": [
    "### Using reduce() with lambda"
   ]
  },
  {
   "cell_type": "code",
   "execution_count": 61,
   "id": "16f01171-1810-42a0-a7f5-e85909ec6e4f",
   "metadata": {},
   "outputs": [
    {
     "name": "stdout",
     "output_type": "stream",
     "text": [
      "15\n"
     ]
    }
   ],
   "source": [
    "from functools import reduce\n",
    "\n",
    "a = [1, 2, 3, 4, 5]\n",
    "res = reduce(lambda x, y: x + y, a)  # Summing numbers with reduce and lambda\n",
    "print(res)"
   ]
  },
  {
   "cell_type": "markdown",
   "id": "f72b9bbd-4948-42bd-9cc9-7a89ab39aed7",
   "metadata": {},
   "source": [
    "### Python map() function"
   ]
  },
  {
   "cell_type": "code",
   "execution_count": 64,
   "id": "54f1e6bb-dcd1-41e3-8a43-fc13b312cd55",
   "metadata": {},
   "outputs": [
    {
     "name": "stdout",
     "output_type": "stream",
     "text": [
      "[1, 2, 3, 4]\n"
     ]
    }
   ],
   "source": [
    "# The map() function is used to apply a given function to all item\n",
    "s = ['1', '2', '3', '4']\n",
    "res = map(int, s)\n",
    "print(list(res))\n"
   ]
  },
  {
   "cell_type": "markdown",
   "id": "5f4b3fe3-3b49-4dd2-b22b-fdc0694727ba",
   "metadata": {},
   "source": [
    "### map() with lambda"
   ]
  },
  {
   "cell_type": "code",
   "execution_count": 31,
   "id": "35aebac3-a45c-4673-a48b-abe38d8b333c",
   "metadata": {},
   "outputs": [
    {
     "name": "stdout",
     "output_type": "stream",
     "text": [
      "[2, 4, 6, 8]\n"
     ]
    }
   ],
   "source": [
    "a = [1, 2, 3, 4]\n",
    "# Using lambda function in \"function\" parameter\n",
    "# to double each number in the list\n",
    "res = list(map(lambda x: x * 2, a))\n",
    "print(res)"
   ]
  }
 ],
 "metadata": {
  "kernelspec": {
   "display_name": "Python [conda env:base] *",
   "language": "python",
   "name": "conda-base-py"
  },
  "language_info": {
   "codemirror_mode": {
    "name": "ipython",
    "version": 3
   },
   "file_extension": ".py",
   "mimetype": "text/x-python",
   "name": "python",
   "nbconvert_exporter": "python",
   "pygments_lexer": "ipython3",
   "version": "3.12.7"
  }
 },
 "nbformat": 4,
 "nbformat_minor": 5
}
