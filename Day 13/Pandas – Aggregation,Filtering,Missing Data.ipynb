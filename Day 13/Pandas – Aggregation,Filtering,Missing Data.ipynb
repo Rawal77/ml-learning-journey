{
 "cells": [
  {
   "cell_type": "markdown",
   "id": "223c65e6-9c12-43d0-8bbc-1007de82b6ca",
   "metadata": {},
   "source": [
    "# Aggregation in DataFrame"
   ]
  },
  {
   "cell_type": "code",
   "execution_count": 2,
   "id": "ef6d0132-ce89-48fb-9854-707f41a8232b",
   "metadata": {},
   "outputs": [
    {
     "name": "stdout",
     "output_type": "stream",
     "text": [
      "    Name  Age Grade\n",
      "0    Ram   21     A\n",
      "1  Shyam   24    A+\n",
      "2   Hari   25    B+\n"
     ]
    }
   ],
   "source": [
    "import pandas as pd\n",
    "\n",
    "# Aggregation helps summarize data (e.g., mean, sum, count)\n",
    "\n",
    "d = {\"Name\": [\"Ram\", \"Shyam\", \"Hari\"], \"Age\": [21, 24, 25], \"Grade\": [\"A\", \"A+\", \"B+\"]}\n",
    "df = pd.DataFrame(d)\n",
    "print(df)"
   ]
  },
  {
   "cell_type": "code",
   "execution_count": 4,
   "id": "f4c98d4d-99c2-412a-b582-b832d578c4d5",
   "metadata": {},
   "outputs": [
    {
     "name": "stdout",
     "output_type": "stream",
     "text": [
      "Mean Age: 23.333333333333332\n",
      "Total Age Sum: 70\n",
      "Total Count: 3\n"
     ]
    }
   ],
   "source": [
    "# Calculate Aggregations\n",
    "\n",
    "print(\"Mean Age:\", df['Age'].mean()) \n",
    "print(\"Total Age Sum:\", df['Age'].sum()) \n",
    "print(\"Total Count:\", df['Age'].count())  "
   ]
  },
  {
   "cell_type": "markdown",
   "id": "e4fecd2c-8ccd-4ed7-950a-c197b6c62b7f",
   "metadata": {},
   "source": [
    "# Filtering in DataFrame"
   ]
  },
  {
   "cell_type": "code",
   "execution_count": 7,
   "id": "1cd362e1-5089-4ff3-8873-a2796943fe2e",
   "metadata": {},
   "outputs": [
    {
     "name": "stdout",
     "output_type": "stream",
     "text": [
      "People older than 28:\n",
      " Empty DataFrame\n",
      "Columns: [Name, Age, Grade]\n",
      "Index: []\n"
     ]
    }
   ],
   "source": [
    "# Filtering records based on conditions\n",
    "\n",
    "# Select people older than 28\n",
    "greater_age = df[df['Age'] > 28]\n",
    "print(\"People older than 28:\\n\", greater_age)"
   ]
  },
  {
   "cell_type": "code",
   "execution_count": 9,
   "id": "8802dcff-fb21-4b0c-b91b-bdbca61e9134",
   "metadata": {},
   "outputs": [
    {
     "name": "stdout",
     "output_type": "stream",
     "text": [
      "Students with A+ grade:\n",
      "     Name  Age Grade\n",
      "1  Shyam   24    A+\n"
     ]
    }
   ],
   "source": [
    "# Select people with highest Grade \"A+\"\n",
    "highest_grade = df[df['Grade'] == 'A+']\n",
    "print(\"Students with A+ grade:\\n\", highest_grade)"
   ]
  },
  {
   "cell_type": "markdown",
   "id": "d7c59ced-9024-42f8-b22c-0569a75d6b85",
   "metadata": {},
   "source": [
    "# Handling Missing Data"
   ]
  },
  {
   "cell_type": "code",
   "execution_count": 14,
   "id": "52d96ff7-af54-407f-ac63-d0e557ba41cd",
   "metadata": {},
   "outputs": [
    {
     "name": "stdout",
     "output_type": "stream",
     "text": [
      "DataFrame with Missing Values:\n",
      "     Name   Age  Subject\n",
      "0    Ram  12.0     Math\n",
      "1  Shyam   NaN  Science\n",
      "2   None  18.0     None\n"
     ]
    }
   ],
   "source": [
    "# Missing values can cause errors in analysis\n",
    "\n",
    "d = {\n",
    "    \"Name\": [\"Ram\", \"Shyam\", None],\n",
    "    \"Age\": [12, None, 18],\n",
    "    \"Subject\": [\"Math\", \"Science\", None]\n",
    "}\n",
    "df = pd.DataFrame(d)\n",
    "print(\"DataFrame with Missing Values:\\n\", df)"
   ]
  },
  {
   "cell_type": "code",
   "execution_count": 16,
   "id": "0cb2bfd2-85d6-42bc-8f03-49e9311c6c79",
   "metadata": {},
   "outputs": [
    {
     "name": "stdout",
     "output_type": "stream",
     "text": [
      "After Filling Missing Values:\n",
      "     Name   Age  Subject\n",
      "0    Ram  12.0     Math\n",
      "1  Shyam  Hari  Science\n",
      "2   Hari  18.0     Hari\n"
     ]
    }
   ],
   "source": [
    "# Fill missing values with a default value (e.g., \"Hari\")\n",
    "\n",
    "df_filled = df.fillna(\"Hari\")\n",
    "print(\"After Filling Missing Values:\\n\", df_filled)"
   ]
  },
  {
   "cell_type": "markdown",
   "id": "64c33c1c-a5a8-4dfd-a0b3-64f276a395a1",
   "metadata": {},
   "source": [
    "# Joining DataFrames"
   ]
  },
  {
   "cell_type": "code",
   "execution_count": 19,
   "id": "2ad7bf32-bd05-4466-96ad-b448c064a1bd",
   "metadata": {},
   "outputs": [
    {
     "name": "stdout",
     "output_type": "stream",
     "text": [
      "DataFrame 1:\n",
      "     Name  Age\n",
      "0    Ram   12\n",
      "1  Shyam   18\n"
     ]
    }
   ],
   "source": [
    "# Merging datasets (used in real-world analytics)\n",
    "\n",
    "d1 = {\"Name\": [\"Ram\", \"Shyam\"], \"Age\": [12, 18]}\n",
    "df1 = pd.DataFrame(d1)\n",
    "print(\"DataFrame 1:\\n\", df1)"
   ]
  },
  {
   "cell_type": "code",
   "execution_count": 21,
   "id": "4e6d4c29-8e3a-4641-9f4e-e917ee82fa84",
   "metadata": {},
   "outputs": [
    {
     "name": "stdout",
     "output_type": "stream",
     "text": [
      "DataFrame 2:\n",
      "    Subject\n",
      "0     Math\n",
      "1  Science\n"
     ]
    }
   ],
   "source": [
    "d2 = {\"Subject\": [\"Math\", \"Science\"]}\n",
    "df2 = pd.DataFrame(d2)\n",
    "print(\"DataFrame 2:\\n\", df2)"
   ]
  },
  {
   "cell_type": "code",
   "execution_count": 23,
   "id": "5b985d68-82fe-44c3-b31c-1fb2674acc7b",
   "metadata": {},
   "outputs": [
    {
     "name": "stdout",
     "output_type": "stream",
     "text": [
      "Joined DataFrame:\n",
      "     Name  Age  Subject\n",
      "0    Ram   12     Math\n",
      "1  Shyam   18  Science\n"
     ]
    }
   ],
   "source": [
    "# Joining DataFrames by index\n",
    "\n",
    "df_joined = df1.join(df2)\n",
    "print(\"Joined DataFrame:\\n\", df_joined)"
   ]
  },
  {
   "cell_type": "markdown",
   "id": "e23aac74-3af3-4e94-af22-e4833ac35b3e",
   "metadata": {},
   "source": [
    "# Sorting Data"
   ]
  },
  {
   "cell_type": "code",
   "execution_count": 26,
   "id": "b21f35ff-51b9-4a03-b354-9fb9d48ea59c",
   "metadata": {},
   "outputs": [
    {
     "name": "stdout",
     "output_type": "stream",
     "text": [
      "Sorted by Age Descending:\n",
      "     Name  Age       Subject\n",
      "2    Ram   18  Anthropology\n",
      "1  Shyam   14       Science\n",
      "0   Hari   12          Math\n"
     ]
    }
   ],
   "source": [
    "# Sorting values based on column\n",
    "\n",
    "d = {\n",
    "    \"Name\": [\"Hari\", \"Shyam\", \"Ram\"],\n",
    "    \"Age\": [12, 14, 18],\n",
    "    \"Subject\": [\"Math\", \"Science\", \"Anthropology\"]\n",
    "}\n",
    "df = pd.DataFrame(d)\n",
    "print(\"Sorted by Age Descending:\\n\", df.sort_values(by=\"Age\", ascending=False))"
   ]
  },
  {
   "cell_type": "markdown",
   "id": "56f30b58-bab2-47bd-b886-2d40e0ce3c56",
   "metadata": {},
   "source": [
    "# Exploring DataFrame Attributes"
   ]
  },
  {
   "cell_type": "code",
   "execution_count": 29,
   "id": "7d95324e-8e8e-47ba-86ff-ecb4bc6186fc",
   "metadata": {},
   "outputs": [
    {
     "name": "stdout",
     "output_type": "stream",
     "text": [
      "\tIndex\n",
      " RangeIndex(start=0, stop=3, step=1)\n",
      "\tColumns\n",
      " Index(['Name', 'Age', 'Subject'], dtype='object')\n",
      "\tValues\n",
      " [['Hari' 12 'Math']\n",
      " ['Shyam' 14 'Science']\n",
      " ['Ram' 18 'Anthropology']]\n",
      "\tShape\n",
      " (3, 3)\n",
      "\tData Types\n",
      " Name       object\n",
      "Age         int64\n",
      "Subject    object\n",
      "dtype: object\n",
      "\tEmpty DataFrame?\n",
      " False\n",
      "\tNo of Dimensions\n",
      " 2\n"
     ]
    }
   ],
   "source": [
    "print(\"\\tIndex\\n\", df.index)  \n",
    "print(\"\\tColumns\\n\", df.columns)  \n",
    "print(\"\\tValues\\n\", df.values)  \n",
    "print(\"\\tShape\\n\", df.shape)  \n",
    "print(\"\\tData Types\\n\", df.dtypes)  \n",
    "print(\"\\tEmpty DataFrame?\\n\", df.empty)  \n",
    "print(\"\\tNo of Dimensions\\n\", df.ndim)  "
   ]
  },
  {
   "cell_type": "code",
   "execution_count": 31,
   "id": "e2ecef97-0542-4d39-8fcd-028699f0ef53",
   "metadata": {},
   "outputs": [],
   "source": [
    "# Head and Tail Methods"
   ]
  },
  {
   "cell_type": "code",
   "execution_count": 35,
   "id": "8ac3953f-3338-42bd-9d4a-bc0a37406951",
   "metadata": {},
   "outputs": [
    {
     "name": "stdout",
     "output_type": "stream",
     "text": [
      "First two rows:\n",
      "     Name  Age  Subject\n",
      "0   Hari   12     Math\n",
      "1  Shyam   14  Science\n"
     ]
    },
    {
     "data": {
      "text/html": [
       "<div>\n",
       "<style scoped>\n",
       "    .dataframe tbody tr th:only-of-type {\n",
       "        vertical-align: middle;\n",
       "    }\n",
       "\n",
       "    .dataframe tbody tr th {\n",
       "        vertical-align: top;\n",
       "    }\n",
       "\n",
       "    .dataframe thead th {\n",
       "        text-align: right;\n",
       "    }\n",
       "</style>\n",
       "<table border=\"1\" class=\"dataframe\">\n",
       "  <thead>\n",
       "    <tr style=\"text-align: right;\">\n",
       "      <th></th>\n",
       "      <th>Name</th>\n",
       "      <th>Age</th>\n",
       "      <th>Subject</th>\n",
       "    </tr>\n",
       "  </thead>\n",
       "  <tbody>\n",
       "    <tr>\n",
       "      <th>2</th>\n",
       "      <td>Ram</td>\n",
       "      <td>18</td>\n",
       "      <td>Anthropology</td>\n",
       "    </tr>\n",
       "  </tbody>\n",
       "</table>\n",
       "</div>"
      ],
      "text/plain": [
       "  Name  Age       Subject\n",
       "2  Ram   18  Anthropology"
      ]
     },
     "execution_count": 35,
     "metadata": {},
     "output_type": "execute_result"
    }
   ],
   "source": [
    "print(\"First two rows:\\n\", df.head(2))  \n",
    "df.tail(1)  "
   ]
  },
  {
   "cell_type": "code",
   "execution_count": 37,
   "id": "af5287c6-e28b-431d-8cdb-ef114da1055a",
   "metadata": {},
   "outputs": [
    {
     "name": "stdout",
     "output_type": "stream",
     "text": [
      "Statistical Summary:\n",
      "              Age\n",
      "count   3.000000\n",
      "mean   14.666667\n",
      "std     3.055050\n",
      "min    12.000000\n",
      "25%    13.000000\n",
      "50%    14.000000\n",
      "75%    16.000000\n",
      "max    18.000000\n",
      "Info about DataFrame:\n",
      "\n",
      "<class 'pandas.core.frame.DataFrame'>\n",
      "RangeIndex: 3 entries, 0 to 2\n",
      "Data columns (total 3 columns):\n",
      " #   Column   Non-Null Count  Dtype \n",
      "---  ------   --------------  ----- \n",
      " 0   Name     3 non-null      object\n",
      " 1   Age      3 non-null      int64 \n",
      " 2   Subject  3 non-null      object\n",
      "dtypes: int64(1), object(2)\n",
      "memory usage: 204.0+ bytes\n"
     ]
    }
   ],
   "source": [
    "# Describe and Info Methods\n",
    "print(\"Statistical Summary:\\n\", df.describe())  # Get summary statistics\n",
    "print(\"Info about DataFrame:\\n\")\n",
    "df.info()  "
   ]
  },
  {
   "cell_type": "markdown",
   "id": "77aa8897-154b-4038-abd8-2d2d7556210a",
   "metadata": {},
   "source": [
    "# dropna() - Removing Missing Data"
   ]
  },
  {
   "cell_type": "code",
   "execution_count": 40,
   "id": "b686ac9c-91f4-4c9e-a898-7e4017504fe9",
   "metadata": {},
   "outputs": [],
   "source": [
    "# Drop rows containing NaN values"
   ]
  },
  {
   "cell_type": "code",
   "execution_count": 42,
   "id": "0655bea6-75d6-4d3c-b8e3-9b3b6c9adc7b",
   "metadata": {},
   "outputs": [
    {
     "name": "stdout",
     "output_type": "stream",
     "text": [
      "DataFrame After Dropping NaN:\n",
      "    Name  Age Subject\n",
      "0  Hari   12    Math\n"
     ]
    }
   ],
   "source": [
    "d = {\n",
    "    \"Name\": [\"Hari\", \"Shyam\", None],\n",
    "    \"Age\": [12, 14, 18],\n",
    "    \"Subject\": [\"Math\", None, \"Anthropology\"]\n",
    "}\n",
    "df_with_null = pd.DataFrame(d)\n",
    "df_no_null = df_with_null.dropna()\n",
    "print(\"DataFrame After Dropping NaN:\\n\", df_no_null)"
   ]
  },
  {
   "cell_type": "markdown",
   "id": "749de4eb-c0c8-4a61-a9e5-83180d806348",
   "metadata": {},
   "source": [
    "# fillna() - Replacing Missing Data"
   ]
  },
  {
   "cell_type": "code",
   "execution_count": 45,
   "id": "144c51c8-700d-47f0-88d2-5599e9433afd",
   "metadata": {},
   "outputs": [
    {
     "name": "stdout",
     "output_type": "stream",
     "text": [
      "After fillna(0):\n",
      "     Name  Age       Subject\n",
      "0   Hari   12          Math\n",
      "1  Shyam   14             0\n",
      "2      0   18  Anthropology\n"
     ]
    }
   ],
   "source": [
    "# Replace NaN with a default value\n",
    "\n",
    "df_filled = df_with_null.fillna(0)\n",
    "print(\"After fillna(0):\\n\", df_filled)"
   ]
  },
  {
   "cell_type": "markdown",
   "id": "47adc88d-e676-4a12-bc51-9dab4b1ddcfa",
   "metadata": {},
   "source": [
    "# Apply Function - Transforming Data"
   ]
  },
  {
   "cell_type": "code",
   "execution_count": 50,
   "id": "8404d95f-ac1e-4768-9fbe-dd9dcde3d31f",
   "metadata": {},
   "outputs": [
    {
     "name": "stdout",
     "output_type": "stream",
     "text": [
      "Age multiplied by 5:\n",
      " 0    60\n",
      "1    70\n",
      "2    90\n",
      "Name: Age, dtype: int64\n"
     ]
    }
   ],
   "source": [
    "# Apply a function to modify column values\n",
    "\n",
    "def multiply_by_five(x):\n",
    "    return x * 5\n",
    "\n",
    "d = {\n",
    "    \"Name\": [\"Hari\", \"Shyam\", None],\n",
    "    \"Age\": [12, 14, 18],\n",
    "    \"Subject\": [\"Math\", None, \"Anthropology\"]\n",
    "}\n",
    "df = pd.DataFrame(d)\n",
    "age_multiplied = df['Age'].apply(multiply_by_five)\n",
    "print(\"Age multiplied by 5:\\n\", age_multiplied)"
   ]
  },
  {
   "cell_type": "markdown",
   "id": "cb0bffab-fa64-4d41-9675-16029506e5c1",
   "metadata": {},
   "source": [
    "# Real-World Use Case - Merging Data"
   ]
  },
  {
   "cell_type": "code",
   "execution_count": 53,
   "id": "969ef709-3269-459b-bbd1-4bba5a9e67ea",
   "metadata": {},
   "outputs": [
    {
     "name": "stdout",
     "output_type": "stream",
     "text": [
      "Merged Customer Transactions:\n",
      "    Customer_ID     Name Location  Amount\n",
      "0            1    Alice       NY     250\n",
      "1            2      Bob       LA     120\n",
      "2            2      Bob       LA     300\n",
      "3            3  Charlie       TX     450\n"
     ]
    }
   ],
   "source": [
    "# Example: Combining Customer Info with Purchase History\n",
    "\n",
    "customers = {\n",
    "    \"Customer_ID\": [1, 2, 3],\n",
    "    \"Name\": [\"Alice\", \"Bob\", \"Charlie\"],\n",
    "    \"Location\": [\"NY\", \"LA\", \"TX\"]\n",
    "}\n",
    "df_customers = pd.DataFrame(customers)\n",
    "\n",
    "transactions = {\n",
    "    \"Customer_ID\": [1, 2, 2, 3],\n",
    "    \"Amount\": [250, 120, 300, 450]\n",
    "}\n",
    "df_transactions = pd.DataFrame(transactions)\n",
    "\n",
    "# Merge customer info with transactions\n",
    "merged_df = pd.merge(df_customers, df_transactions, on=\"Customer_ID\", how=\"inner\")\n",
    "print(\"Merged Customer Transactions:\\n\", merged_df)"
   ]
  },
  {
   "cell_type": "code",
   "execution_count": null,
   "id": "2f7fa975-af71-40cf-bf29-c072aba15c1a",
   "metadata": {},
   "outputs": [],
   "source": []
  }
 ],
 "metadata": {
  "kernelspec": {
   "display_name": "Python [conda env:base] *",
   "language": "python",
   "name": "conda-base-py"
  },
  "language_info": {
   "codemirror_mode": {
    "name": "ipython",
    "version": 3
   },
   "file_extension": ".py",
   "mimetype": "text/x-python",
   "name": "python",
   "nbconvert_exporter": "python",
   "pygments_lexer": "ipython3",
   "version": "3.12.7"
  }
 },
 "nbformat": 4,
 "nbformat_minor": 5
}
