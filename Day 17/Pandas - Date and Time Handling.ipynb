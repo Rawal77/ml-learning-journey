{
 "cells": [
  {
   "cell_type": "markdown",
   "id": "c7f0752e-7a9a-44cc-bf56-3759774b953b",
   "metadata": {},
   "source": [
    "# Pandas - Date and Time Handling"
   ]
  },
  {
   "cell_type": "code",
   "execution_count": 2,
   "id": "74c70fda-2a98-4a73-a23e-9e5b1533f172",
   "metadata": {},
   "outputs": [],
   "source": [
    "import pandas as pd"
   ]
  },
  {
   "cell_type": "markdown",
   "id": "bb8b4a9c-4d5f-4a9c-b95e-7e0ab782f8d4",
   "metadata": {},
   "source": [
    "### Converting a String to a Datetime Object\n",
    "\n",
    "The `to_datetime()` function converts string dates into datetime format."
   ]
  },
  {
   "cell_type": "code",
   "execution_count": 5,
   "id": "4ab6848e-1c89-4613-ba75-f843d9497e3f",
   "metadata": {},
   "outputs": [
    {
     "name": "stdout",
     "output_type": "stream",
     "text": [
      "Original data type: <class 'str'>\n",
      "Converted data type: <class 'pandas._libs.tslibs.timestamps.Timestamp'>\n"
     ]
    }
   ],
   "source": [
    "date = '2025-01-30'\n",
    "print(f\"Original data type: {type(date)}\")  # String type\n",
    "\n",
    "date = pd.to_datetime(date)  # Convert to datetime\n",
    "print(f\"Converted data type: {type(date)}\")  # Datetime object"
   ]
  },
  {
   "cell_type": "code",
   "execution_count": 10,
   "id": "e4d76b1c-208a-4bf7-84f5-c494078e6f97",
   "metadata": {},
   "outputs": [
    {
     "name": "stdout",
     "output_type": "stream",
     "text": [
      "Year: 2025\n",
      "Month: 1\n",
      "Day: 30\n"
     ]
    }
   ],
   "source": [
    "# Extracting date components\n",
    "\n",
    "print(f\"Year: {date.year}\")\n",
    "print(f\"Month: {date.month}\")\n",
    "print(f\"Day: {date.day}\")"
   ]
  },
  {
   "cell_type": "markdown",
   "id": "13621ca2-e6e9-41dc-ae2c-8054f43d72a2",
   "metadata": {},
   "source": [
    "### Converting a List of Date Strings to Datetime Objects"
   ]
  },
  {
   "cell_type": "code",
   "execution_count": 13,
   "id": "9110cd33-65f0-472e-875b-46b5307adccb",
   "metadata": {},
   "outputs": [
    {
     "name": "stdout",
     "output_type": "stream",
     "text": [
      "Original data type: <class 'list'>\n",
      "Converted data type: <class 'pandas.core.indexes.datetimes.DatetimeIndex'>\n"
     ]
    }
   ],
   "source": [
    "list_dates = ['2020-10-12', '2021-12-12', '2022-03-25', '2023-04-05']\n",
    "print(f\"Original data type: {type(list_dates)}\")\n",
    "\n",
    "list_dates = pd.to_datetime(list_dates)  # Convert list of strings to datetime\n",
    "print(f\"Converted data type: {type(list_dates)}\")"
   ]
  },
  {
   "cell_type": "code",
   "execution_count": 15,
   "id": "390e69a9-04a9-4efa-95b9-4e58f1ee563a",
   "metadata": {},
   "outputs": [
    {
     "name": "stdout",
     "output_type": "stream",
     "text": [
      "Years: [2020, 2021, 2022, 2023]\n",
      "Days: [12, 12, 25, 5]\n"
     ]
    }
   ],
   "source": [
    "# Extract components\n",
    "\n",
    "print(f\"Years: {list_dates.year.tolist()}\")  \n",
    "print(f\"Days: {list_dates.day.tolist()}\")  "
   ]
  },
  {
   "cell_type": "markdown",
   "id": "6a52457d-9179-419c-99e0-1666d5be0d48",
   "metadata": {},
   "source": [
    "### Converting a Column in a DataFrame to Datetime Objects"
   ]
  },
  {
   "cell_type": "code",
   "execution_count": 19,
   "id": "c2863d37-3c51-4426-90f9-6659d1b55331",
   "metadata": {},
   "outputs": [
    {
     "name": "stdout",
     "output_type": "stream",
     "text": [
      "       Dates\n",
      "0 2020-10-12\n",
      "1 2021-12-12\n",
      "2 2022-03-25\n",
      "3 2023-04-05\n"
     ]
    }
   ],
   "source": [
    "df = pd.DataFrame({'Dates': ['2020-10-12', '2021-12-12', '2022-03-25', '2023-04-05']})\n",
    "df['Dates'] = pd.to_datetime(df['Dates'])  # Convert column to datetime\n",
    "print(df)"
   ]
  },
  {
   "cell_type": "code",
   "execution_count": 21,
   "id": "d767d964-16ff-46f7-95e1-d2b461d58561",
   "metadata": {},
   "outputs": [
    {
     "name": "stdout",
     "output_type": "stream",
     "text": [
      "Hours: [0, 0, 0, 0]\n"
     ]
    }
   ],
   "source": [
    "# Extracting hours (default is 0 if time isn't specified)\n",
    "\n",
    "print(f\"Hours: {df['Dates'].dt.hour.tolist()}\")  "
   ]
  },
  {
   "cell_type": "markdown",
   "id": "5dd3c2d9-2e58-4287-9b8e-02ab3ec081a5",
   "metadata": {},
   "source": [
    "### Handling Date Formats with Different Separators"
   ]
  },
  {
   "cell_type": "code",
   "execution_count": 25,
   "id": "7439b790-aa98-48c3-8ff3-ce18745cb702",
   "metadata": {},
   "outputs": [
    {
     "name": "stdout",
     "output_type": "stream",
     "text": [
      "Formatted Date: 2020-12-12\n"
     ]
    }
   ],
   "source": [
    "dt = '2020/12/12'\n",
    "date = pd.to_datetime(dt, format='%Y/%m/%d')  # Explicit format specification\n",
    "formatted_date = date.strftime('%Y-%m-%d')  # Convert to another format\n",
    "print(f\"Formatted Date: {formatted_date}\")"
   ]
  },
  {
   "cell_type": "markdown",
   "id": "74f6e0d1-c171-43b8-99de-2ace2875ca02",
   "metadata": {},
   "source": [
    "### Generating Date Ranges with `date_range()`\n",
    "\n",
    "   This function generates sequences of dates with a specified frequency."
   ]
  },
  {
   "cell_type": "code",
   "execution_count": 28,
   "id": "7c7499e4-51b4-497a-a4b9-09a298a45b4a",
   "metadata": {},
   "outputs": [
    {
     "name": "stdout",
     "output_type": "stream",
     "text": [
      "DatetimeIndex(['2022-12-01', '2022-12-02', '2022-12-03', '2022-12-04',\n",
      "               '2022-12-05', '2022-12-06', '2022-12-07', '2022-12-08',\n",
      "               '2022-12-09', '2022-12-10', '2022-12-11', '2022-12-12',\n",
      "               '2022-12-13', '2022-12-14', '2022-12-15', '2022-12-16',\n",
      "               '2022-12-17', '2022-12-18', '2022-12-19', '2022-12-20',\n",
      "               '2022-12-21', '2022-12-22', '2022-12-23', '2022-12-24',\n",
      "               '2022-12-25', '2022-12-26', '2022-12-27', '2022-12-28',\n",
      "               '2022-12-29', '2022-12-30', '2022-12-31', '2023-01-01',\n",
      "               '2023-01-02', '2023-01-03', '2023-01-04', '2023-01-05',\n",
      "               '2023-01-06', '2023-01-07', '2023-01-08', '2023-01-09',\n",
      "               '2023-01-10', '2023-01-11', '2023-01-12', '2023-01-13',\n",
      "               '2023-01-14', '2023-01-15', '2023-01-16', '2023-01-17',\n",
      "               '2023-01-18', '2023-01-19', '2023-01-20', '2023-01-21',\n",
      "               '2023-01-22', '2023-01-23', '2023-01-24', '2023-01-25',\n",
      "               '2023-01-26', '2023-01-27', '2023-01-28', '2023-01-29',\n",
      "               '2023-01-30', '2023-01-31', '2023-02-01', '2023-02-02',\n",
      "               '2023-02-03', '2023-02-04', '2023-02-05', '2023-02-06',\n",
      "               '2023-02-07', '2023-02-08', '2023-02-09', '2023-02-10',\n",
      "               '2023-02-11', '2023-02-12', '2023-02-13'],\n",
      "              dtype='datetime64[ns]', freq='D')\n",
      "Day numbers: [1, 2, 3, 4, 5, 6, 7, 8, 9, 10, 11, 12, 13, 14, 15, 16, 17, 18, 19, 20, 21, 22, 23, 24, 25, 26, 27, 28, 29, 30, 31, 1, 2, 3, 4, 5, 6, 7, 8, 9, 10, 11, 12, 13, 14, 15, 16, 17, 18, 19, 20, 21, 22, 23, 24, 25, 26, 27, 28, 29, 30, 31, 1, 2, 3, 4, 5, 6, 7, 8, 9, 10, 11, 12, 13]\n"
     ]
    }
   ],
   "source": [
    "# Example: Generating a daily range from December 1, 2022, to February 13, 2023\n",
    "dates = pd.date_range('2022-12-01', '2023-02-13', freq='D')  \n",
    "print(dates)  \n",
    "\n",
    "# Extracting specific date components\n",
    "print(f\"Day numbers: {dates.day.tolist()}\")"
   ]
  },
  {
   "cell_type": "markdown",
   "id": "80ef6baf-c988-4974-838c-46d419fb6dea",
   "metadata": {},
   "source": [
    "### Formatting Dates with `strftime()`\n",
    "\n",
    "   `strftime()` allows formatting datetime objects into readable strings."
   ]
  },
  {
   "cell_type": "code",
   "execution_count": 31,
   "id": "423338ad-1fd6-47b2-9d3c-dd9626055c3f",
   "metadata": {},
   "outputs": [
    {
     "name": "stdout",
     "output_type": "stream",
     "text": [
      "YYYY-MM-DD format: 2023-12-13\n",
      "DD/MM/YYYY format: 13/12/2023\n",
      "Abbreviated month, day, and year: Dec 13, 2023\n",
      "Full month, day, and year: December 13, 2023\n",
      "DD-Abbreviated Month-YY format: 13-Dec-23\n"
     ]
    }
   ],
   "source": [
    "date = pd.to_datetime('2023-12-13')\n",
    "\n",
    "# Common date formats\n",
    "formats = [\n",
    "    (\"%Y-%m-%d\", \"YYYY-MM-DD format\"),\n",
    "    (\"%d/%m/%Y\", \"DD/MM/YYYY format\"),\n",
    "    (\"%b %d, %Y\", \"Abbreviated month, day, and year\"),\n",
    "    (\"%B %d, %Y\", \"Full month, day, and year\"),\n",
    "    (\"%d-%b-%y\", \"DD-Abbreviated Month-YY format\"),\n",
    "]\n",
    "\n",
    "for fmt, desc in formats:\n",
    "    formatted_date = date.strftime(fmt)\n",
    "    print(f\"{desc}: {formatted_date}\")"
   ]
  },
  {
   "cell_type": "markdown",
   "id": "5dd37a11-20c1-47f9-a380-2d09235017e2",
   "metadata": {},
   "source": [
    "### Working with Pandas Timestamps"
   ]
  },
  {
   "cell_type": "code",
   "execution_count": null,
   "id": "b5bad6af-c7d0-4632-bd48-fa11ccd57589",
   "metadata": {},
   "outputs": [],
   "source": [
    "timestamp = pd.Timestamp('2020-12-16 12:12:54')\n",
    "print(f\"Timestamp: {timestamp}\")\n",
    "\n",
    "# Extracting components\n",
    "print(f\"Year: {timestamp.year}\")\n",
    "print(f\"Month: {timestamp.month}\")\n",
    "print(f\"Day: {timestamp.day}\")\n",
    "print(f\"Hour: {timestamp.hour}\")\n",
    "print(f\"Minute: {timestamp.minute}\")\n",
    "print(f\"Second: {timestamp.second}\")"
   ]
  },
  {
   "cell_type": "markdown",
   "id": "9ab24161-49da-47c4-964d-cd48e16d5836",
   "metadata": {},
   "source": [
    "### Converting Unix Timestamps to Datetime\n",
    "    \n",
    "    Unix timestamps represent seconds since January 1, 1970 (Epoch Time)."
   ]
  },
  {
   "cell_type": "code",
   "execution_count": 40,
   "id": "e69ddab9-ea3e-4073-a5ab-d683e36a795a",
   "metadata": {},
   "outputs": [
    {
     "name": "stdout",
     "output_type": "stream",
     "text": [
      "Converted Datetime: 2024-01-01 00:00:00\n"
     ]
    }
   ],
   "source": [
    "unix_time = 1704067200  # Unix timestamp for 2024-01-01 00:00:00\n",
    "converted_time = pd.to_datetime(unix_time, unit='s')\n",
    "print(f\"Converted Datetime: {converted_time}\")"
   ]
  },
  {
   "cell_type": "markdown",
   "id": "153b634d-f80f-452b-a427-e82e941d80cf",
   "metadata": {},
   "source": [
    "### Calculating Date Differences (Time Deltas)"
   ]
  },
  {
   "cell_type": "code",
   "execution_count": 43,
   "id": "3a0eb183-8761-4e65-b618-b0fe6e69b9b4",
   "metadata": {},
   "outputs": [
    {
     "name": "stdout",
     "output_type": "stream",
     "text": [
      "Days between 2023-12-01 and 2023-12-25: 24 days\n"
     ]
    }
   ],
   "source": [
    "date1 = pd.to_datetime(\"2023-12-01\")\n",
    "date2 = pd.to_datetime(\"2023-12-25\")\n",
    "\n",
    "delta = date2 - date1  # Difference between two dates\n",
    "print(f\"Days between {date1.date()} and {date2.date()}: {delta.days} days\")"
   ]
  },
  {
   "cell_type": "markdown",
   "id": "e4a7381e-6620-47cb-9b41-741443e9ea59",
   "metadata": {},
   "source": [
    "### Adding and Subtracting Time Periods"
   ]
  },
  {
   "cell_type": "code",
   "execution_count": 46,
   "id": "a2496b67-8817-4324-98ca-32386641ba25",
   "metadata": {},
   "outputs": [
    {
     "name": "stdout",
     "output_type": "stream",
     "text": [
      "Today: 2023-12-01\n",
      "After 7 days: 2023-12-08\n",
      "Month-end: 2023-12-31\n"
     ]
    }
   ],
   "source": [
    "from pandas.tseries.offsets import Day, MonthEnd\n",
    "\n",
    "today = pd.to_datetime(\"2023-12-01\")\n",
    "\n",
    "# Adding days\n",
    "print(f\"Today: {today.date()}\")\n",
    "print(f\"After 7 days: {(today + Day(7)).date()}\")\n",
    "\n",
    "# Moving to the end of the month\n",
    "print(f\"Month-end: {(today + MonthEnd(0)).date()}\")"
   ]
  },
  {
   "cell_type": "code",
   "execution_count": null,
   "id": "669a78b4-810e-4985-b30d-e7535e881886",
   "metadata": {},
   "outputs": [],
   "source": []
  },
  {
   "cell_type": "code",
   "execution_count": null,
   "id": "63c64a07-dc30-4055-a8fd-d31c666dab24",
   "metadata": {},
   "outputs": [],
   "source": []
  }
 ],
 "metadata": {
  "kernelspec": {
   "display_name": "Python 3 (ipykernel)",
   "language": "python",
   "name": "python3"
  },
  "language_info": {
   "codemirror_mode": {
    "name": "ipython",
    "version": 3
   },
   "file_extension": ".py",
   "mimetype": "text/x-python",
   "name": "python",
   "nbconvert_exporter": "python",
   "pygments_lexer": "ipython3",
   "version": "3.12.7"
  }
 },
 "nbformat": 4,
 "nbformat_minor": 5
}
