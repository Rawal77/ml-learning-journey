{
 "cells": [
  {
   "cell_type": "markdown",
   "id": "37246dac-354e-4bb2-9040-420144749bda",
   "metadata": {},
   "source": [
    "# Day 6: Advanced NumPy Operations – Iteration, Updates, and Array Manipulation"
   ]
  },
  {
   "cell_type": "markdown",
   "id": "2e676285-9753-412f-85da-9b332dfaa30e",
   "metadata": {},
   "source": [
    "### Array from Numerical Ranges"
   ]
  },
  {
   "cell_type": "code",
   "execution_count": 13,
   "id": "c5707f16-46f0-4d71-aa52-6cd25f30fc1e",
   "metadata": {},
   "outputs": [],
   "source": [
    "import numpy as np"
   ]
  },
  {
   "cell_type": "code",
   "execution_count": 15,
   "id": "24685f98-db26-4db3-a821-f51a570cfd91",
   "metadata": {},
   "outputs": [
    {
     "name": "stdout",
     "output_type": "stream",
     "text": [
      "Array using arange: [0 2 4 6 8]\n"
     ]
    }
   ],
   "source": [
    "# Using `arange` (similar to Python's `range`)\n",
    "\n",
    "\n",
    "arr = np.arange(0, 10, 2, dtype=np.uint)  # Creates an array from 0 to 10 with a step of 2\n",
    "print(\"Array using arange:\", arr)"
   ]
  },
  {
   "cell_type": "code",
   "execution_count": 17,
   "id": "ab0f645a-8d91-4bd6-be0f-3a0f81cfa05a",
   "metadata": {},
   "outputs": [
    {
     "name": "stdout",
     "output_type": "stream",
     "text": [
      "Array using linspace: [1.         2.28571429 3.57142857 4.85714286 6.14285714 7.42857143\n",
      " 8.71428571]\n"
     ]
    }
   ],
   "source": [
    "# Using `linspace` (evenly spaced numbers between a range)\n",
    "\n",
    "ar = np.linspace(1, 10, num=7, endpoint=False)  # Generates 7 evenly spaced numbers (excludes endpoint)\n",
    "print(\"Array using linspace:\", ar)"
   ]
  },
  {
   "cell_type": "code",
   "execution_count": 21,
   "id": "3e025356-b04e-4d05-b186-f6ac415c9b75",
   "metadata": {},
   "outputs": [
    {
     "name": "stdout",
     "output_type": "stream",
     "text": [
      "Array using logspace: [1.00000000e-05 5.62341325e-02 3.16227766e+02 1.77827941e+06\n",
      " 1.00000000e+10]\n"
     ]
    }
   ],
   "source": [
    "# Using `logspace` (logarithmically spaced numbers)\n",
    "\n",
    "ar = np.logspace(-5, 10, num=5)  # Generates numbers spaced logarithmically\n",
    "print(\"Array using logspace:\", ar)"
   ]
  },
  {
   "cell_type": "markdown",
   "id": "fe4de473-9e72-4f3b-a6bb-871bc44730f9",
   "metadata": {},
   "source": [
    "### NumPy Array Iteration"
   ]
  },
  {
   "cell_type": "code",
   "execution_count": 24,
   "id": "14bfe4f5-7a93-4d18-a61e-54cd6ec60298",
   "metadata": {},
   "outputs": [
    {
     "name": "stdout",
     "output_type": "stream",
     "text": [
      "\n",
      "Iterating over 1D array:\n",
      "1\n",
      "2\n",
      "3\n",
      "4\n",
      "5\n"
     ]
    }
   ],
   "source": [
    "# Iterating over a 1D array\n",
    "\n",
    "arr = np.array([1, 2, 3, 4, 5])\n",
    "print(\"\\nIterating over 1D array:\")\n",
    "for i in arr:\n",
    "    print(i)"
   ]
  },
  {
   "cell_type": "code",
   "execution_count": 26,
   "id": "c01b558e-62fb-4918-85ac-b1f97abbebd4",
   "metadata": {},
   "outputs": [
    {
     "name": "stdout",
     "output_type": "stream",
     "text": [
      "\n",
      "Iterating over 2D array (row-wise):\n",
      "Row: [1 2 3]\n",
      "Value: 1\n",
      "Value: 2\n",
      "Value: 3\n",
      "Row: [4 5 6]\n",
      "Value: 4\n",
      "Value: 5\n",
      "Value: 6\n"
     ]
    }
   ],
   "source": [
    "# Iterating over a 2D array\n",
    "\n",
    "arr_2d = np.array([\n",
    "    [1, 2, 3],\n",
    "    [4, 5, 6]\n",
    "])\n",
    "print(\"\\nIterating over 2D array (row-wise):\")\n",
    "for row in arr_2d:\n",
    "    print(f\"Row: {row}\")\n",
    "    for value in row:\n",
    "        print(f\"Value: {value}\")\n"
   ]
  },
  {
   "cell_type": "code",
   "execution_count": 28,
   "id": "18d91f88-be69-49e4-8161-b9e42158a7cb",
   "metadata": {},
   "outputs": [
    {
     "name": "stdout",
     "output_type": "stream",
     "text": [
      "\n",
      "Column-wise iteration using nditer:\n",
      "1\n",
      "4\n",
      "7\n",
      "2\n",
      "5\n",
      "8\n",
      "3\n",
      "6\n",
      "9\n"
     ]
    }
   ],
   "source": [
    "# Using `nditer` for flexible iteration\n",
    "\n",
    "print(\"\\nColumn-wise iteration using nditer:\")\n",
    "arr = np.array([\n",
    "    [1, 2, 3],\n",
    "    [4, 5, 6],\n",
    "    [7, 8, 9]\n",
    "])\n",
    "for val in np.nditer(arr, order=\"F\"):  # \"C\" for row-first, \"F\" for column-first\n",
    "    print(val)\n"
   ]
  },
  {
   "cell_type": "code",
   "execution_count": 30,
   "id": "75f7bea4-9804-43ac-8172-367b6ecb4817",
   "metadata": {},
   "outputs": [
    {
     "name": "stdout",
     "output_type": "stream",
     "text": [
      "\n",
      "Using ndenumerate:\n",
      "Index: (0, 0), Value: 1\n",
      "Index: (0, 1), Value: 2\n",
      "Index: (0, 2), Value: 3\n",
      "Index: (1, 0), Value: 4\n",
      "Index: (1, 1), Value: 5\n",
      "Index: (1, 2), Value: 6\n",
      "Index: (2, 0), Value: 7\n",
      "Index: (2, 1), Value: 8\n",
      "Index: (2, 2), Value: 9\n"
     ]
    }
   ],
   "source": [
    "# Using `ndenumerate` to get indices and values\n",
    "\n",
    "print(\"\\nUsing ndenumerate:\")\n",
    "for idx, val in np.ndenumerate(arr):\n",
    "    print(f\"Index: {idx}, Value: {val}\")"
   ]
  },
  {
   "cell_type": "markdown",
   "id": "8bbc6932-cd51-4a2f-b707-7f73bca4025d",
   "metadata": {},
   "source": [
    "### Updating Array Elements"
   ]
  },
  {
   "cell_type": "code",
   "execution_count": 33,
   "id": "47111561-788f-4f73-837f-27d0fea13fa2",
   "metadata": {},
   "outputs": [
    {
     "name": "stdout",
     "output_type": "stream",
     "text": [
      "\n",
      "Array before fill: [0. 0. 0. 0.]\n",
      "Array after fill: [10. 10. 10. 10.]\n"
     ]
    }
   ],
   "source": [
    "# Using `fill` to update all elements\n",
    "\n",
    "arr = np.zeros(4)\n",
    "print(\"\\nArray before fill:\", arr)\n",
    "arr.fill(10)  # Updates all elements to 10\n",
    "print(\"Array after fill:\", arr)"
   ]
  },
  {
   "cell_type": "code",
   "execution_count": 35,
   "id": "7b811939-448e-4194-ad33-3df696f22556",
   "metadata": {},
   "outputs": [
    {
     "name": "stdout",
     "output_type": "stream",
     "text": [
      "\n",
      "Updated array: [ 1 10 20  4  5]\n"
     ]
    }
   ],
   "source": [
    "# Using indexing to update specific elements\n",
    "\n",
    "arr = np.array([1, 2, 3, 4, 5])\n",
    "arr[1:3] = [10, 20]  # Updates elements at index 1 and 2\n",
    "print(\"\\nUpdated array:\", arr)"
   ]
  },
  {
   "cell_type": "code",
   "execution_count": 37,
   "id": "6021f8ce-293f-4741-9af0-2277ee57cb5c",
   "metadata": {},
   "outputs": [
    {
     "name": "stdout",
     "output_type": "stream",
     "text": [
      "Array after np.put: [99 10 20  4 77]\n"
     ]
    }
   ],
   "source": [
    "# Using `np.put` to update specific indices\n",
    "\n",
    "np.put(arr, [0, 4], [99, 77])  # Updates values at index 0 and 4\n",
    "print(\"Array after np.put:\", arr)"
   ]
  },
  {
   "cell_type": "code",
   "execution_count": 39,
   "id": "e4e38ac1-42bd-4e5d-b382-f03daa9b7e19",
   "metadata": {},
   "outputs": [
    {
     "name": "stdout",
     "output_type": "stream",
     "text": [
      "Array after conditional update: [42 42 42 42 42]\n"
     ]
    }
   ],
   "source": [
    "# Conditional updates\n",
    "\n",
    "arr[arr > 3] = 42  # Updates elements greater than 3\n",
    "print(\"Array after conditional update:\", arr)"
   ]
  },
  {
   "cell_type": "markdown",
   "id": "cb8ec046-3859-4183-bac9-154500664083",
   "metadata": {},
   "source": [
    "### Array Manipulation Operations"
   ]
  },
  {
   "cell_type": "code",
   "execution_count": 42,
   "id": "bae1de12-3fe6-44ab-a392-e8807d1233dd",
   "metadata": {},
   "outputs": [
    {
     "name": "stdout",
     "output_type": "stream",
     "text": [
      "\n",
      "Reshaped array:\n",
      " [[1 2]\n",
      " [3 4]\n",
      " [5 6]]\n"
     ]
    }
   ],
   "source": [
    "# Reshape\n",
    "\n",
    "ar = np.array([1, 2, 3, 4, 5, 6])\n",
    "reshaped_ar = np.reshape(ar, (3, 2))  # Converts 1D array to 3x2\n",
    "print(\"\\nReshaped array:\\n\", reshaped_ar)"
   ]
  },
  {
   "cell_type": "code",
   "execution_count": 44,
   "id": "db3d2ad8-fcfc-481d-909b-ed4bb53882eb",
   "metadata": {},
   "outputs": [
    {
     "name": "stdout",
     "output_type": "stream",
     "text": [
      "Flattened array: [1 2 3 4 5 6]\n"
     ]
    }
   ],
   "source": [
    "# Flatten (creates a new 1D array)\n",
    "\n",
    "flat_arr = reshaped_ar.flatten()\n",
    "print(\"Flattened array:\", flat_arr)"
   ]
  },
  {
   "cell_type": "code",
   "execution_count": 46,
   "id": "0201393d-cb35-4d92-a177-383b2528b300",
   "metadata": {},
   "outputs": [
    {
     "name": "stdout",
     "output_type": "stream",
     "text": [
      "Raveled array (view): [1 2 3 4 5 6]\n"
     ]
    }
   ],
   "source": [
    "# Ravel (creates a view, not a new array)\n",
    "\n",
    "ravel_arr = reshaped_ar.ravel()\n",
    "print(\"Raveled array (view):\", ravel_arr)"
   ]
  },
  {
   "cell_type": "code",
   "execution_count": 48,
   "id": "357428d2-6c8b-4f9c-8084-710516e8039a",
   "metadata": {},
   "outputs": [
    {
     "name": "stdout",
     "output_type": "stream",
     "text": [
      "\n",
      "Concatenated array: [1 2 3 4 5 6]\n"
     ]
    }
   ],
   "source": [
    "# Concatenate arrays\n",
    "\n",
    "a1 = np.array([1, 2, 3])\n",
    "a2 = np.array([4, 5, 6])\n",
    "concatenated = np.concatenate((a1, a2))  # Concatenates 1D arrays\n",
    "print(\"\\nConcatenated array:\", concatenated)"
   ]
  },
  {
   "cell_type": "code",
   "execution_count": 50,
   "id": "a64f228a-4d32-4177-8849-34b76a0a2564",
   "metadata": {},
   "outputs": [
    {
     "name": "stdout",
     "output_type": "stream",
     "text": [
      "\n",
      "Original matrix:\n",
      " [[1 2 3]\n",
      " [4 5 6]\n",
      " [7 8 9]]\n",
      "Transposed matrix:\n",
      " [[1 4 7]\n",
      " [2 5 8]\n",
      " [3 6 9]]\n"
     ]
    }
   ],
   "source": [
    "# Transpose operation\n",
    "\n",
    "matrix = np.array([\n",
    "    [1, 2, 3],\n",
    "    [4, 5, 6],\n",
    "    [7, 8, 9]\n",
    "])\n",
    "transposed_matrix = np.transpose(matrix)\n",
    "print(\"\\nOriginal matrix:\\n\", matrix)\n",
    "print(\"Transposed matrix:\\n\", transposed_matrix)"
   ]
  },
  {
   "cell_type": "code",
   "execution_count": 52,
   "id": "08e2174d-acd5-4b36-bbdc-e6d029296d9d",
   "metadata": {},
   "outputs": [
    {
     "name": "stdout",
     "output_type": "stream",
     "text": [
      "\n",
      "Split arrays: [array([1, 2]), array([3, 4]), array([5, 6])]\n"
     ]
    }
   ],
   "source": [
    "# Splitting arrays\n",
    "\n",
    "split_arr = np.split(np.array([1, 2, 3, 4, 5, 6]), 3)  # Splits array into 3 parts\n",
    "print(\"\\nSplit arrays:\", split_arr)"
   ]
  }
 ],
 "metadata": {
  "kernelspec": {
   "display_name": "Python [conda env:base] *",
   "language": "python",
   "name": "conda-base-py"
  },
  "language_info": {
   "codemirror_mode": {
    "name": "ipython",
    "version": 3
   },
   "file_extension": ".py",
   "mimetype": "text/x-python",
   "name": "python",
   "nbconvert_exporter": "python",
   "pygments_lexer": "ipython3",
   "version": "3.12.7"
  }
 },
 "nbformat": 4,
 "nbformat_minor": 5
}
