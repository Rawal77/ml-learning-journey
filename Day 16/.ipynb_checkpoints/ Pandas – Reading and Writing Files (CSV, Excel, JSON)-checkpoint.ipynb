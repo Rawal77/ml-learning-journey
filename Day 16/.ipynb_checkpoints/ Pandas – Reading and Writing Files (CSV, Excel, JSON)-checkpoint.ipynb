{
 "cells": [
  {
   "cell_type": "markdown",
   "id": "f576600e-1243-4fb1-90a7-77def96ebc0c",
   "metadata": {},
   "source": [
    "# Reading CSV Files "
   ]
  },
  {
   "cell_type": "code",
   "execution_count": 4,
   "id": "a6e7e21e-dc27-413e-a385-8bc0cdf87d30",
   "metadata": {},
   "outputs": [],
   "source": [
    "# What is a CSV file?\n",
    "\n",
    "# A CSV (Comma-Separated Values) file stores tabular data in plain text.\n",
    "# Each line corresponds to a row, and values are separated by commas."
   ]
  },
  {
   "cell_type": "code",
   "execution_count": 64,
   "id": "11e5b67b-8222-4aa4-99c3-cc175695a083",
   "metadata": {},
   "outputs": [],
   "source": [
    "# Let's assume we have a folder named `data_sets` containing a file `sample_data.csv`.\n",
    "\n",
    "df = pd.read_csv('data_sets/sample_data.csv')"
   ]
  },
  {
   "cell_type": "code",
   "execution_count": 66,
   "id": "c6acf03c-3838-458a-8d87-b3f0866fb734",
   "metadata": {},
   "outputs": [
    {
     "name": "stdout",
     "output_type": "stream",
     "text": [
      "    ID       Name  Age             Subject        Address ContactNumber\n",
      "0    1       John   25                Math    123 Main St      555-1234\n",
      "1    2       Emma   30             Science     456 Elm St      555-5678\n",
      "2    3    Michael   28             English     789 Oak St      555-9876\n",
      "3    4     Sophia   32             History    321 Pine St      555-4321\n",
      "4    5    William   27           Geography   987 Maple St      555-8765\n",
      "5    6     Olivia   31             Physics   654 Cedar St      555-2468\n",
      "6    7      James   26           Chemistry   321 Birch St      555-1357\n",
      "7    8        Ava   29             Biology  876 Willow St      555-8642\n",
      "8    9   Benjamin   33            Computer  543 Cherry St      555-9753\n",
      "9   10   Isabella   27                 Art  210 Spruce St      555-6312\n",
      "10  11      Jacob   29               Music     876 Elm St      555-8402\n",
      "11  12        Mia   34  Physical Education     543 Oak St      555-3201\n",
      "12  13      Henry   26          Literature    987 Pine St      555-5012\n",
      "13  14  Charlotte   30      Social Studies   654 Cedar St      555-7463\n",
      "14  15     Daniel   28           Economics   321 Birch St      555-2094\n",
      "15  16     Amelia   31          Psychology  210 Willow St      555-8723\n",
      "16  17      David   27           Sociology   876 Maple St      555-6402\n",
      "17  18      Emily   32   Political Science     543 Elm St      555-1298\n",
      "18  19  Alexander   30            Business     987 Oak St      555-7531\n",
      "19  20      Grace   29    Foreign Language    654 Pine St      555-4129\n"
     ]
    }
   ],
   "source": [
    "# Display the entire DataFrame\n",
    "print(df)"
   ]
  },
  {
   "cell_type": "code",
   "execution_count": 68,
   "id": "ee1248ea-947d-4c5d-a604-8bb7065b0928",
   "metadata": {},
   "outputs": [
    {
     "name": "stdout",
     "output_type": "stream",
     "text": [
      "   ID     Name  Age    Subject       Address ContactNumber\n",
      "0   1     John   25       Math   123 Main St      555-1234\n",
      "1   2     Emma   30    Science    456 Elm St      555-5678\n",
      "2   3  Michael   28    English    789 Oak St      555-9876\n",
      "3   4   Sophia   32    History   321 Pine St      555-4321\n",
      "4   5  William   27  Geography  987 Maple St      555-8765\n"
     ]
    }
   ],
   "source": [
    "# Display the first 5 rows (by default, head() returns the first 5 rows)\n",
    "\n",
    "print(df.head())"
   ]
  },
  {
   "cell_type": "code",
   "execution_count": 70,
   "id": "e1d2d64d-f3dc-415d-ab8a-6260e125c19c",
   "metadata": {},
   "outputs": [
    {
     "name": "stdout",
     "output_type": "stream",
     "text": [
      "ID               20\n",
      "Name             20\n",
      "Age              20\n",
      "Subject          20\n",
      "Address          20\n",
      "ContactNumber    20\n",
      "dtype: int64\n"
     ]
    }
   ],
   "source": [
    "# Count the number of non-null (non-empty) values in each column\n",
    "\n",
    "print(df.count())  # This helps check if there are missing values."
   ]
  },
  {
   "cell_type": "code",
   "execution_count": 72,
   "id": "7135e227-eb44-402c-b0b4-6000b105983b",
   "metadata": {},
   "outputs": [
    {
     "name": "stdout",
     "output_type": "stream",
     "text": [
      "(20, 6)\n"
     ]
    }
   ],
   "source": [
    "# Get the shape of the DataFrame (rows, columns)\n",
    "\n",
    "print(df.shape)  # (number of rows, number of columns)"
   ]
  },
  {
   "cell_type": "code",
   "execution_count": 74,
   "id": "be172d81-7fce-4045-a6ec-bbe1a08277d5",
   "metadata": {},
   "outputs": [
    {
     "name": "stdout",
     "output_type": "stream",
     "text": [
      "0          John\n",
      "1          Emma\n",
      "2       Michael\n",
      "3        Sophia\n",
      "4       William\n",
      "5        Olivia\n",
      "6         James\n",
      "7           Ava\n",
      "8      Benjamin\n",
      "9      Isabella\n",
      "10        Jacob\n",
      "11          Mia\n",
      "12        Henry\n",
      "13    Charlotte\n",
      "14       Daniel\n",
      "15       Amelia\n",
      "16        David\n",
      "17        Emily\n",
      "18    Alexander\n",
      "19        Grace\n",
      "Name: Name, dtype: object\n"
     ]
    }
   ],
   "source": [
    "# Select a single column\n",
    "\n",
    "print(df['Name'])  # Extracts only the \"Name\" column"
   ]
  },
  {
   "cell_type": "code",
   "execution_count": 76,
   "id": "926b1b26-c127-48e3-a1d6-90791032b1cc",
   "metadata": {},
   "outputs": [
    {
     "name": "stdout",
     "output_type": "stream",
     "text": [
      "         Name        Address\n",
      "0        John    123 Main St\n",
      "1        Emma     456 Elm St\n",
      "2     Michael     789 Oak St\n",
      "3      Sophia    321 Pine St\n",
      "4     William   987 Maple St\n",
      "5      Olivia   654 Cedar St\n",
      "6       James   321 Birch St\n",
      "7         Ava  876 Willow St\n",
      "8    Benjamin  543 Cherry St\n",
      "9    Isabella  210 Spruce St\n",
      "10      Jacob     876 Elm St\n",
      "11        Mia     543 Oak St\n",
      "12      Henry    987 Pine St\n",
      "13  Charlotte   654 Cedar St\n",
      "14     Daniel   321 Birch St\n",
      "15     Amelia  210 Willow St\n",
      "16      David   876 Maple St\n",
      "17      Emily     543 Elm St\n",
      "18  Alexander     987 Oak St\n",
      "19      Grace    654 Pine St\n"
     ]
    }
   ],
   "source": [
    "# Select multiple columns\n",
    "\n",
    "print(df[['Name', 'Address']])  # Extracts \"Name\" and \"Address\" columns"
   ]
  },
  {
   "cell_type": "markdown",
   "id": "1d8089dc-204e-4147-b4a3-e2d3757a11c1",
   "metadata": {},
   "source": [
    "# Writing CSV Files "
   ]
  },
  {
   "cell_type": "code",
   "execution_count": 79,
   "id": "585973ec-f560-4ce5-9bf1-8ca41fbd2124",
   "metadata": {},
   "outputs": [],
   "source": [
    "# 🔹 What is writing a CSV file?\n",
    "\n",
    "# Writing a DataFrame to a CSV file allows us to store and share data in a structured format."
   ]
  },
  {
   "cell_type": "code",
   "execution_count": 81,
   "id": "e8d72ae1-e2cb-4cd7-a4f0-880d9ef5cc4a",
   "metadata": {},
   "outputs": [],
   "source": [
    "df = pd.DataFrame({\n",
    "    'Name': ['Ram', 'Shyam', 'Hari'],\n",
    "    'Age': [12, 13, 14],\n",
    "    'City': ['Ktm', 'Bkt', 'Pkr']\n",
    "})"
   ]
  },
  {
   "cell_type": "code",
   "execution_count": 83,
   "id": "dcef25b3-a755-4b07-bd27-98fa0d4b4bc7",
   "metadata": {},
   "outputs": [],
   "source": [
    "# 📌 Save the DataFrame to a CSV file inside `data_sets`\n",
    "\n",
    "df.to_csv('data_sets/csv.csv', index=False)  # index=False prevents writing row indices"
   ]
  },
  {
   "cell_type": "code",
   "execution_count": 85,
   "id": "a60135cd-5e4b-45fe-b8c8-aa85139cec38",
   "metadata": {},
   "outputs": [
    {
     "name": "stdout",
     "output_type": "stream",
     "text": [
      "    Name  Age City\n",
      "0    Ram   12  Ktm\n",
      "1  Shyam   13  Bkt\n",
      "2   Hari   14  Pkr\n"
     ]
    }
   ],
   "source": [
    "# 📌 Read the newly created CSV file\n",
    "\n",
    "df = pd.read_csv('data_sets/csv.csv')\n",
    "print(df)"
   ]
  },
  {
   "cell_type": "markdown",
   "id": "7caab9b4-f8e4-47ea-b3b5-e5ea4f27fc12",
   "metadata": {},
   "source": [
    "# Reading Excel Files"
   ]
  },
  {
   "cell_type": "code",
   "execution_count": 88,
   "id": "2a0f56c0-a112-40a3-8a2f-51641d01b14b",
   "metadata": {},
   "outputs": [],
   "source": [
    "# What is an Excel file?\n",
    "\n",
    "# Excel files (XLSX) store structured data in multiple sheets.\n",
    "# Pandas allows us to read specific sheets using `sheet_name`."
   ]
  },
  {
   "cell_type": "code",
   "execution_count": 90,
   "id": "05c3e3ad-d6f1-443a-a49f-83d0d7d23d1a",
   "metadata": {},
   "outputs": [],
   "source": [
    "df = pd.read_excel('data_sets/sample_data.xlsx', sheet_name=\"Sheet1\")  \n",
    "\n",
    "# `sheet_name=\"Sheet1\"` specifies which sheet to read"
   ]
  },
  {
   "cell_type": "code",
   "execution_count": 92,
   "id": "eddd09bf-34ef-44a9-a267-610b0d65d5fa",
   "metadata": {},
   "outputs": [
    {
     "name": "stdout",
     "output_type": "stream",
     "text": [
      "    ID       Name  Age             Subject        Address Contact Number\n",
      "0    1       John   25                Math    123 Main St       555-1234\n",
      "1    2       Emma   30             Science     456 Elm St       555-5678\n",
      "2    3    Michael   28             English     789 Oak St       555-9876\n",
      "3    4     Sophia   32             History    321 Pine St       555-4321\n",
      "4    5    William   27           Geography   987 Maple St       555-8765\n",
      "5    6     Olivia   31             Physics   654 Cedar St       555-2468\n",
      "6    7      James   26           Chemistry   321 Birch St       555-1357\n",
      "7    8        Ava   29             Biology  876 Willow St       555-8642\n",
      "8    9   Benjamin   33            Computer  543 Cherry St       555-9753\n",
      "9   10   Isabella   27                 Art  210 Spruce St       555-6312\n",
      "10  11      Jacob   29               Music     876 Elm St       555-8402\n",
      "11  12        Mia   34  Physical Education     543 Oak St       555-3201\n",
      "12  13      Henry   26          Literature    987 Pine St       555-5012\n",
      "13  14  Charlotte   30      Social Studies   654 Cedar St       555-7463\n",
      "14  15     Daniel   28           Economics   321 Birch St       555-2094\n",
      "15  16     Amelia   31          Psychology  210 Willow St       555-8723\n",
      "16  17      David   27           Sociology   876 Maple St       555-6402\n",
      "17  18      Emily   32   Political Science     543 Elm St       555-1298\n",
      "18  19  Alexander   30            Business     987 Oak St       555-7531\n",
      "19  20      Grace   29    Foreign Language    654 Pine St       555-4129\n"
     ]
    }
   ],
   "source": [
    "print(df)"
   ]
  },
  {
   "cell_type": "markdown",
   "id": "fdc4b095-e7d1-496c-9f92-921f115ebe02",
   "metadata": {},
   "source": [
    "# Writing Excel Files "
   ]
  },
  {
   "cell_type": "code",
   "execution_count": 95,
   "id": "43af8553-0586-4898-9e5b-ba7518ba10e0",
   "metadata": {},
   "outputs": [],
   "source": [
    "df = pd.DataFrame({\n",
    "    'Name': ['Ram', 'Shyam', 'Hari'],\n",
    "    'Age': [12, 13, 14],\n",
    "    'City': ['Ktm', 'Bkt', 'Pkr']\n",
    "})\n",
    "\n",
    "# Using ExcelWriter for better control over writing Excel files\n",
    "writer = pd.ExcelWriter('data_sets/excel.xlsx')"
   ]
  },
  {
   "cell_type": "code",
   "execution_count": 97,
   "id": "02e4418b-8287-4e5c-a015-65eaf0a755a5",
   "metadata": {},
   "outputs": [],
   "source": [
    "# Save DataFrame to an Excel file without writing index values\n",
    "\n",
    "df.to_excel(writer, index=False)"
   ]
  },
  {
   "cell_type": "code",
   "execution_count": 99,
   "id": "b28ec35d-8730-4b0a-ad45-16cc78a62678",
   "metadata": {},
   "outputs": [],
   "source": [
    "# Save and close the file\n",
    "\n",
    "writer._save()"
   ]
  },
  {
   "cell_type": "code",
   "execution_count": 101,
   "id": "17ba248c-8b51-4020-802c-4b21ba5fb4af",
   "metadata": {},
   "outputs": [
    {
     "name": "stdout",
     "output_type": "stream",
     "text": [
      "    Name  Age City\n",
      "0    Ram   12  Ktm\n",
      "1  Shyam   13  Bkt\n",
      "2   Hari   14  Pkr\n"
     ]
    }
   ],
   "source": [
    "#  Read the Excel file back into a DataFrame\n",
    "\n",
    "df_read = pd.read_excel('data_sets/excel.xlsx', sheet_name=\"Sheet1\")\n",
    "print(df_read)"
   ]
  },
  {
   "cell_type": "markdown",
   "id": "8c60ba07-7a8e-4796-9862-5d6b3b759dae",
   "metadata": {},
   "source": [
    "# Reading JSON File"
   ]
  },
  {
   "cell_type": "code",
   "execution_count": 104,
   "id": "a979af5a-39a7-4f6c-8b7c-4a9bb51d6a58",
   "metadata": {},
   "outputs": [],
   "source": [
    "# What is a JSON file?\n",
    "\n",
    "# JSON (JavaScript Object Notation) is a lightweight format for storing structured data.\n",
    "# It's widely used in APIs and web services."
   ]
  },
  {
   "cell_type": "code",
   "execution_count": 106,
   "id": "3a00f6c9-14a3-4f7a-8565-47040b5080f8",
   "metadata": {},
   "outputs": [
    {
     "name": "stdout",
     "output_type": "stream",
     "text": [
      "   ID     Name  Age  Subject      Address Contact Number\n",
      "0   1     John   25     Math  123 Main St       555-1234\n",
      "1   2     Emma   30  Science   456 Elm St       555-5678\n",
      "2   3  Michael   28  English   789 Oak St       555-9876\n",
      "    ID       Name  Age            Subject       Address Contact Number\n",
      "16  17      David   27          Sociology  876 Maple St       555-6402\n",
      "17  18      Emily   32  Political Science    543 Elm St       555-1298\n",
      "18  19  Alexander   30           Business    987 Oak St       555-7531\n",
      "19  20      Grace   29   Foreign Language   654 Pine St       555-4129\n",
      "0          John\n",
      "1          Emma\n",
      "2       Michael\n",
      "3        Sophia\n",
      "4       William\n",
      "5        Olivia\n",
      "6         James\n",
      "7           Ava\n",
      "8      Benjamin\n",
      "9      Isabella\n",
      "10        Jacob\n",
      "11          Mia\n",
      "12        Henry\n",
      "13    Charlotte\n",
      "14       Daniel\n",
      "15       Amelia\n",
      "16        David\n",
      "17        Emily\n",
      "18    Alexander\n",
      "19        Grace\n",
      "Name: Name, dtype: object\n"
     ]
    },
    {
     "name": "stderr",
     "output_type": "stream",
     "text": [
      "C:\\Users\\bisss\\AppData\\Local\\Temp\\ipykernel_22376\\1875539969.py:5: FutureWarning: Passing literal json to 'read_json' is deprecated and will be removed in a future version. To read from a literal string, wrap it in a 'StringIO' object.\n",
      "  df = pd.read_json(data)  # Convert JSON data into a Pandas DataFrame\n"
     ]
    }
   ],
   "source": [
    "# Reading a JSON file from `data_sets`\n",
    "\n",
    "with open(\"data_sets/sample_data.json\", \"r\") as file:\n",
    "    data = file.read()  # Read the file content\n",
    "    df = pd.read_json(data)  # Convert JSON data into a Pandas DataFrame\n",
    "\n",
    "print(df.head(3))  \n",
    "print(df.tail(4))  \n",
    "print(df['Name']) "
   ]
  },
  {
   "cell_type": "markdown",
   "id": "3360e22b-ddc8-47b6-8a24-5aa92ed4e41d",
   "metadata": {},
   "source": [
    "# Writing JSON Files"
   ]
  },
  {
   "cell_type": "code",
   "execution_count": 109,
   "id": "3dbe84fd-8783-481e-a995-7078a8ee1236",
   "metadata": {},
   "outputs": [],
   "source": [
    "df = pd.DataFrame({\n",
    "    'Name': ['Ram', 'Shyam', 'Hari'],\n",
    "    'Age': [12, 13, 14],\n",
    "    'City': ['Ktm', 'Bkt', 'Pkr']\n",
    "})"
   ]
  },
  {
   "cell_type": "code",
   "execution_count": 111,
   "id": "7dfb6818-e538-487b-a4a4-5f9692bb7ff0",
   "metadata": {},
   "outputs": [],
   "source": [
    "# 📌 Save DataFrame to a JSON file\n",
    "\n",
    "df.to_json('data_sets/jsoneg.json', orient=\"records\")  \n",
    "# `orient=\"records\"` formats data as a list of dictionaries"
   ]
  },
  {
   "cell_type": "markdown",
   "id": "436d5652-9497-4299-80b4-b377ec77e5f3",
   "metadata": {},
   "source": [
    "# Reading JSON Again"
   ]
  },
  {
   "cell_type": "code",
   "execution_count": 114,
   "id": "4576fb2a-5622-4fad-b375-d0c0e4843e4e",
   "metadata": {},
   "outputs": [
    {
     "name": "stdout",
     "output_type": "stream",
     "text": [
      "    Name  Age City\n",
      "0    Ram   12  Ktm\n",
      "1  Shyam   13  Bkt\n",
      "2   Hari   14  Pkr\n",
      "    Name  Age City\n",
      "0    Ram   12  Ktm\n",
      "1  Shyam   13  Bkt\n",
      "2   Hari   14  Pkr\n",
      "0      Ram\n",
      "1    Shyam\n",
      "2     Hari\n",
      "Name: Name, dtype: object\n"
     ]
    },
    {
     "name": "stderr",
     "output_type": "stream",
     "text": [
      "C:\\Users\\bisss\\AppData\\Local\\Temp\\ipykernel_22376\\1589757774.py:3: FutureWarning: Passing literal json to 'read_json' is deprecated and will be removed in a future version. To read from a literal string, wrap it in a 'StringIO' object.\n",
      "  df = pd.read_json(data)  # Convert JSON to DataFrame\n"
     ]
    }
   ],
   "source": [
    "with open(\"data_sets/jsoneg.json\", \"r\") as file:\n",
    "    data = file.read()  # Read file content\n",
    "    df = pd.read_json(data)  # Convert JSON to DataFrame\n",
    "\n",
    "print(df.head(3))\n",
    "print(df.tail(4))\n",
    "print(df['Name'])"
   ]
  },
  {
   "cell_type": "code",
   "execution_count": null,
   "id": "9a56ad88-aed6-43f6-b1e9-485f8fdd649d",
   "metadata": {},
   "outputs": [],
   "source": []
  }
 ],
 "metadata": {
  "kernelspec": {
   "display_name": "Python [conda env:base] *",
   "language": "python",
   "name": "conda-base-py"
  },
  "language_info": {
   "codemirror_mode": {
    "name": "ipython",
    "version": 3
   },
   "file_extension": ".py",
   "mimetype": "text/x-python",
   "name": "python",
   "nbconvert_exporter": "python",
   "pygments_lexer": "ipython3",
   "version": "3.12.7"
  }
 },
 "nbformat": 4,
 "nbformat_minor": 5
}
