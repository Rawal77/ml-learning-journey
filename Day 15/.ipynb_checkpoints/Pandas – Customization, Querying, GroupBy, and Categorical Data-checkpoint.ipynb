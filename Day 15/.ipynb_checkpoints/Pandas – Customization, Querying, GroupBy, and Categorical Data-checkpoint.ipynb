{
 "cells": [
  {
   "cell_type": "markdown",
   "id": "ddbbde25-9106-4e06-a7dd-38494b2a0118",
   "metadata": {},
   "source": [
    "# Pandas – Customization, Querying, GroupBy, and Categorical Data"
   ]
  },
  {
   "cell_type": "markdown",
   "id": "328d31c4-7d87-4bbb-b2aa-2563727f420e",
   "metadata": {},
   "source": [
    "### Customizing Display Options"
   ]
  },
  {
   "cell_type": "code",
   "execution_count": 5,
   "id": "7bfb3687-b2c5-4bde-a285-09b3acdde959",
   "metadata": {},
   "outputs": [
    {
     "name": "stdout",
     "output_type": "stream",
     "text": [
      "Default Display:\n",
      "     Name  Age Gender\n",
      "0    Ram   12      M\n",
      "1  Shyam   13      M\n",
      "2   Hari   14      M\n",
      "3   Gita   15      F\n",
      "4   Sita   12      F\n"
     ]
    }
   ],
   "source": [
    "# Pandas allows customizing how DataFrames are displayed, including row/column limits and width constraints.\n",
    "\n",
    "import pandas as pd\n",
    "\n",
    "df = pd.DataFrame({\n",
    "    'Name': ['Ram', 'Shyam', 'Hari', 'Gita', 'Sita'],\n",
    "    'Age': [12, 13, 14, 15, 12],\n",
    "    'Gender': ['M', 'M', 'M', 'F', 'F']\n",
    "})\n",
    "\n",
    "print(\"Default Display:\\n\", df)"
   ]
  },
  {
   "cell_type": "code",
   "execution_count": 47,
   "id": "732b48f0-2491-4306-a015-a5ba54ad789a",
   "metadata": {},
   "outputs": [
    {
     "name": "stderr",
     "output_type": "stream",
     "text": [
      "C:\\Users\\bisss\\AppData\\Local\\Temp\\ipykernel_23236\\1287116770.py:2: FutureWarning: data_manager option is deprecated and will be removed in a future version. Only the BlockManager will be available.\n",
      "  pd.reset_option(\"all\")  # Resets all display options\n",
      "C:\\Users\\bisss\\AppData\\Local\\Temp\\ipykernel_23236\\1287116770.py:2: FutureWarning: use_inf_as_na option is deprecated and will be removed in a future version. Convert inf values to NaN before operating instead.\n",
      "  pd.reset_option(\"all\")  # Resets all display options\n"
     ]
    }
   ],
   "source": [
    "# Reset display settings to default (Avoid unexpected results)\n",
    "pd.reset_option(\"all\")  # Resets all display options\n",
    "\n",
    "# Uncomment to test individual settings:\n",
    "# pd.set_option('display.max_rows', 2)  # Limits max displayed rows\n",
    "# pd.set_option('display.max_columns', 2)  # Limits max displayed columns\n",
    "# pd.set_option('display.width', 20)  # Limits width of output\n",
    "# pd.set_option('display.max_colwidth', 10)  # Limits column width"
   ]
  },
  {
   "cell_type": "markdown",
   "id": "ae857b88-bb93-45af-ac6c-582169cde7f8",
   "metadata": {},
   "source": [
    "### Customizing Data Types"
   ]
  },
  {
   "cell_type": "code",
   "execution_count": 10,
   "id": "50493ee1-83e9-4860-bf1b-b12c25544a7d",
   "metadata": {},
   "outputs": [
    {
     "name": "stdout",
     "output_type": "stream",
     "text": [
      "Before Conversion:\n",
      " Name      object\n",
      "Age       object\n",
      "Gender    object\n",
      "dtype: object\n",
      "\n",
      "After Conversion:\n",
      " Name      object\n",
      "Age        int32\n",
      "Gender    object\n",
      "dtype: object\n"
     ]
    }
   ],
   "source": [
    "# Converting data types is crucial when reading data from external sources.\n",
    "\n",
    "df = pd.DataFrame({\n",
    "    'Name': ['Ram', 'Shyam', 'Hari', 'Gita', 'Sita'],\n",
    "    'Age': ['12', '13', '14', '15', '12'],  # Age is stored as strings\n",
    "    'Gender': ['M', 'M', 'M', 'F', 'F']\n",
    "})\n",
    "\n",
    "print(\"Before Conversion:\\n\", df.dtypes)\n",
    "\n",
    "# Convert 'Age' column to integer\n",
    "df['Age'] = df['Age'].astype(int)\n",
    "# Ensure 'Gender' remains a string\n",
    "df['Gender'] = df['Gender'].astype(str)\n",
    "\n",
    "print(\"\\nAfter Conversion:\\n\", df.dtypes)"
   ]
  },
  {
   "cell_type": "markdown",
   "id": "98df655e-f02c-48f7-b1fe-bea591cfc927",
   "metadata": {},
   "source": [
    "### Query Method (Filtering Data)"
   ]
  },
  {
   "cell_type": "code",
   "execution_count": 15,
   "id": "ca3a114c-497e-4be1-b685-56887dce4b1f",
   "metadata": {},
   "outputs": [
    {
     "name": "stdout",
     "output_type": "stream",
     "text": [
      "Filtered Data (Age > 13 & Gender = F):\n",
      "    Name  Age Gender\n",
      "3  Gita   15      F\n",
      "\n",
      "Filtered Data (Either Gender = F OR Age > 13):\n",
      "    Name  Age Gender\n",
      "2  Hari   14      M\n",
      "3  Gita   15      F\n",
      "4  Sita   12      F\n"
     ]
    }
   ],
   "source": [
    "# The .query() method provides an easy way to filter DataFrame rows based on conditions.\n",
    "\n",
    "df = pd.DataFrame({\n",
    "    'Name': ['Ram', 'Shyam', 'Hari', 'Gita', 'Sita'],\n",
    "    'Age': [12, 13, 14, 15, 12],\n",
    "    'Gender': ['M', 'M', 'M', 'F', 'F']\n",
    "})\n",
    "\n",
    "filtered_df = df.query('Age > 13 and Gender == \"F\"')\n",
    "print(\"Filtered Data (Age > 13 & Gender = F):\\n\", filtered_df)\n",
    "\n",
    "filtered_df2 = df.query('(Gender == \"F\") or (Age > 13)')\n",
    "print(\"\\nFiltered Data (Either Gender = F OR Age > 13):\\n\", filtered_df2)"
   ]
  },
  {
   "cell_type": "markdown",
   "id": "294c74d3-11d5-40c3-8279-8ea5fc2a16df",
   "metadata": {},
   "source": [
    "### Window Functions (Rolling & Expanding)"
   ]
  },
  {
   "cell_type": "code",
   "execution_count": 20,
   "id": "de1337d7-01c0-4d83-bc89-a82aa35942db",
   "metadata": {},
   "outputs": [
    {
     "name": "stdout",
     "output_type": "stream",
     "text": [
      "\n",
      "Rolling Sum with Window 3:\n",
      "    Value  Rolling_Sum\n",
      "0     10          NaN\n",
      "1     20          NaN\n",
      "2     30         60.0\n",
      "3     40         90.0\n",
      "4     50        120.0\n",
      "5     60        150.0\n",
      "6     70        180.0\n",
      "7     80        210.0\n",
      "8     90        240.0\n"
     ]
    }
   ],
   "source": [
    "# Rolling window functions compute values over a defined sliding window.\n",
    "\n",
    "data = {'Value': [10, 20, 30, 40, 50, 60, 70, 80, 90]}\n",
    "df = pd.DataFrame(data)\n",
    "\n",
    "# Compute rolling sum over a window of 3\n",
    "df['Rolling_Sum'] = df['Value'].rolling(window=3).sum()\n",
    "print(\"\\nRolling Sum with Window 3:\\n\", df)\n",
    "\n",
    "# Expanding window functions compute cumulative statistics\n",
    "# Example: df['Cumulative_Sum'] = df['Value'].expanding().sum()"
   ]
  },
  {
   "cell_type": "markdown",
   "id": "57b38828-87db-4633-8df2-41e5848e8036",
   "metadata": {},
   "source": [
    "### GroupBy Function"
   ]
  },
  {
   "cell_type": "code",
   "execution_count": 23,
   "id": "5ead84e9-d27f-4671-aeb7-a1c7385d3a01",
   "metadata": {},
   "outputs": [
    {
     "name": "stdout",
     "output_type": "stream",
     "text": [
      "\n",
      "Average Marks by Grade:\n",
      " Grade\n",
      "A    500.0\n",
      "B    410.0\n",
      "C    280.0\n",
      "Name: Marks, dtype: float64\n"
     ]
    }
   ],
   "source": [
    "# Grouping allows aggregating data based on a specific column.\n",
    "\n",
    "df = pd.DataFrame({\n",
    "    'Name': ['Ram', 'Shyam', 'Hari', 'Gita', 'Sita'],\n",
    "    'Grade': ['B', 'A', 'C', 'A', 'B'],\n",
    "    'Marks': [400, 500, 280, 500, 420]\n",
    "})\n",
    "\n",
    "# Group by 'Grade' and calculate average marks\n",
    "grouped = df.groupby('Grade')['Marks'].mean()\n",
    "print(\"\\nAverage Marks by Grade:\\n\", grouped)"
   ]
  },
  {
   "cell_type": "markdown",
   "id": "c39656ad-3113-452f-b9f2-08e4ab6e01c3",
   "metadata": {},
   "source": [
    "### Aggregation with GroupBy"
   ]
  },
  {
   "cell_type": "code",
   "execution_count": 26,
   "id": "4bceafb1-84d7-44ac-99d7-c0a6bd203c57",
   "metadata": {},
   "outputs": [
    {
     "name": "stdout",
     "output_type": "stream",
     "text": [
      "\n",
      "Aggregated Quantity Data:\n",
      "          Qty                 \n",
      "         sum   mean  min  max\n",
      "Product                      \n",
      "A        980  490.0  480  500\n",
      "B        820  410.0  400  420\n",
      "C        280  280.0  280  280\n"
     ]
    }
   ],
   "source": [
    "# The .agg() method allows applying multiple functions at once.\n",
    "\n",
    "df = pd.DataFrame({\n",
    "    'Product': ['B', 'A', 'C', 'A', 'B'],\n",
    "    'Region': ['South', 'South', 'South', 'North', 'North'],\n",
    "    'Qty': [400, 500, 280, 480, 420]\n",
    "})\n",
    "\n",
    "agg_result = df.groupby('Product').agg({'Qty': ['sum', 'mean', 'min', 'max']})\n",
    "print(\"\\nAggregated Quantity Data:\\n\", agg_result)"
   ]
  },
  {
   "cell_type": "markdown",
   "id": "e759c8a2-a50e-4a07-b8c6-beb24f758553",
   "metadata": {},
   "source": [
    "### Transformation"
   ]
  },
  {
   "cell_type": "code",
   "execution_count": 29,
   "id": "5fdbc10f-6291-4934-afd7-b61574be587f",
   "metadata": {},
   "outputs": [
    {
     "name": "stdout",
     "output_type": "stream",
     "text": [
      "\n",
      "Transformed Values (Multiplied by 2):\n",
      "   Group  Value  ModifiedValue\n",
      "0     D      2              4\n",
      "1     E      7             14\n",
      "2     F      6             12\n",
      "3     F      4              8\n",
      "4     D      3              6\n"
     ]
    }
   ],
   "source": [
    "# Transformation applies functions to each group while maintaining the original shape.\n",
    "\n",
    "df = pd.DataFrame({\n",
    "    'Group': ['D', 'E', 'F', 'F', 'D'],\n",
    "    'Value': [2, 7, 6, 4, 3]\n",
    "})\n",
    "\n",
    "df['ModifiedValue'] = df.groupby('Group')['Value'].transform(lambda x: x * 2)\n",
    "print(\"\\nTransformed Values (Multiplied by 2):\\n\", df)"
   ]
  },
  {
   "cell_type": "markdown",
   "id": "75f2232e-9184-43ce-afc8-766c4ce78ddf",
   "metadata": {},
   "source": [
    "### Categorical Data"
   ]
  },
  {
   "cell_type": "code",
   "execution_count": 32,
   "id": "c8fb2243-f9b0-469b-901f-83665ba56c55",
   "metadata": {},
   "outputs": [
    {
     "name": "stdout",
     "output_type": "stream",
     "text": [
      "<class 'pandas.core.series.Series'>\n",
      "RangeIndex: 10 entries, 0 to 9\n",
      "Series name: None\n",
      "Non-Null Count  Dtype \n",
      "--------------  ----- \n",
      "10 non-null     object\n",
      "dtypes: object(1)\n",
      "memory usage: 212.0+ bytes\n",
      "\n",
      "Before Conversion to Categorical:\n",
      " None\n",
      "\n",
      "Categorical Data:\n",
      " 0      Blue\n",
      "1       Red\n",
      "2    Yellow\n",
      "3     Green\n",
      "4       Red\n",
      "5      Blue\n",
      "6    Yellow\n",
      "7    Yellow\n",
      "8    Yellow\n",
      "9       Red\n",
      "dtype: category\n",
      "Categories (4, object): ['Blue', 'Green', 'Red', 'Yellow']\n",
      "Unique Categories: ['Blue', 'Red', 'Yellow', 'Green']\n",
      "Categories (4, object): ['Blue', 'Green', 'Red', 'Yellow']\n"
     ]
    }
   ],
   "source": [
    "# Categorical data reduces memory usage and improves performance.\n",
    "\n",
    "colors = pd.Series(['Blue', 'Red', 'Yellow', 'Green', 'Red', 'Blue', 'Yellow', 'Yellow', 'Yellow', 'Red'])\n",
    "\n",
    "print(\"\\nBefore Conversion to Categorical:\\n\", colors.info())\n",
    "\n",
    "# Convert to categorical\n",
    "df_colors = colors.astype('category')\n",
    "print(\"\\nCategorical Data:\\n\", df_colors)\n",
    "print(\"Unique Categories:\", df_colors.unique())"
   ]
  },
  {
   "cell_type": "code",
   "execution_count": 34,
   "id": "331f58e5-6a96-4252-add4-ba2716d69298",
   "metadata": {},
   "outputs": [
    {
     "name": "stdout",
     "output_type": "stream",
     "text": [
      "\n",
      "Reordered Categories:\n",
      " 0      Blue\n",
      "1       Red\n",
      "2    Yellow\n",
      "3     Green\n",
      "4       Red\n",
      "5      Blue\n",
      "6    Yellow\n",
      "7    Yellow\n",
      "8    Yellow\n",
      "9       Red\n",
      "dtype: category\n",
      "Categories (4, object): ['Red', 'Green', 'Yellow', 'Blue']\n"
     ]
    }
   ],
   "source": [
    "# Reordering categories\n",
    "\n",
    "df_colors = df_colors.cat.reorder_categories(['Red', 'Green', 'Yellow', 'Blue'])\n",
    "print(\"\\nReordered Categories:\\n\", df_colors)"
   ]
  },
  {
   "cell_type": "markdown",
   "id": "a784bcdf-fa74-4909-8610-f0966e3fe602",
   "metadata": {},
   "source": [
    "### Additional Categorical Methods"
   ]
  },
  {
   "cell_type": "code",
   "execution_count": 39,
   "id": "6e8a3b2c-d731-4861-ac73-0fff02b12bfc",
   "metadata": {},
   "outputs": [
    {
     "name": "stdout",
     "output_type": "stream",
     "text": [
      "0       Red\n",
      "1     Green\n",
      "2      Blue\n",
      "3    Yellow\n",
      "dtype: category\n",
      "Categories (4, object): ['Blue', 'Green', 'Yellow', 'Red']\n"
     ]
    }
   ],
   "source": [
    "# - set_categories(): Define custom category order\n",
    "\n",
    "cat_colors = pd.Series(['Red', 'Green', 'Blue', 'Yellow']).astype('category')\n",
    "ordered_colors = cat_colors.cat.set_categories(['Blue', 'Green', 'Yellow', 'Red'])\n",
    "print(ordered_colors)"
   ]
  },
  {
   "cell_type": "code",
   "execution_count": 41,
   "id": "c9f1fc92-acf9-4b92-aabd-a2a37db747dd",
   "metadata": {},
   "outputs": [
    {
     "name": "stdout",
     "output_type": "stream",
     "text": [
      "0       Red\n",
      "1       NaN\n",
      "2      Blue\n",
      "3    Yellow\n",
      "dtype: category\n",
      "Categories (3, object): ['Blue', 'Red', 'Yellow']\n"
     ]
    }
   ],
   "source": [
    "# - remove_categories(): Remove specific categories\n",
    "\n",
    "cat_colors = pd.Series(['Red', 'Green', 'Blue', 'Yellow']).astype('category')\n",
    "cat_colors = cat_colors.cat.remove_categories(['Green'])\n",
    "print(cat_colors)"
   ]
  },
  {
   "cell_type": "code",
   "execution_count": 43,
   "id": "7711e69b-55a0-4088-8c01-23c7534bf5d9",
   "metadata": {},
   "outputs": [
    {
     "name": "stdout",
     "output_type": "stream",
     "text": [
      "0    Crimson\n",
      "1      Green\n",
      "2      Azure\n",
      "3     Yellow\n",
      "dtype: category\n",
      "Categories (4, object): ['Azure', 'Green', 'Crimson', 'Yellow']\n"
     ]
    }
   ],
   "source": [
    "# - rename_categories(): Rename categories\n",
    "\n",
    "cat_colors = pd.Series(['Red', 'Green', 'Blue', 'Yellow']).astype('category')\n",
    "renamed_colors = cat_colors.cat.rename_categories({'Red': 'Crimson', 'Blue': 'Azure'})\n",
    "print(renamed_colors)"
   ]
  },
  {
   "cell_type": "code",
   "execution_count": 45,
   "id": "d356f028-ec47-44d8-8451-185093d1043f",
   "metadata": {},
   "outputs": [
    {
     "name": "stdout",
     "output_type": "stream",
     "text": [
      "0     Red\n",
      "1     Red\n",
      "2    Blue\n",
      "dtype: category\n",
      "Categories (2, object): ['Blue', 'Red']\n"
     ]
    }
   ],
   "source": [
    "# - remove_unused_categories(): Clean up unused categories\n",
    "\n",
    "cat_colors = pd.Series(['Red', 'Red', 'Blue']).astype('category')\n",
    "cat_colors = cat_colors.cat.remove_unused_categories()\n",
    "print(cat_colors)"
   ]
  },
  {
   "cell_type": "code",
   "execution_count": null,
   "id": "4ffd4588-737b-475d-a688-035b60f694bf",
   "metadata": {},
   "outputs": [],
   "source": []
  }
 ],
 "metadata": {
  "kernelspec": {
   "display_name": "Python [conda env:base] *",
   "language": "python",
   "name": "conda-base-py"
  },
  "language_info": {
   "codemirror_mode": {
    "name": "ipython",
    "version": 3
   },
   "file_extension": ".py",
   "mimetype": "text/x-python",
   "name": "python",
   "nbconvert_exporter": "python",
   "pygments_lexer": "ipython3",
   "version": "3.12.7"
  }
 },
 "nbformat": 4,
 "nbformat_minor": 5
}
