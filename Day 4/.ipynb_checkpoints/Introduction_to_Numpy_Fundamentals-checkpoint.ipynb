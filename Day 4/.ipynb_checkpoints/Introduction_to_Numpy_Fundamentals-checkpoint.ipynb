{
 "cells": [
  {
   "cell_type": "markdown",
   "id": "4448c114-5db6-48c6-8f78-d6b86b2c032b",
   "metadata": {},
   "source": [
    "# Introduction to Numpy Fundamentals"
   ]
  },
  {
   "cell_type": "raw",
   "id": "e76b03b7-ef28-4bef-8c6c-391bf4123d79",
   "metadata": {},
   "source": [
    "  NumPy is a Python library for handling:\n",
    "\n",
    "- Large datasets efficiently with arrays.\n",
    "- Mathematical operations like sum, mean, etc.\n",
    "- Multidimensional data using ndarrays."
   ]
  },
  {
   "cell_type": "markdown",
   "id": "02b5078b-9f97-42c8-89f8-56963511908e",
   "metadata": {},
   "source": [
    "### Simple Example to Demonstrate a Single-Dimensional Array"
   ]
  },
  {
   "cell_type": "code",
   "execution_count": 6,
   "id": "d9e4e22c-b669-487c-aa8e-7b34ad18300e",
   "metadata": {},
   "outputs": [
    {
     "data": {
      "text/plain": [
       "array([10, 20, 30, 40])"
      ]
     },
     "execution_count": 6,
     "metadata": {},
     "output_type": "execute_result"
    }
   ],
   "source": [
    "import numpy as np  # Importing NumPy library\n",
    "n1 = np.array([10, 20, 30, 40])  # Create a 1D array  \n",
    "n1 "
   ]
  },
  {
   "cell_type": "markdown",
   "id": "ef689b27-2ee0-45de-b9cf-71bb3b4a02a4",
   "metadata": {},
   "source": [
    "### Simple Example to Demonstrate a Multi-Dimensional Array"
   ]
  },
  {
   "cell_type": "code",
   "execution_count": 9,
   "id": "74703a83-3b9f-433c-8cf4-abfcddc6cd66",
   "metadata": {},
   "outputs": [
    {
     "data": {
      "text/plain": [
       "array([[10, 20, 30],\n",
       "       [10, 80, 90],\n",
       "       [30, 50, 80]])"
      ]
     },
     "execution_count": 9,
     "metadata": {},
     "output_type": "execute_result"
    }
   ],
   "source": [
    "n2 = np.array([\n",
    "    [10, 20, 30], \n",
    "    [10, 80, 90], \n",
    "    [30, 50, 80]])  # Create a 3x3 array  \n",
    "n2  "
   ]
  },
  {
   "cell_type": "markdown",
   "id": "02ec7b2e-5e9d-479b-968e-59ad7523da37",
   "metadata": {},
   "source": [
    "### Defining the Data Type of an Array"
   ]
  },
  {
   "cell_type": "code",
   "execution_count": 18,
   "id": "69d2c39c-5b12-47a7-9dee-e0cd15970431",
   "metadata": {},
   "outputs": [
    {
     "data": {
      "text/plain": [
       "dtype('float32')"
      ]
     },
     "execution_count": 18,
     "metadata": {},
     "output_type": "execute_result"
    }
   ],
   "source": [
    "#NumPy arrays allow specifying data types (e.g., float, string) to optimize storage or compatibility.\n",
    "\n",
    "arr1 = np.array([1, 2, 3, 4], dtype='f')  # Creating an array with float data type\n",
    "arr1.dtype"
   ]
  },
  {
   "cell_type": "code",
   "execution_count": 20,
   "id": "0fc23ae6-0adb-40df-b93b-301dd949da4b",
   "metadata": {},
   "outputs": [
    {
     "data": {
      "text/plain": [
       "dtype('<U5')"
      ]
     },
     "execution_count": 20,
     "metadata": {},
     "output_type": "execute_result"
    }
   ],
   "source": [
    "arr2 = np.array(['Ram', 'Shyam', 'Hari'], dtype=np.str_) # Creating an array with string data type\n",
    "arr2.dtype"
   ]
  },
  {
   "cell_type": "code",
   "execution_count": 22,
   "id": "72472d56-8964-4c40-8ac9-23109886bd06",
   "metadata": {},
   "outputs": [
    {
     "data": {
      "text/plain": [
       "dtype('uint8')"
      ]
     },
     "execution_count": 22,
     "metadata": {},
     "output_type": "execute_result"
    }
   ],
   "source": [
    "arr = np.array([12,12,43,32,12],dtype=np.uint8)  # Creating an array with unsigned integer data type\n",
    "arr.dtype"
   ]
  },
  {
   "cell_type": "code",
   "execution_count": 24,
   "id": "751f7aa2-6273-4152-9374-be6fbf0a9d3f",
   "metadata": {},
   "outputs": [
    {
     "data": {
      "text/plain": [
       "dtype('bool')"
      ]
     },
     "execution_count": 24,
     "metadata": {},
     "output_type": "execute_result"
    }
   ],
   "source": [
    "arr = np.array([True,False,True,False,True],dtype = np.bool_) # Creating an array with boolean data type\n",
    "arr.dtype"
   ]
  },
  {
   "cell_type": "code",
   "execution_count": 26,
   "id": "0c5fec84-9834-4819-8fd3-ed3726b57d04",
   "metadata": {},
   "outputs": [
    {
     "data": {
      "text/plain": [
       "dtype('complex128')"
      ]
     },
     "execution_count": 26,
     "metadata": {},
     "output_type": "execute_result"
    }
   ],
   "source": [
    "arr = np.array([1+6j,2+4j,3+6j],dtype = np.complex_) # Creating an array with complex data type\n",
    "arr.dtype"
   ]
  },
  {
   "cell_type": "code",
   "execution_count": 49,
   "id": "31429eb5-d033-4225-8405-203dd26a844d",
   "metadata": {},
   "outputs": [
    {
     "name": "stdout",
     "output_type": "stream",
     "text": [
      "Time Difference: 301 days\n",
      "timedelta64[D]\n"
     ]
    }
   ],
   "source": [
    "# timedelta is used to represent the difference between two dates or times.\n",
    "\n",
    "date1 = np.datetime64('2024-07-09')  # Date 1\n",
    "date2 = np.datetime64('2025-05-06')  # Date 2\n",
    "\n",
    "time_difference = date2 - date1\n",
    "print(f'Time Difference: {time_difference}')\n",
    "print(f'{time_difference.dtype}')"
   ]
  },
  {
   "cell_type": "code",
   "execution_count": 51,
   "id": "591021a2-bded-4430-8871-3c205738a2db",
   "metadata": {},
   "outputs": [
    {
     "name": "stdout",
     "output_type": "stream",
     "text": [
      "Date and Time: 2025-07-09T10:50:05\n",
      "Type: datetime64[s]\n"
     ]
    }
   ],
   "source": [
    "# datetime is used to represent specific dates and times.\n",
    "\n",
    "datetime_value = np.datetime64('2025-07-09 10:50:05')\n",
    "print(f'Date and Time: {datetime_value}')  \n",
    "print(f'Type: {datetime_value.dtype}') "
   ]
  },
  {
   "cell_type": "code",
   "execution_count": 53,
   "id": "58854ff2-3a1f-40c4-9b4d-c40bc308cfd1",
   "metadata": {},
   "outputs": [
    {
     "name": "stdout",
     "output_type": "stream",
     "text": [
      "Mixed Array: ['Text' 42 list([1, 2, 3])]\n",
      "Type: object\n"
     ]
    }
   ],
   "source": [
    "# object data type allows arrays to store mixed data types.\n",
    "\n",
    "mixed_array = np.array(['Text', 42, [1, 2, 3]], dtype=np.object_)\n",
    "print(f'Mixed Array: {mixed_array}') \n",
    "print(f'Type: {mixed_array.dtype}')  "
   ]
  },
  {
   "cell_type": "markdown",
   "id": "35a87258-12f2-4d64-a7f9-de3659c236c7",
   "metadata": {},
   "source": [
    "### Indexing and Slicing in an Array"
   ]
  },
  {
   "cell_type": "raw",
   "id": "76ee765c-e02c-4012-9519-530be070cc84",
   "metadata": {},
   "source": [
    "Indexing\n",
    "  - Indexing allows retrieving elements from arrays using positions."
   ]
  },
  {
   "cell_type": "code",
   "execution_count": 55,
   "id": "5a569f52-b426-46be-80cf-dd2d2af69ba0",
   "metadata": {},
   "outputs": [
    {
     "name": "stdout",
     "output_type": "stream",
     "text": [
      "Gita\n",
      "[2 4]\n",
      "3\n"
     ]
    }
   ],
   "source": [
    "# One-dimensional indexing\n",
    "arr = np.array(['Ram', 'Shyam', 'Gita', 'Hari'])  \n",
    "print(arr[2])  # Outputs: Gita  \n",
    "\n",
    "# Two-dimensional indexing\n",
    "arr = np.array([[1, 2], [3, 1], [2, 4]])  \n",
    "print(arr[2])  \n",
    "print(arr[1][0])  "
   ]
  },
  {
   "cell_type": "raw",
   "id": "02111aaa-54ed-48eb-bdfc-786206563dfb",
   "metadata": {},
   "source": [
    "Slicing\n",
    " - Slicing retrieves a portion of an array using start:stop:step syntax"
   ]
  },
  {
   "cell_type": "code",
   "execution_count": 59,
   "id": "924e04f6-d8b0-4477-8bd4-7126c8746d57",
   "metadata": {},
   "outputs": [
    {
     "name": "stdout",
     "output_type": "stream",
     "text": [
      "['ram' 'shyam' 'sita' 'gita' 'hari']\n",
      "['ram' 'shyam' 'sita' 'gita' 'hari' 'laxman']\n",
      "['sita' 'gita' 'hari' 'laxman' 'ravan']\n",
      "['ram' 'shyam' 'sita' 'gita' 'hari' 'laxman' 'ravan']\n",
      "['ravan' 'laxman' 'hari' 'gita' 'sita' 'shyam' 'ram']\n"
     ]
    }
   ],
   "source": [
    "arr = np.array(['ram', 'shyam', 'sita', 'gita', 'hari', 'laxman', 'ravan'])  \n",
    "\n",
    "print(arr[0:5])  \n",
    "print(arr[:6])   \n",
    "print(arr[2:])   \n",
    "print(arr[:])    \n",
    "print(arr[::-1])"
   ]
  },
  {
   "cell_type": "markdown",
   "id": "c0681846-d1a6-4038-b6fd-f55dfbe169e0",
   "metadata": {},
   "source": [
    "### Data Type Conversion in NumPy"
   ]
  },
  {
   "cell_type": "raw",
   "id": "e26f153d-1be6-4f38-80ce-9b362b6c1702",
   "metadata": {},
   "source": [
    "NumPy allows us to easily convert arrays from one data type to another using the astype() method."
   ]
  },
  {
   "cell_type": "code",
   "execution_count": 66,
   "id": "757d412b-aca2-4b0e-8bc9-4d2321a4a4b4",
   "metadata": {},
   "outputs": [
    {
     "name": "stdout",
     "output_type": "stream",
     "text": [
      "Integer Array: [1 2 3 4 5] (dtype: int8)\n",
      "Converted to Float Array: [1. 2. 3. 4. 5.] (dtype: float16)\n"
     ]
    }
   ],
   "source": [
    "# Converting Integer Array to Float\n",
    "arr_int = np.array([1, 2, 3, 4, 5], dtype=np.int8)\n",
    "print(f'Integer Array: {arr_int} (dtype: {arr_int.dtype})')\n",
    "\n",
    "arr_float = arr_int.astype(np.float16)\n",
    "print(f'Converted to Float Array: {arr_float} (dtype: {arr_float.dtype})')"
   ]
  },
  {
   "cell_type": "code",
   "execution_count": 72,
   "id": "c7c817bb-889b-4b39-91af-04a3772f99e3",
   "metadata": {},
   "outputs": [
    {
     "name": "stdout",
     "output_type": "stream",
     "text": [
      "Original Float Array: [1.76   2.65   3.65   7.887  9.0002] (dtype: float64)\n",
      "Converted to Unsigned Integer Array: [1 2 3 7 9] (dtype: uint8)\n"
     ]
    }
   ],
   "source": [
    "#  Converting Float Array to Unsigned Integer\n",
    "arr = np.array([1.76, 2.65, 3.65, 7.887, 9.0002])\n",
    "print(f'Original Float Array: {arr} (dtype: {arr.dtype})')\n",
    "\n",
    "arr_int = arr.astype(np.uint8)\n",
    "print(f'Converted to Unsigned Integer Array: {arr_int} (dtype: {arr_int.dtype})')"
   ]
  },
  {
   "cell_type": "code",
   "execution_count": 76,
   "id": "10c60a6d-8041-4731-aa51-d22fc7477d37",
   "metadata": {},
   "outputs": [
    {
     "name": "stdout",
     "output_type": "stream",
     "text": [
      "Original Integer Array: [1 2 3 4 5] (dtype: int32)\n",
      "Converted to Complex Array: [1.+0.j 2.+0.j 3.+0.j 4.+0.j 5.+0.j] (dtype: complex128)\n"
     ]
    }
   ],
   "source": [
    "# Converting Integer to Complex\n",
    "arr_int = np.array([1, 2, 3, 4, 5])\n",
    "print(f'Original Integer Array: {arr_int} (dtype: {arr_int.dtype})')\n",
    "\n",
    "arr_complex = arr_int.astype(np.complex_)\n",
    "print(f'Converted to Complex Array: {arr_complex} (dtype: {arr_complex.dtype})')"
   ]
  },
  {
   "cell_type": "markdown",
   "id": "be257b8a-8b91-4fbc-867e-03e957e36e01",
   "metadata": {},
   "source": [
    "### Array Attributes in NumPy"
   ]
  },
  {
   "cell_type": "code",
   "execution_count": 81,
   "id": "abde18e3-29ba-4562-8492-505110e7ad6d",
   "metadata": {},
   "outputs": [
    {
     "name": "stdout",
     "output_type": "stream",
     "text": [
      "Shape of the array: (8,)\n",
      "Number of dimensions: 1\n"
     ]
    }
   ],
   "source": [
    "# One-Dimensional Array\n",
    "import numpy as np\n",
    "\n",
    "arr = np.array([1, 2, 3, 4, 5, 6, 7, 8])\n",
    "print(f'Shape of the array: {arr.shape}')  \n",
    "print(f'Number of dimensions: {arr.ndim}') "
   ]
  },
  {
   "cell_type": "code",
   "execution_count": 85,
   "id": "11bd1498-2ee0-4fbd-bf73-a43c00fb65d9",
   "metadata": {},
   "outputs": [
    {
     "name": "stdout",
     "output_type": "stream",
     "text": [
      "Shape of the array: (2, 2, 3)\n",
      "Total number of elements: 12\n",
      "Data type: int32\n",
      "Item size (bytes): 4\n",
      "Strides: (24, 12, 4)\n",
      "Flags:   C_CONTIGUOUS : True\n",
      "  F_CONTIGUOUS : False\n",
      "  OWNDATA : True\n",
      "  WRITEABLE : True\n",
      "  ALIGNED : True\n",
      "  WRITEBACKIFCOPY : False\n",
      "\n"
     ]
    }
   ],
   "source": [
    "# Three-Dimensional Array\n",
    "arr = np.array([\n",
    "    [\n",
    "        [1, 2, 3],\n",
    "        [2, 4, 6],\n",
    "    ],\n",
    "    [ \n",
    "        [2, 4, 6],\n",
    "        [6, 4, 8]\n",
    "    ]\n",
    "])\n",
    "\n",
    "print(f'Shape of the array: {arr.shape}')\n",
    "print(f'Total number of elements: {arr.size}') \n",
    "print(f'Data type: {arr.dtype}')  \n",
    "print(f'Item size (bytes): {arr.itemsize}')  # Item size (Size of each element in bytes)\n",
    "print(f'Strides: {arr.strides}')  # Strides (The number of bytes to step in each dimension)\n",
    "print(f'Flags: {arr.flags}') # Flags (Details about the memory layout)"
   ]
  },
  {
   "cell_type": "markdown",
   "id": "a2dba20e-93ed-4b90-aa94-84a6bb3111c7",
   "metadata": {},
   "source": [
    "### Array Methods in NumPy"
   ]
  },
  {
   "cell_type": "code",
   "execution_count": 90,
   "id": "3992ce5b-2ca1-43f6-ab47-af4c216e9e11",
   "metadata": {},
   "outputs": [
    {
     "name": "stdout",
     "output_type": "stream",
     "text": [
      "Reshaped Array:\n",
      "[[1 2 3]\n",
      " [4 5 6]\n",
      " [7 8 9]]\n"
     ]
    }
   ],
   "source": [
    "# Reshape the array to a 3x3 matrix\n",
    "\n",
    "import numpy as np\n",
    "arr = np.array([1, 2, 3, 4, 5, 6, 7, 8, 9])\n",
    "reshaped_arr = arr.reshape(3, 3)\n",
    "print(f'Reshaped Array:\\n{reshaped_arr}')"
   ]
  },
  {
   "cell_type": "code",
   "execution_count": 92,
   "id": "ab39d3ab-e5e5-409b-a62e-2d1308f593a8",
   "metadata": {},
   "outputs": [
    {
     "name": "stdout",
     "output_type": "stream",
     "text": [
      "Sum of the array elements: 45\n"
     ]
    }
   ],
   "source": [
    "# Sum of Array Elements\n",
    "\n",
    "import numpy as np\n",
    "arr = np.array([1, 2, 3, 4, 5, 6, 7, 8, 9])\n",
    "total_sum = arr.sum()\n",
    "print(f'Sum of the array elements: {total_sum}')"
   ]
  },
  {
   "cell_type": "code",
   "execution_count": 94,
   "id": "164c8f9a-1ca2-4861-a5b7-b73fce2e2a17",
   "metadata": {},
   "outputs": [
    {
     "name": "stdout",
     "output_type": "stream",
     "text": [
      "Sum of the array elements: 45\n",
      "Mean of the array: 5.0\n"
     ]
    }
   ],
   "source": [
    "# Mean of Array Elements\n",
    "\n",
    "import numpy as np\n",
    "arr = np.array([1, 2, 3, 4, 5, 6, 7, 8, 9])\n",
    "total_sum = arr.sum()\n",
    "print(f'Sum of the array elements: {total_sum}')\n",
    "mean_val = arr.mean()\n",
    "print(f'Mean of the array: {mean_val}')"
   ]
  },
  {
   "cell_type": "code",
   "execution_count": 100,
   "id": "83744f88-ae22-4fe8-a1bf-0b3f45d900cc",
   "metadata": {},
   "outputs": [
    {
     "name": "stdout",
     "output_type": "stream",
     "text": [
      "Minimum value in the array: 1\n",
      "Maximum value in the array: 9\n"
     ]
    }
   ],
   "source": [
    "# Minimum and Maximum Values\n",
    "import numpy as np\n",
    "arr = np.array([1, 2, 3, 4, 5, 6, 7, 8, 9])\n",
    "min_val = arr.min()\n",
    "print(f'Minimum value in the array: {min_val}')\n",
    "\n",
    "# Maximum value in the array\n",
    "max_val = arr.max()\n",
    "print(f'Maximum value in the array: {max_val}')"
   ]
  },
  {
   "cell_type": "code",
   "execution_count": 102,
   "id": "080b58c1-da5b-4f0f-af26-d68cf6d55bb2",
   "metadata": {},
   "outputs": [
    {
     "name": "stdout",
     "output_type": "stream",
     "text": [
      "Index of the highest value: 8\n"
     ]
    }
   ],
   "source": [
    "# Index of the Maximum Value\n",
    "import numpy as np\n",
    "arr = np.array([1, 2, 3, 4, 5, 6, 7, 8, 9])\n",
    "max_index = arr.argmax()\n",
    "print(f'Index of the highest value: {max_index}')"
   ]
  }
 ],
 "metadata": {
  "kernelspec": {
   "display_name": "Python [conda env:base] *",
   "language": "python",
   "name": "conda-base-py"
  },
  "language_info": {
   "codemirror_mode": {
    "name": "ipython",
    "version": 3
   },
   "file_extension": ".py",
   "mimetype": "text/x-python",
   "name": "python",
   "nbconvert_exporter": "python",
   "pygments_lexer": "ipython3",
   "version": "3.12.7"
  }
 },
 "nbformat": 4,
 "nbformat_minor": 5
}
