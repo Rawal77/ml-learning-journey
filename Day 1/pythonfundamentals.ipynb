{
 "cells": [
  {
   "cell_type": "markdown",
   "id": "84c71545-926f-4c2e-8f21-888ea31018c7",
   "metadata": {},
   "source": [
    "# Python Fundamentals - Day 1"
   ]
  },
  {
   "cell_type": "markdown",
   "id": "c3cb66cb-a627-4cfd-b164-21c9a72734cc",
   "metadata": {},
   "source": [
    "### Let's begin with the classic \"Hello World\" program"
   ]
  },
  {
   "cell_type": "code",
   "execution_count": 4,
   "id": "8165f5ba-8b1d-40d4-8ccf-8b6c381603f9",
   "metadata": {},
   "outputs": [
    {
     "name": "stdout",
     "output_type": "stream",
     "text": [
      "Hello World\n"
     ]
    }
   ],
   "source": [
    "print(\"Hello World\")"
   ]
  },
  {
   "cell_type": "markdown",
   "id": "903a3f6f-359d-4adc-940a-2c58704daa02",
   "metadata": {},
   "source": [
    "### Variables"
   ]
  },
  {
   "cell_type": "code",
   "execution_count": 19,
   "id": "76097008-d5c8-4a4e-9b1e-d2350b571893",
   "metadata": {},
   "outputs": [],
   "source": [
    "x = 3"
   ]
  },
  {
   "cell_type": "code",
   "execution_count": 23,
   "id": "7ee66117-ca4c-4857-a549-e4441b28a6b3",
   "metadata": {},
   "outputs": [
    {
     "name": "stdout",
     "output_type": "stream",
     "text": [
      "3\n"
     ]
    }
   ],
   "source": [
    "print(x)"
   ]
  },
  {
   "cell_type": "code",
   "execution_count": 25,
   "id": "23bfef21-7d6b-4bc2-8464-5e29164d29cc",
   "metadata": {},
   "outputs": [
    {
     "name": "stdout",
     "output_type": "stream",
     "text": [
      "<class 'int'>\n"
     ]
    }
   ],
   "source": [
    "print(type(x)) # Checks the type of the variable x"
   ]
  },
  {
   "cell_type": "code",
   "execution_count": 27,
   "id": "cf39addb-4262-4936-8665-02e83d129744",
   "metadata": {},
   "outputs": [],
   "source": [
    "del x # # Deletes the variable"
   ]
  },
  {
   "cell_type": "markdown",
   "id": "f960d8bf-6080-4bfa-86f8-02b45ec58be6",
   "metadata": {},
   "source": [
    "## Operators"
   ]
  },
  {
   "cell_type": "code",
   "execution_count": 33,
   "id": "300ee642-da04-46a3-83f9-5f3589e435ab",
   "metadata": {},
   "outputs": [],
   "source": [
    "x, y = 5, 8.0"
   ]
  },
  {
   "cell_type": "code",
   "execution_count": 35,
   "id": "8beffe18-ff94-4162-a1da-e36e30f370ef",
   "metadata": {},
   "outputs": [
    {
     "name": "stdout",
     "output_type": "stream",
     "text": [
      "13.0\n",
      "<class 'float'>\n"
     ]
    }
   ],
   "source": [
    "print(x + y)  \n",
    "print(type(x + y)) "
   ]
  },
  {
   "cell_type": "code",
   "execution_count": 39,
   "id": "1cc78089-a358-4233-82e5-b3afc74a82f0",
   "metadata": {},
   "outputs": [
    {
     "name": "stdout",
     "output_type": "stream",
     "text": [
      "{\"dataframes\": [], \"user\": \"bisss\"}\n"
     ]
    }
   ],
   "source": [
    "# Using `_` in Python (works in interactive shells like REPL)\n",
    "# `_` holds the result of the last executed expression\n",
    "# Uncomment in REPL/interactive mode\n",
    "print(_)"
   ]
  },
  {
   "cell_type": "markdown",
   "id": "ac2f1f8d-6d9f-4d34-a99f-5ab3e2263e96",
   "metadata": {},
   "source": [
    "## Boolean Operations"
   ]
  },
  {
   "cell_type": "code",
   "execution_count": 42,
   "id": "c0f615e8-55cf-476c-b7e5-867a74a6c466",
   "metadata": {},
   "outputs": [],
   "source": [
    "a = True\n",
    "b = True\n",
    "c = False"
   ]
  },
  {
   "cell_type": "code",
   "execution_count": 44,
   "id": "abaace11-d285-45b6-80fa-99cfb19f11e7",
   "metadata": {},
   "outputs": [
    {
     "name": "stdout",
     "output_type": "stream",
     "text": [
      "True\n",
      "False\n"
     ]
    }
   ],
   "source": [
    "print(a and b) \n",
    "print(b and c) "
   ]
  },
  {
   "cell_type": "markdown",
   "id": "74e4ddef-94af-4422-a496-655007d4b7d8",
   "metadata": {},
   "source": [
    "## Rounding Numbers"
   ]
  },
  {
   "cell_type": "code",
   "execution_count": 47,
   "id": "10d0a9a4-bf99-4486-b7c6-fb2f88af6263",
   "metadata": {},
   "outputs": [
    {
     "name": "stdout",
     "output_type": "stream",
     "text": [
      "4\n",
      "4.578\n",
      "4.523\n",
      "5\n"
     ]
    }
   ],
   "source": [
    "print(round(4.5))        \n",
    "print(round(4.5780, 3))   \n",
    "print(round(4.5234, 3))  \n",
    "print(round(4.6)) "
   ]
  },
  {
   "cell_type": "markdown",
   "id": "7b49bd3f-378d-461c-b49b-9428cbff73eb",
   "metadata": {},
   "source": [
    "## divmod() Function"
   ]
  },
  {
   "cell_type": "code",
   "execution_count": 50,
   "id": "f89d7f76-608c-40f0-8750-f323847dde2e",
   "metadata": {},
   "outputs": [
    {
     "name": "stdout",
     "output_type": "stream",
     "text": [
      "(7, 1)\n",
      "<class 'tuple'>\n",
      "7\n"
     ]
    }
   ],
   "source": [
    "# divmod() function returns a tuple (quotient, remainder)\n",
    "g = divmod(36, 5)\n",
    "print(g)        \n",
    "print(type(g))   \n",
    "print(g[0])"
   ]
  },
  {
   "cell_type": "markdown",
   "id": "ac8a132c-9fa4-4d37-a169-8c18ed77da24",
   "metadata": {},
   "source": [
    "## isinstance() Function"
   ]
  },
  {
   "cell_type": "code",
   "execution_count": 55,
   "id": "e5eebd4b-ea1b-4f39-a58e-6171de28bf2d",
   "metadata": {},
   "outputs": [
    {
     "name": "stdout",
     "output_type": "stream",
     "text": [
      "False\n",
      "True\n"
     ]
    }
   ],
   "source": [
    "#Checks the type of a variable\n",
    "print(isinstance(3, str))   \n",
    "print(isinstance(4.0, float))"
   ]
  },
  {
   "cell_type": "markdown",
   "id": "ff0e08fb-32a6-4854-8d88-5404116aa5cf",
   "metadata": {},
   "source": [
    "##  pow() Function"
   ]
  },
  {
   "cell_type": "code",
   "execution_count": 58,
   "id": "3e86c51b-c21c-49a5-9215-31b11c9cadda",
   "metadata": {},
   "outputs": [
    {
     "name": "stdout",
     "output_type": "stream",
     "text": [
      "7\n"
     ]
    }
   ],
   "source": [
    "print(pow(2, 4, 9)) #2 raised to 4, modulo 9"
   ]
  },
  {
   "cell_type": "code",
   "execution_count": 60,
   "id": "ad292029-3bdf-454c-a5b2-a456b910b7c8",
   "metadata": {},
   "outputs": [
    {
     "name": "stdin",
     "output_type": "stream",
     "text": [
      "Enter any number:  5\n",
      "Enter the power of the given number:  2\n"
     ]
    },
    {
     "name": "stdout",
     "output_type": "stream",
     "text": [
      "The power of the given number is 25\n"
     ]
    }
   ],
   "source": [
    "# Taking user input for power calculation\n",
    "a = int(input(\"Enter any number: \"))\n",
    "b = int(input(\"Enter the power of the given number: \"))\n",
    "print(\"The power of the given number is\", pow(a, b))"
   ]
  },
  {
   "cell_type": "markdown",
   "id": "19cc84dd-1505-4bf9-8c0a-72e6b30f5065",
   "metadata": {},
   "source": [
    "## help() Function"
   ]
  },
  {
   "cell_type": "code",
   "execution_count": 67,
   "id": "a17d0d77-45b9-471f-9444-c849a4d33470",
   "metadata": {},
   "outputs": [
    {
     "name": "stdout",
     "output_type": "stream",
     "text": [
      "Help on built-in function pow in module builtins:\n",
      "\n",
      "pow(base, exp, mod=None)\n",
      "    Equivalent to base**exp with 2 arguments or base**exp % mod with 3 arguments\n",
      "\n",
      "    Some types, such as ints, are able to use a more efficient algorithm when\n",
      "    invoked using the three argument form.\n",
      "\n"
     ]
    }
   ],
   "source": [
    "#  help() function provides information about Python functions\n",
    "help(pow)"
   ]
  },
  {
   "cell_type": "markdown",
   "id": "e7406d99-2140-4fc8-a5d0-488bc9ac154e",
   "metadata": {},
   "source": [
    "## Control Flow"
   ]
  },
  {
   "cell_type": "code",
   "execution_count": 71,
   "id": "92d61a58-929d-4b32-8026-dfd4c1e48d5c",
   "metadata": {},
   "outputs": [
    {
     "name": "stdin",
     "output_type": "stream",
     "text": [
      "Enter the value of a:  2\n",
      "Enter the value of b:  5\n"
     ]
    },
    {
     "name": "stdout",
     "output_type": "stream",
     "text": [
      "b is greater\n"
     ]
    }
   ],
   "source": [
    "# Example 1: Comparing two numbers\n",
    "a = int(input(\"Enter the value of a: \"))\n",
    "b = int(input(\"Enter the value of b: \"))\n",
    "\n",
    "if a > b:\n",
    "    print(\"a is greater\")\n",
    "elif b > a:\n",
    "    print(\"b is greater\")\n",
    "else:\n",
    "    print(\"a and b are equal\")"
   ]
  },
  {
   "cell_type": "code",
   "execution_count": 73,
   "id": "fba5173e-fa93-43f8-9795-0d4d1ca954ac",
   "metadata": {},
   "outputs": [
    {
     "name": "stdin",
     "output_type": "stream",
     "text": [
      "Enter any number:  4\n"
     ]
    },
    {
     "name": "stdout",
     "output_type": "stream",
     "text": [
      "Number is a natural number\n",
      "Number is even\n"
     ]
    }
   ],
   "source": [
    "# Example 2: Checking natural numbers and parity\n",
    "a = int(input(\"Enter any number: \"))\n",
    "\n",
    "if a > 0:\n",
    "    print(\"Number is a natural number\")\n",
    "    if a % 2 == 0:\n",
    "        print(\"Number is even\")\n",
    "    else:\n",
    "        print(\"Number is odd\")\n",
    "else:\n",
    "    print(\"Number is not a natural number (it’s a whole number)\")"
   ]
  },
  {
   "cell_type": "code",
   "execution_count": 75,
   "id": "6f118087-0b40-4a34-b2a9-e6a7d56a9b10",
   "metadata": {},
   "outputs": [
    {
     "name": "stdin",
     "output_type": "stream",
     "text": [
      "Enter any number:  3.67\n"
     ]
    },
    {
     "name": "stdout",
     "output_type": "stream",
     "text": [
      "The floor value of 3.67 is 3\n",
      "Number is odd\n"
     ]
    }
   ],
   "source": [
    "# Using math module with control flow\n",
    "import math\n",
    "\n",
    "a = float(input(\"Enter any number: \"))\n",
    "value = math.floor(a)  # Rounds the number down to the nearest integer\n",
    "print(f\"The floor value of {a} is {value}\")\n",
    "\n",
    "if value % 2 == 0:\n",
    "    print(\"Number is even\")\n",
    "else:\n",
    "    print(\"Number is odd\")"
   ]
  },
  {
   "cell_type": "markdown",
   "id": "c0679b6f-e8f5-4a3c-acb9-2a3287d9db3f",
   "metadata": {},
   "source": [
    "## Loops in Python"
   ]
  },
  {
   "cell_type": "code",
   "execution_count": 78,
   "id": "5b1d3c21-2753-4288-b5bc-0c4f3a1cc996",
   "metadata": {},
   "outputs": [
    {
     "name": "stdin",
     "output_type": "stream",
     "text": [
      "Enter any number:  5\n"
     ]
    },
    {
     "name": "stdout",
     "output_type": "stream",
     "text": [
      "1\n",
      "2\n",
      "3\n",
      "4\n",
      "5\n",
      "The total sum is: 15\n"
     ]
    }
   ],
   "source": [
    "# While loop to calculate the sum of numbers\n",
    "n = int(input(\"Enter any number: \"))\n",
    "i = 1\n",
    "sum = 0\n",
    "while n >= i:\n",
    "    print(i)  \n",
    "    sum += i \n",
    "    i += 1    \n",
    "\n",
    "print(f\"The total sum is: {sum}\")"
   ]
  },
  {
   "cell_type": "code",
   "execution_count": 80,
   "id": "2be45552-e622-4b44-81e7-a0d5092dfe9a",
   "metadata": {},
   "outputs": [
    {
     "name": "stdout",
     "output_type": "stream",
     "text": [
      "1\n",
      "3\n",
      "5\n",
      "7\n",
      "9\n",
      "[0, 4, 16, 36, 64]\n",
      "<class 'list'>\n"
     ]
    }
   ],
   "source": [
    "# For loop example: Iterating and creating a list\n",
    "L = []\n",
    "\n",
    "for i in range(0, 10, 2):  \n",
    "    print(i + 1)          \n",
    "    L.append(i ** 2)      \n",
    "\n",
    "print(L)  \n",
    "print(type(L)) "
   ]
  },
  {
   "cell_type": "code",
   "execution_count": 84,
   "id": "1687dff2-cf29-40bd-a10f-b2f7692493b3",
   "metadata": {},
   "outputs": [
    {
     "name": "stdout",
     "output_type": "stream",
     "text": [
      "Apple\n",
      "Litchi\n",
      "Banana\n"
     ]
    }
   ],
   "source": [
    "# Iterating over a set\n",
    "s = {\"Apple\", \"Banana\", \"Litchi\"}\n",
    "\n",
    "for i in s:\n",
    "    print(i)"
   ]
  },
  {
   "cell_type": "code",
   "execution_count": 86,
   "id": "987daf86-2926-4626-ac9f-bc3268a5c9fe",
   "metadata": {},
   "outputs": [
    {
     "name": "stdout",
     "output_type": "stream",
     "text": [
      "name Ram\n",
      "age 12\n"
     ]
    }
   ],
   "source": [
    "# Iterating over a dictionary\n",
    "d = {\"name\": \"Ram\", \"age\": 12}\n",
    "\n",
    "for key in d:\n",
    "    print(key, d[key])"
   ]
  },
  {
   "cell_type": "markdown",
   "id": "92249322-b5b2-4503-9e56-4d58061dbe82",
   "metadata": {},
   "source": [
    "## Functions in Python"
   ]
  },
  {
   "cell_type": "code",
   "execution_count": 90,
   "id": "cfbcfccb-d618-4349-bb1b-67207b2ce8e5",
   "metadata": {},
   "outputs": [
    {
     "name": "stdin",
     "output_type": "stream",
     "text": [
      "Enter your name:  ram\n"
     ]
    },
    {
     "name": "stdout",
     "output_type": "stream",
     "text": [
      "My name is ram\n"
     ]
    }
   ],
   "source": [
    "# Example 1: A simple function with a docstring\n",
    "def printMyName(name):\n",
    "    \"\"\"\n",
    "    This function takes one argument and prints it as a name.\n",
    "    Signature: printMyName(name)\n",
    "    \"\"\"\n",
    "    print(\"My name is\", name)\n",
    "\n",
    "printMyName(input(\"Enter your name: \"))\n"
   ]
  },
  {
   "cell_type": "code",
   "execution_count": 92,
   "id": "85ba6c99-dd0c-40c7-93ee-e04946653285",
   "metadata": {},
   "outputs": [
    {
     "name": "stdout",
     "output_type": "stream",
     "text": [
      "The total sum is: 15\n"
     ]
    }
   ],
   "source": [
    "# Example 2: Function with arbitrary arguments (*args)\n",
    "def sumFn(*args):\n",
    "    \"\"\"\n",
    "    This function takes any number of arguments and calculates their sum.\n",
    "    Signature: sumFn(*args)\n",
    "    \"\"\"\n",
    "    total = 0\n",
    "    for i in args:\n",
    "        total += i\n",
    "    print(f\"The total sum is: {total}\")\n",
    "\n",
    "sumFn(1, 2, 3, 4, 5)"
   ]
  },
  {
   "cell_type": "markdown",
   "id": "113509b5-9e6b-4e01-8dd2-a636fff211b1",
   "metadata": {},
   "source": [
    "## Strings in Python"
   ]
  },
  {
   "cell_type": "code",
   "execution_count": 95,
   "id": "5add97f2-af89-4822-8d63-2eaed817eb37",
   "metadata": {},
   "outputs": [
    {
     "name": "stdout",
     "output_type": "stream",
     "text": [
      "Hello this is   me\n"
     ]
    }
   ],
   "source": [
    "# Strings are immutable sequences of characters. Python provides many methods to manipulate strings.\n",
    "s = \"   Hello this is   me    \"\n",
    "print(s.strip())  # Removing whitespace from the beginning and end"
   ]
  },
  {
   "cell_type": "code",
   "execution_count": 97,
   "id": "de8a4ebf-45a0-4740-8f51-506bf1f0bbea",
   "metadata": {},
   "outputs": [
    {
     "name": "stdout",
     "output_type": "stream",
     "text": [
      "   HELLO THIS IS   ME    \n"
     ]
    }
   ],
   "source": [
    "print(s.upper()) # Converting string to uppercase"
   ]
  },
  {
   "cell_type": "code",
   "execution_count": 99,
   "id": "bafbebd1-921b-4eb6-ad92-320b1ad3b7e1",
   "metadata": {},
   "outputs": [
    {
     "name": "stdout",
     "output_type": "stream",
     "text": [
      "   Hi this is   me    \n"
     ]
    }
   ],
   "source": [
    "print(s.replace(\"Hello\", \"Hi\")) # Replacing substrings"
   ]
  },
  {
   "cell_type": "code",
   "execution_count": 101,
   "id": "29377ce6-08d8-4311-bdeb-bb18bd6d2a63",
   "metadata": {},
   "outputs": [
    {
     "name": "stdout",
     "output_type": "stream",
     "text": [
      "['This', 'is', 'my', 'name', \"what's\", 'yours?']\n"
     ]
    }
   ],
   "source": [
    "string = \"This,is,my,name,what's,yours?\" # Splitting strings into a list based on a delimiter\n",
    "print(string.split(\",\"))"
   ]
  },
  {
   "cell_type": "code",
   "execution_count": 103,
   "id": "75ba8d73-da9a-4569-a876-3d5a011912b7",
   "metadata": {},
   "outputs": [
    {
     "name": "stdout",
     "output_type": "stream",
     "text": [
      "No, 'ram' is in the string\n"
     ]
    }
   ],
   "source": [
    "# Checking substring presence\n",
    "string = \"Hi ram it's shyam\"\n",
    "if \"ram\" not in string:\n",
    "    print(\"Yes, 'ram' is not in the string\")\n",
    "else:\n",
    "    print(\"No, 'ram' is in the string\") "
   ]
  },
  {
   "cell_type": "markdown",
   "id": "12ba352a-c82c-444e-a22e-1b9394968867",
   "metadata": {},
   "source": [
    "## Data Structures in Python"
   ]
  },
  {
   "cell_type": "code",
   "execution_count": 107,
   "id": "20f5733a-3eca-4d23-957d-69547525333a",
   "metadata": {},
   "outputs": [
    {
     "name": "stdout",
     "output_type": "stream",
     "text": [
      "4\n"
     ]
    }
   ],
   "source": [
    "# 1 List: Mutable, ordered, and allows duplicate elements\n",
    "L = [1, 2, 3, 4, \"Ram\"]\n",
    "\n",
    "# Accessing elements\n",
    "print(L[3])"
   ]
  },
  {
   "cell_type": "code",
   "execution_count": 109,
   "id": "edde67b7-9ed6-4618-a4c9-08e2f500d8c5",
   "metadata": {},
   "outputs": [
    {
     "name": "stdout",
     "output_type": "stream",
     "text": [
      "Value of List: [2, 3] ['Ram', 4, 3, 2, 1]\n"
     ]
    }
   ],
   "source": [
    "# Slicing and reversing\n",
    "print(\"Value of List:\", L[1:3], L[::-1])"
   ]
  },
  {
   "cell_type": "code",
   "execution_count": 113,
   "id": "a85a8f17-30c8-4d07-b463-9915ef7e2fef",
   "metadata": {},
   "outputs": [
    {
     "data": {
      "text/plain": [
       "[1, 2, 3, 4, 'Ram', 'How', 'Are', 'You', '69', 'How', 'Are', 'You', '69']"
      ]
     },
     "execution_count": 113,
     "metadata": {},
     "output_type": "execute_result"
    }
   ],
   "source": [
    "# Adding elements\n",
    "L = L + ['How', 'Are', 'You']  # Concatenation\n",
    "L.append(\"69\") \n",
    "L"
   ]
  },
  {
   "cell_type": "code",
   "execution_count": 115,
   "id": "d852ffca-7c9c-4c80-89e4-6b280ff90664",
   "metadata": {},
   "outputs": [
    {
     "name": "stdout",
     "output_type": "stream",
     "text": [
      "2\n"
     ]
    }
   ],
   "source": [
    "# 2. Tuple: Immutable, ordered, and allows duplicate elements\n",
    "T = (\"Ram\", 1, 2, 3, 4)\n",
    "\n",
    "# Accessing elements\n",
    "print(T[2]) "
   ]
  },
  {
   "cell_type": "code",
   "execution_count": 117,
   "id": "98a366fd-2faa-46d9-8646-5956b708fad5",
   "metadata": {},
   "outputs": [
    {
     "name": "stdout",
     "output_type": "stream",
     "text": [
      "('Ram', 1, 2, 3, 4, 'Shyam', 'Hari')\n"
     ]
    }
   ],
   "source": [
    "# Tuples are immutable, but concatenation creates a new tuple\n",
    "T2 = (\"Shyam\", \"Hari\")\n",
    "T3 = T + T2\n",
    "print(T3) "
   ]
  },
  {
   "cell_type": "code",
   "execution_count": 119,
   "id": "5df2710d-4a9c-4961-bc3c-fae948d1fbf7",
   "metadata": {},
   "outputs": [
    {
     "name": "stdout",
     "output_type": "stream",
     "text": [
      "True\n"
     ]
    }
   ],
   "source": [
    "# 3. Set: Mutable, unordered, and does not allow duplicate elements\n",
    "S = {\"Ram\", \"Hari\", \"Shyam\"}\n",
    "\n",
    "print(\"Hari\" in S)"
   ]
  },
  {
   "cell_type": "code",
   "execution_count": 121,
   "id": "8a875e14-bb76-4b6a-9304-a8581722319b",
   "metadata": {},
   "outputs": [
    {
     "name": "stdout",
     "output_type": "stream",
     "text": [
      "{'Shyam', 'Sita', 55, 'Gita', 'Hari', 'Ram'}\n"
     ]
    }
   ],
   "source": [
    "# Adding and updating elements\n",
    "S.add(55)  # Adds a single element\n",
    "S.update({\"Sita\", \"Gita\"})  # Adds multiple elements\n",
    "print(S)"
   ]
  },
  {
   "cell_type": "code",
   "execution_count": 123,
   "id": "bc7d1eff-1b50-4e7e-b6e8-e2d38268c8e2",
   "metadata": {},
   "outputs": [
    {
     "name": "stdout",
     "output_type": "stream",
     "text": [
      "{'Sita', 55, 'Gita', 'Hari', 'Ram'}\n"
     ]
    }
   ],
   "source": [
    "# Removing elements\n",
    "S.remove(\"Shyam\")  # Removes \"Shyam\" if it exists\n",
    "print(S)"
   ]
  },
  {
   "cell_type": "code",
   "execution_count": 125,
   "id": "6c8c8a87-4a2b-40fe-b642-f197e6ea201c",
   "metadata": {},
   "outputs": [
    {
     "name": "stdout",
     "output_type": "stream",
     "text": [
      "12\n"
     ]
    }
   ],
   "source": [
    "# 4. Dictionary: Mutable, unordered, stores data in key-value pairs\n",
    "D = {\"Name\": \"Ram\", \"Age\": 12}\n",
    "\n",
    "# Accessing elements by key\n",
    "print(D[\"Age\"]) "
   ]
  },
  {
   "cell_type": "code",
   "execution_count": 127,
   "id": "e596770c-2f63-41d9-9416-33e956b385fe",
   "metadata": {},
   "outputs": [
    {
     "name": "stdout",
     "output_type": "stream",
     "text": [
      "{'Name': 'Ram', 'Age': 12, 'Obj': 'True'}\n"
     ]
    }
   ],
   "source": [
    "# Adding or updating elements\n",
    "D2 = {\"Obj\": \"True\"}\n",
    "D.update(D2)  # Merges D2 into D\n",
    "print(D)"
   ]
  },
  {
   "cell_type": "code",
   "execution_count": null,
   "id": "7aebfd1a-d6ac-4ff0-a222-009aeafe0c70",
   "metadata": {},
   "outputs": [],
   "source": []
  }
 ],
 "metadata": {
  "kernelspec": {
   "display_name": "Python [conda env:base] *",
   "language": "python",
   "name": "conda-base-py"
  },
  "language_info": {
   "codemirror_mode": {
    "name": "ipython",
    "version": 3
   },
   "file_extension": ".py",
   "mimetype": "text/x-python",
   "name": "python",
   "nbconvert_exporter": "python",
   "pygments_lexer": "ipython3",
   "version": "3.12.7"
  }
 },
 "nbformat": 4,
 "nbformat_minor": 5
}
