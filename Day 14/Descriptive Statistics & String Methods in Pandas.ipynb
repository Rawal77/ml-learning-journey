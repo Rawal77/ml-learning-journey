{
 "cells": [
  {
   "cell_type": "markdown",
   "id": "2bc36572-f899-4e0d-b583-96e74143957d",
   "metadata": {},
   "source": [
    "# Descriptive Statistics & String Methods in Pandas"
   ]
  },
  {
   "cell_type": "code",
   "execution_count": 2,
   "id": "96cd96a2-1fba-4aa4-b133-9dadc1003f49",
   "metadata": {},
   "outputs": [],
   "source": [
    "import pandas as pd\n",
    "\n",
    "# Creating a sample DataFrame with missing values\n",
    "data = {\n",
    "    \"Name\": [\"Hari\", \"Shyam\", None],\n",
    "    \"Age\": [12, 14, 18],\n",
    "    \"Subject\": [\"Math\", None, \"Anthropology\"]\n",
    "}\n",
    "df = pd.DataFrame(data)"
   ]
  },
  {
   "cell_type": "markdown",
   "id": "b95a13d6-c952-436e-8088-2449c0cec455",
   "metadata": {},
   "source": [
    "### Descriptive Statistics in Pandas"
   ]
  },
  {
   "cell_type": "code",
   "execution_count": 68,
   "id": "1896256d-d9fa-47a8-86b4-e569c4d26c15",
   "metadata": {},
   "outputs": [
    {
     "name": "stdout",
     "output_type": "stream",
     "text": [
      "\n",
      "Statistical Summary:\n",
      "             Age\n",
      "count   3.000000\n",
      "mean   14.666667\n",
      "std     3.055050\n",
      "min    12.000000\n",
      "25%    13.000000\n",
      "50%    14.000000\n",
      "75%    16.000000\n",
      "max    18.000000\n",
      "\n",
      "Count of non-null values:\n",
      "Name       2\n",
      "Age        3\n",
      "Subject    2\n",
      "dtype: int64\n",
      "\n",
      "Median of Age column:\n",
      "14.0\n"
     ]
    }
   ],
   "source": [
    "# The describe() method gives a statistical summary of numerical columns\n",
    "print(\"\\nStatistical Summary:\")\n",
    "print(df.describe())\n",
    "\n",
    "# Count non-null values in each column\n",
    "print(\"\\nCount of non-null values:\")\n",
    "print(df.count())\n",
    "\n",
    "# Median of 'Age' column\n",
    "print(\"\\nMedian of Age column:\")\n",
    "print(df['Age'].median())"
   ]
  },
  {
   "cell_type": "code",
   "execution_count": 72,
   "id": "bc0616a1-3c68-4741-8003-9fedf0420056",
   "metadata": {},
   "outputs": [],
   "source": [
    "# print(df.min())  # Minimum values\n",
    "# print(df.max())  # Maximum values\n",
    "# print(df.var())  # Variance\n",
    "# print(df.std())  # Standard deviation\n",
    "# print(df.corr())  # Correlation between numeric columns\n",
    "# print(df.quantile([0.25, 0.75]))  # Quartiles\n",
    "# print(df.skew())  # Skewness of the data\n",
    "# print(df.kurtosis())  # Kurtosis"
   ]
  },
  {
   "cell_type": "markdown",
   "id": "23903316-3011-4c45-b17e-73ef8cf8937a",
   "metadata": {},
   "source": [
    "### Function Application in Pandas"
   ]
  },
  {
   "cell_type": "code",
   "execution_count": 10,
   "id": "f60d2305-4cf6-4ab7-951b-d9840d6995ae",
   "metadata": {},
   "outputs": [
    {
     "name": "stdout",
     "output_type": "stream",
     "text": [
      "\n",
      "Doubled ages:\n",
      "0    24\n",
      "1    28\n",
      "2    36\n",
      "dtype: int64\n"
     ]
    }
   ],
   "source": [
    "# Element-wise Function Application\n",
    "\n",
    "# The map() method applies a function to each element in a Series\n",
    "\n",
    "def double(x):\n",
    "    return x * 2\n",
    "\n",
    "ages = pd.Series([12, 14, 18])\n",
    "print(\"\\nDoubled ages:\")\n",
    "print(ages.map(double))"
   ]
  },
  {
   "cell_type": "code",
   "execution_count": 12,
   "id": "68b3f142-de22-49a4-91a4-817ee2c9548b",
   "metadata": {},
   "outputs": [
    {
     "name": "stdout",
     "output_type": "stream",
     "text": [
      "\n",
      "Ages after adding 10:\n",
      "0    22\n",
      "1    24\n",
      "2    28\n",
      "Name: Age, dtype: int64\n"
     ]
    }
   ],
   "source": [
    "# Row-wise and Column-wise application using apply()\n",
    "def add_ten(x):\n",
    "    return x + 10\n",
    "\n",
    "print(\"\\nAges after adding 10:\")\n",
    "print(df[\"Age\"].apply(add_ten))"
   ]
  },
  {
   "cell_type": "markdown",
   "id": "e9f253a7-3ff6-41f7-bd15-e49551361770",
   "metadata": {},
   "source": [
    "### Reindexing in Pandas"
   ]
  },
  {
   "cell_type": "code",
   "execution_count": 15,
   "id": "5d023c2d-a8a7-4285-8d54-7c7a1547000d",
   "metadata": {},
   "outputs": [
    {
     "name": "stdout",
     "output_type": "stream",
     "text": [
      "\n",
      "Original DataFrame:\n",
      "   A  B\n",
      "0  1  4\n",
      "1  2  5\n",
      "2  3  6\n"
     ]
    }
   ],
   "source": [
    "df_reindex = pd.DataFrame({'A': [1, 2, 3], 'B': [4, 5, 6]})\n",
    "print(\"\\nOriginal DataFrame:\")\n",
    "print(df_reindex)"
   ]
  },
  {
   "cell_type": "code",
   "execution_count": 17,
   "id": "a220fad7-fd45-4548-bc95-e9f7314573b4",
   "metadata": {},
   "outputs": [
    {
     "name": "stdout",
     "output_type": "stream",
     "text": [
      "\n",
      "Reindexed DataFrame:\n",
      "   A  B\n",
      "2  3  6\n",
      "0  1  4\n",
      "1  2  5\n"
     ]
    }
   ],
   "source": [
    "# Reindexing the rows\n",
    "\n",
    "new_index = [2, 0, 1]\n",
    "df_reindexed = df_reindex.reindex(new_index)\n",
    "print(\"\\nReindexed DataFrame:\")\n",
    "print(df_reindexed)"
   ]
  },
  {
   "cell_type": "markdown",
   "id": "4541da9e-265a-4a72-b350-092694f0b025",
   "metadata": {},
   "source": [
    "### Iteration in Pandas"
   ]
  },
  {
   "cell_type": "code",
   "execution_count": 20,
   "id": "923d785e-2d82-4d5f-a393-189ed7e929a9",
   "metadata": {},
   "outputs": [
    {
     "name": "stdout",
     "output_type": "stream",
     "text": [
      "\n",
      "Iterating over DataFrame columns:\n",
      "Name:\n",
      "0     Hari\n",
      "1    Shyam\n",
      "Name: Name, dtype: object\n",
      "\n",
      "Age:\n",
      "0    12\n",
      "1    14\n",
      "Name: Age, dtype: int64\n",
      "\n",
      "Subject:\n",
      "0            Math\n",
      "1    Anthropology\n",
      "Name: Subject, dtype: object\n",
      "\n"
     ]
    }
   ],
   "source": [
    "df_iter = pd.DataFrame({\"Name\": [\"Hari\", \"Shyam\"], \"Age\": [12, 14], \"Subject\": [\"Math\", \"Anthropology\"]})\n",
    "\n",
    "# Iterating over column names and their data\n",
    "print(\"\\nIterating over DataFrame columns:\")\n",
    "for col_name, data in df_iter.items():\n",
    "    print(f\"{col_name}:\\n{data}\\n\")"
   ]
  },
  {
   "cell_type": "code",
   "execution_count": 22,
   "id": "4c2e1df8-38d3-4f64-92d4-4f8c804ed3fd",
   "metadata": {},
   "outputs": [
    {
     "name": "stdout",
     "output_type": "stream",
     "text": [
      "\n",
      "Iterating over rows:\n",
      "Hi Hari, you are 12 years old and studying Math.\n",
      "Hi Shyam, you are 14 years old and studying Anthropology.\n"
     ]
    }
   ],
   "source": [
    "# Iterating over rows using iterrows()\n",
    "\n",
    "print(\"\\nIterating over rows:\")\n",
    "for index, row in df_iter.iterrows():\n",
    "    print(f\"Hi {row['Name']}, you are {row['Age']} years old and studying {row['Subject']}.\")"
   ]
  },
  {
   "cell_type": "markdown",
   "id": "7fdb1bde-6735-4dc9-b9ac-6ca2e6c2699f",
   "metadata": {},
   "source": [
    "### Sorting in Pandas"
   ]
  },
  {
   "cell_type": "code",
   "execution_count": 26,
   "id": "d6a766c5-067d-4431-ab96-3ce1f5de25b7",
   "metadata": {},
   "outputs": [],
   "source": [
    "df_sort = pd.DataFrame({'Name': ['Ram', 'Sita', 'Gita'], 'Age': [25, 30, 35], 'Marks': [500, 600, 380]})"
   ]
  },
  {
   "cell_type": "code",
   "execution_count": 28,
   "id": "29f8be14-b637-42d9-bc05-88980098511c",
   "metadata": {},
   "outputs": [
    {
     "name": "stdout",
     "output_type": "stream",
     "text": [
      "\n",
      "Sorted by Age:\n",
      "   Name  Age  Marks\n",
      "2  Gita   35    380\n",
      "1  Sita   30    600\n",
      "0   Ram   25    500\n"
     ]
    }
   ],
   "source": [
    "# Sorting by age in descending order\n",
    "\n",
    "print(\"\\nSorted by Age:\")\n",
    "print(df_sort.sort_values(\"Age\", ascending=False))"
   ]
  },
  {
   "cell_type": "code",
   "execution_count": 30,
   "id": "e0839848-a20f-47ba-b5dd-40a7126bd818",
   "metadata": {},
   "outputs": [
    {
     "name": "stdout",
     "output_type": "stream",
     "text": [
      "\n",
      "Sorted by Age and Marks:\n",
      "   Name  Age  Marks\n",
      "2  Gita   35    380\n",
      "1  Sita   30    600\n",
      "0   Ram   25    500\n"
     ]
    }
   ],
   "source": [
    "# Sorting by multiple columns\n",
    "\n",
    "print(\"\\nSorted by Age and Marks:\")\n",
    "print(df_sort.sort_values([\"Age\", \"Marks\"], ascending=False))"
   ]
  },
  {
   "cell_type": "markdown",
   "id": "87e769e3-d135-45eb-b94f-8e402baa1675",
   "metadata": {},
   "source": [
    "### String Methods in Pandas"
   ]
  },
  {
   "cell_type": "code",
   "execution_count": 36,
   "id": "b70c26d4-17a1-492c-9f15-357d389ac542",
   "metadata": {},
   "outputs": [],
   "source": [
    "df_strings = pd.Series(['Ram', 'sHyam', 'hari', 'Gita', 'rita'])"
   ]
  },
  {
   "cell_type": "code",
   "execution_count": 38,
   "id": "47a35717-4240-447f-b86d-9177c4274433",
   "metadata": {},
   "outputs": [
    {
     "name": "stdout",
     "output_type": "stream",
     "text": [
      "\n",
      "Lowercase Strings:\n",
      "0      ram\n",
      "1    shyam\n",
      "2     hari\n",
      "3     gita\n",
      "4     rita\n",
      "dtype: object\n"
     ]
    }
   ],
   "source": [
    "# Convert all strings to lowercase\n",
    "\n",
    "print(\"\\nLowercase Strings:\")\n",
    "print(df_strings.str.lower())"
   ]
  },
  {
   "cell_type": "code",
   "execution_count": 40,
   "id": "038c0a8a-162a-4daa-8501-b3edb36582c8",
   "metadata": {},
   "outputs": [
    {
     "name": "stdout",
     "output_type": "stream",
     "text": [
      "\n",
      "Title Case Strings:\n",
      "0      Ram\n",
      "1    Shyam\n",
      "2     Hari\n",
      "3     Gita\n",
      "4     Rita\n",
      "dtype: object\n"
     ]
    }
   ],
   "source": [
    "# Convert all strings to title case\n",
    "\n",
    "print(\"\\nTitle Case Strings:\")\n",
    "print(df_strings.str.title())"
   ]
  },
  {
   "cell_type": "code",
   "execution_count": 42,
   "id": "3b9e66dd-c592-4b5a-a78d-0aaae41b32d0",
   "metadata": {},
   "outputs": [
    {
     "name": "stdout",
     "output_type": "stream",
     "text": [
      "\n",
      "Capitalized Strings:\n",
      "0      Ram\n",
      "1    Shyam\n",
      "2     Hari\n",
      "3     Gita\n",
      "4     Rita\n",
      "dtype: object\n"
     ]
    }
   ],
   "source": [
    "# Capitalize the first letter\n",
    "\n",
    "print(\"\\nCapitalized Strings:\")\n",
    "print(df_strings.str.capitalize())"
   ]
  },
  {
   "cell_type": "code",
   "execution_count": 44,
   "id": "aac1bf25-8dc2-4c23-bb0b-d817ce64667d",
   "metadata": {},
   "outputs": [
    {
     "name": "stdout",
     "output_type": "stream",
     "text": [
      "\n",
      "Swapped Case Strings:\n",
      "0      rAM\n",
      "1    ShYAM\n",
      "2     HARI\n",
      "3     gITA\n",
      "4     RITA\n",
      "dtype: object\n"
     ]
    }
   ],
   "source": [
    "# Swap case of each character\n",
    "\n",
    "print(\"\\nSwapped Case Strings:\")\n",
    "print(df_strings.str.swapcase())"
   ]
  },
  {
   "cell_type": "code",
   "execution_count": 46,
   "id": "877ec7be-b156-40a1-85e3-32ec733c4b62",
   "metadata": {},
   "outputs": [
    {
     "name": "stdout",
     "output_type": "stream",
     "text": [
      "\n",
      "Before Strip:\n",
      "0       Ram   \n",
      "1       I am a\n",
      "2         hari\n",
      "3         Gita\n",
      "4      rita   \n",
      "dtype: object\n",
      "\n",
      "After Strip:\n",
      "0       Ram\n",
      "1    I am a\n",
      "2      hari\n",
      "3      Gita\n",
      "4      rita\n",
      "dtype: object\n"
     ]
    }
   ],
   "source": [
    "# Strip leading and trailing spaces\n",
    "\n",
    "whitespace_strings = pd.Series(['  Ram   ', '   I am a', 'hari', 'Gita', 'rita   '])\n",
    "print(\"\\nBefore Strip:\")\n",
    "print(whitespace_strings)\n",
    "print(\"\\nAfter Strip:\")\n",
    "print(whitespace_strings.str.strip())"
   ]
  },
  {
   "cell_type": "code",
   "execution_count": 48,
   "id": "af327071-3faa-4b74-880d-227d95eda402",
   "metadata": {},
   "outputs": [
    {
     "name": "stdout",
     "output_type": "stream",
     "text": [
      "\n",
      "Joined Strings:\n",
      "0        R_a_m\n",
      "1    s_H_y_a_m\n",
      "2      h_a_r_i\n",
      "3      G_i_t_a\n",
      "4      r_i_t_a\n",
      "dtype: object\n"
     ]
    }
   ],
   "source": [
    "# Join strings with an underscore\n",
    "\n",
    "print(\"\\nJoined Strings:\")\n",
    "print(df_strings.str.join('_'))"
   ]
  },
  {
   "cell_type": "code",
   "execution_count": 50,
   "id": "329ee1e9-960d-40b1-8fef-3b93fb20022b",
   "metadata": {},
   "outputs": [
    {
     "name": "stdout",
     "output_type": "stream",
     "text": [
      "\n",
      "Replacing 'earning' with 'learning':\n",
      "0              deep learning\n",
      "1          machine llearning\n",
      "2    artificial intelligence\n",
      "dtype: object\n"
     ]
    }
   ],
   "source": [
    "# Replace a substring within strings\n",
    "\n",
    "learning_strings = pd.Series(['deep earning', 'machine learning', 'artificial intelligence'])\n",
    "print(\"\\nReplacing 'earning' with 'learning':\")\n",
    "print(learning_strings.str.replace('earning', 'learning'))"
   ]
  },
  {
   "cell_type": "code",
   "execution_count": 52,
   "id": "42b84d71-d1e7-4d40-9ad5-9cb757e417a8",
   "metadata": {},
   "outputs": [
    {
     "name": "stdout",
     "output_type": "stream",
     "text": [
      "\n",
      "Contains 'learning':\n",
      "0    False\n",
      "1     True\n",
      "2    False\n",
      "dtype: bool\n"
     ]
    }
   ],
   "source": [
    "# Check if strings contain a specific substring\n",
    "\n",
    "print(\"\\nContains 'learning':\")\n",
    "print(learning_strings.str.contains('learning'))"
   ]
  },
  {
   "cell_type": "code",
   "execution_count": 54,
   "id": "190d9c35-7318-4c03-9d40-4d94b849f669",
   "metadata": {},
   "outputs": [
    {
     "name": "stdout",
     "output_type": "stream",
     "text": [
      "\n",
      "Starts with 'deep':\n",
      "0     True\n",
      "1    False\n",
      "2    False\n",
      "dtype: bool\n"
     ]
    }
   ],
   "source": [
    "# Check if strings start with a specific substring\n",
    "\n",
    "print(\"\\nStarts with 'deep':\")\n",
    "print(learning_strings.str.startswith('deep'))"
   ]
  },
  {
   "cell_type": "code",
   "execution_count": 56,
   "id": "be217f19-63e6-486f-8bd4-3680a2ffb264",
   "metadata": {},
   "outputs": [
    {
     "name": "stdout",
     "output_type": "stream",
     "text": [
      "\n",
      "Ends with 'earning':\n",
      "0     True\n",
      "1     True\n",
      "2    False\n",
      "dtype: bool\n"
     ]
    }
   ],
   "source": [
    "# Check if strings end with a specific substring\n",
    "\n",
    "print(\"\\nEnds with 'earning':\")\n",
    "print(learning_strings.str.endswith('earning'))"
   ]
  },
  {
   "cell_type": "code",
   "execution_count": 58,
   "id": "3d13b3bf-89d1-4ac8-ad1b-ba0e0489c8f8",
   "metadata": {},
   "outputs": [
    {
     "name": "stdout",
     "output_type": "stream",
     "text": [
      "\n",
      "First occurrence of 'e':\n",
      "0     1\n",
      "1     6\n",
      "2    14\n",
      "dtype: int64\n"
     ]
    }
   ],
   "source": [
    "# Find the first occurrence of a character\n",
    "\n",
    "print(\"\\nFirst occurrence of 'e':\")\n",
    "print(learning_strings.str.find('e'))"
   ]
  },
  {
   "cell_type": "code",
   "execution_count": 60,
   "id": "18c4fa2f-c36b-45c0-95db-a9d33f661bbc",
   "metadata": {},
   "outputs": [
    {
     "name": "stdout",
     "output_type": "stream",
     "text": [
      "\n",
      "Last occurrence of 'e':\n",
      "0     5\n",
      "1     9\n",
      "2    22\n",
      "dtype: int64\n"
     ]
    }
   ],
   "source": [
    "# Find the last occurrence of a character\n",
    "\n",
    "print(\"\\nLast occurrence of 'e':\")\n",
    "print(learning_strings.str.rfind('e'))"
   ]
  },
  {
   "cell_type": "code",
   "execution_count": 62,
   "id": "ee9cca4b-12ee-4831-95b2-ab96800277f4",
   "metadata": {},
   "outputs": [
    {
     "name": "stdout",
     "output_type": "stream",
     "text": [
      "\n",
      "Count of 'e' in each string:\n",
      "0    3\n",
      "1    2\n",
      "2    3\n",
      "dtype: int64\n"
     ]
    }
   ],
   "source": [
    "# Count occurrences of a substring\n",
    "\n",
    "print(\"\\nCount of 'e' in each string:\")\n",
    "print(learning_strings.str.count('e'))"
   ]
  },
  {
   "cell_type": "code",
   "execution_count": 64,
   "id": "999c00cd-07e4-4704-ac39-e84f98570c23",
   "metadata": {},
   "outputs": [
    {
     "name": "stdout",
     "output_type": "stream",
     "text": [
      "\n",
      "String Lengths:\n",
      "0    12\n",
      "1    16\n",
      "2    23\n",
      "dtype: int64\n"
     ]
    }
   ],
   "source": [
    "# Get length of each string\n",
    "\n",
    "print(\"\\nString Lengths:\")\n",
    "print(learning_strings.str.len())"
   ]
  },
  {
   "cell_type": "code",
   "execution_count": null,
   "id": "1372711f-b544-49fb-ac09-6309974aab69",
   "metadata": {},
   "outputs": [],
   "source": []
  }
 ],
 "metadata": {
  "kernelspec": {
   "display_name": "Python [conda env:base] *",
   "language": "python",
   "name": "conda-base-py"
  },
  "language_info": {
   "codemirror_mode": {
    "name": "ipython",
    "version": 3
   },
   "file_extension": ".py",
   "mimetype": "text/x-python",
   "name": "python",
   "nbconvert_exporter": "python",
   "pygments_lexer": "ipython3",
   "version": "3.12.7"
  }
 },
 "nbformat": 4,
 "nbformat_minor": 5
}
