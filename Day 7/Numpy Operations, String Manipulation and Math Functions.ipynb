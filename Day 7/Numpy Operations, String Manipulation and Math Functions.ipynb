{
 "cells": [
  {
   "cell_type": "markdown",
   "id": "44f0550a-e4be-4dd2-bb49-e69ebc61feae",
   "metadata": {},
   "source": [
    "# Array Manipulation Operation"
   ]
  },
  {
   "cell_type": "markdown",
   "id": "5a9ada1c-b124-4bd9-8e77-52888b7e0c6a",
   "metadata": {},
   "source": [
    "### Resize"
   ]
  },
  {
   "cell_type": "raw",
   "id": "1735b93b-f68b-437f-aa5d-3d95b8cb8f3e",
   "metadata": {},
   "source": [
    "The `resize()` method changes the size of an array to a specified shape.\n",
    "\n",
    "If the new shape has more elements, the array will be filled with repeated copies of its elements."
   ]
  },
  {
   "cell_type": "code",
   "execution_count": 6,
   "id": "25ebe2e4-e3b0-43b9-9523-d7b237a4ba7d",
   "metadata": {},
   "outputs": [
    {
     "name": "stdout",
     "output_type": "stream",
     "text": [
      "Original Array: [1 2 3 4 5]\n",
      "Resized Array: [1 2 3 4 5 1 2 3]\n"
     ]
    }
   ],
   "source": [
    "import numpy as np\n",
    "arr = np.array([1, 2, 3, 4, 5])\n",
    "ar1 = np.resize(arr, (8,))  # Resize array to a shape of 8 elements\n",
    "print(\"Original Array:\", arr)\n",
    "print(\"Resized Array:\", ar1)"
   ]
  },
  {
   "cell_type": "markdown",
   "id": "2104edd8-0a36-4f42-ba7d-948eea407320",
   "metadata": {},
   "source": [
    "### Append"
   ]
  },
  {
   "cell_type": "code",
   "execution_count": 16,
   "id": "0bf044a0-8a2a-4930-8578-6b03c1e2b21d",
   "metadata": {},
   "outputs": [
    {
     "name": "stdout",
     "output_type": "stream",
     "text": [
      "Appended Array: [ 1  2  3  4  5 14 35]\n"
     ]
    }
   ],
   "source": [
    "# Use `append()` to add values to the end of an array.\n",
    "\n",
    "arr = np.array([1, 2, 3, 4, 5])\n",
    "arr1 = np.append(arr, [14, 35])  # Append elements 14 and 35\n",
    "print(\"Appended Array:\", arr1)"
   ]
  },
  {
   "cell_type": "markdown",
   "id": "03588884-1558-4438-b28e-ba1632aa009e",
   "metadata": {},
   "source": [
    "### Insert"
   ]
  },
  {
   "cell_type": "code",
   "execution_count": 18,
   "id": "293f8231-a69e-4a9c-9125-ca3cb324c09b",
   "metadata": {},
   "outputs": [
    {
     "name": "stdout",
     "output_type": "stream",
     "text": [
      "Array after Insertion: [ 1  2  3  4 55  5]\n"
     ]
    }
   ],
   "source": [
    "# The `insert()` method adds values at specific indices in the array.\n",
    "\n",
    "arr = np.array([1, 2, 3, 4, 5])\n",
    "arr1 = np.insert(arr, 4, 55)  # Insert 55 at index 4\n",
    "print(\"Array after Insertion:\", arr1)"
   ]
  },
  {
   "cell_type": "markdown",
   "id": "1674f8a6-bde9-4883-a154-601a3947f5cf",
   "metadata": {},
   "source": [
    "### Delete"
   ]
  },
  {
   "cell_type": "code",
   "execution_count": 22,
   "id": "48a59da1-c19e-471a-aec2-d60ea8517da5",
   "metadata": {},
   "outputs": [
    {
     "name": "stdout",
     "output_type": "stream",
     "text": [
      "Array after Deletion: [2 3 4 5]\n"
     ]
    }
   ],
   "source": [
    "# Remove elements at specific indices with `delete()`.\n",
    "\n",
    "arr = np.array([1, 2, 3, 4, 5])\n",
    "arr1 = np.delete(arr, 0)  # Delete the element at index 0\n",
    "print(\"Array after Deletion:\", arr1)"
   ]
  },
  {
   "cell_type": "markdown",
   "id": "b200e57f-986a-448c-8df9-12440dda4ce9",
   "metadata": {},
   "source": [
    "### Unique"
   ]
  },
  {
   "cell_type": "code",
   "execution_count": 25,
   "id": "5d416313-27a2-4cde-944e-68161aaec1f9",
   "metadata": {},
   "outputs": [
    {
     "name": "stdout",
     "output_type": "stream",
     "text": [
      "Unique Elements: [1 2 3 4 5 6 7]\n"
     ]
    }
   ],
   "source": [
    "# `unique()` returns the sorted unique elements of an array, removing duplicates.\n",
    "\n",
    "arr = np.array([1, 2, 3, 4, 5, 4, 6, 7, 3])\n",
    "arr1 = np.unique(arr)\n",
    "print(\"Unique Elements:\", arr1)"
   ]
  },
  {
   "cell_type": "markdown",
   "id": "ec7418d7-a413-4a8e-8e2c-34c59977d1b5",
   "metadata": {},
   "source": [
    "# Bitwise Operators"
   ]
  },
  {
   "cell_type": "raw",
   "id": "79982186-ce0f-4a96-8930-d18650242cbb",
   "metadata": {},
   "source": [
    "NumPy supports element-wise bitwise operations for arrays."
   ]
  },
  {
   "cell_type": "markdown",
   "id": "7d31e36c-571f-4f76-a60b-8003974e0c89",
   "metadata": {},
   "source": [
    "### Bitwise AND"
   ]
  },
  {
   "cell_type": "code",
   "execution_count": 33,
   "id": "a05fa8d9-1963-42a1-a772-a016c9252a91",
   "metadata": {},
   "outputs": [
    {
     "name": "stdout",
     "output_type": "stream",
     "text": [
      "Bitwise AND: [1 8]\n"
     ]
    }
   ],
   "source": [
    "# Binary representation of 5 (101) and 3 (011):\n",
    "# Bitwise AND: 001\n",
    "\n",
    "a = np.array([5, 8])\n",
    "b = np.array([3, 10])\n",
    "print(\"Bitwise AND:\", np.bitwise_and(a, b))  # Perform bitwise AND"
   ]
  },
  {
   "cell_type": "markdown",
   "id": "2fa60c82-e522-48ea-a3cb-68f699a5837f",
   "metadata": {},
   "source": [
    "### Bitwise OR"
   ]
  },
  {
   "cell_type": "code",
   "execution_count": 38,
   "id": "7c106728-10ec-49c6-bc04-3ecfeb63c1db",
   "metadata": {},
   "outputs": [
    {
     "name": "stdout",
     "output_type": "stream",
     "text": [
      "Bitwise OR: [ 7 10]\n"
     ]
    }
   ],
   "source": [
    "# Binary representation of 5 (101) and 3 (011):\n",
    "# Bitwise OR: 111\n",
    "\n",
    "print(\"Bitwise OR:\", np.bitwise_or(a, b))  # Perform bitwise OR"
   ]
  },
  {
   "cell_type": "markdown",
   "id": "db5c0c6e-fcea-45e6-990d-1a7c18dbfb94",
   "metadata": {},
   "source": [
    "# String Operations"
   ]
  },
  {
   "cell_type": "raw",
   "id": "1665a05c-30a9-4a43-86a2-cf8e2c9528b6",
   "metadata": {},
   "source": [
    "NumPy provides specialized string operations for element-wise processing."
   ]
  },
  {
   "cell_type": "markdown",
   "id": "336a69a6-0a6a-4d67-a461-96a0c114685f",
   "metadata": {},
   "source": [
    "### Adding Strings"
   ]
  },
  {
   "cell_type": "code",
   "execution_count": 45,
   "id": "a63fbe42-419c-4d29-af53-77b35298ee63",
   "metadata": {},
   "outputs": [
    {
     "name": "stdout",
     "output_type": "stream",
     "text": [
      "After Add: ['ramthapa' 'shyamthapa' 'gitathapa']\n"
     ]
    }
   ],
   "source": [
    "# Concatenate a suffix to all array elements.\n",
    "\n",
    "arr = np.array(['ram', 'shyam', 'gita'])\n",
    "newarr = np.char.add(arr, 'thapa')\n",
    "print(\"After Add:\", newarr)"
   ]
  },
  {
   "cell_type": "markdown",
   "id": "4c67e612-6e87-4131-99fb-2ef05f9b70af",
   "metadata": {},
   "source": [
    "### Capitalization"
   ]
  },
  {
   "cell_type": "code",
   "execution_count": 48,
   "id": "ed980877-2a2e-45e2-addb-644d21ee97fc",
   "metadata": {},
   "outputs": [
    {
     "name": "stdout",
     "output_type": "stream",
     "text": [
      "Title Case Array: ['Ram' 'Shyam' 'Gita']\n"
     ]
    }
   ],
   "source": [
    "# Convert the first letter of each word to uppercase.\n",
    "\n",
    "titlearr = np.char.title(arr)\n",
    "print(\"Title Case Array:\", titlearr)"
   ]
  },
  {
   "cell_type": "markdown",
   "id": "c0bd2fef-b838-4d25-b891-79f10e759641",
   "metadata": {},
   "source": [
    "### Stripping Whitespace"
   ]
  },
  {
   "cell_type": "code",
   "execution_count": 53,
   "id": "b52a95a7-bf8e-4871-b149-f6e428f55048",
   "metadata": {},
   "outputs": [
    {
     "name": "stdout",
     "output_type": "stream",
     "text": [
      "Stripped Array: ['ram   is a' 'shyam' 'gita']\n"
     ]
    }
   ],
   "source": [
    "# Remove leading and trailing whitespace\n",
    "\n",
    "arr = np.array(['  ram   is a  ', 'shyam   ', '   gita'])\n",
    "print(\"Stripped Array:\", np.char.strip(arr))  "
   ]
  },
  {
   "cell_type": "markdown",
   "id": "23bc5c22-0395-4491-ac64-8e3e14020a1e",
   "metadata": {},
   "source": [
    "### Splitting Strings"
   ]
  },
  {
   "cell_type": "code",
   "execution_count": 56,
   "id": "2ae41df6-fdf9-4943-97b1-4993b9cb4cd5",
   "metadata": {},
   "outputs": [
    {
     "name": "stdout",
     "output_type": "stream",
     "text": [
      "Split Array (by 'a'): [list(['r', 'm']) list(['shy', 'm']) list(['git', ''])]\n"
     ]
    }
   ],
   "source": [
    "# Split strings on a specific character.\n",
    "\n",
    "arr = np.array(['ram', 'shyam', 'gita'])\n",
    "print(\"Split Array (by 'a'):\", np.char.split(arr, 'a'))"
   ]
  },
  {
   "cell_type": "markdown",
   "id": "4cd10905-4328-4f8f-881a-dc06ac024c15",
   "metadata": {},
   "source": [
    "### Joining Strings"
   ]
  },
  {
   "cell_type": "code",
   "execution_count": 58,
   "id": "22669fea-6a54-45e9-bf72-f1b3c3f24ee8",
   "metadata": {},
   "outputs": [
    {
     "name": "stdout",
     "output_type": "stream",
     "text": [
      "Joined Array (with '/'):  ['r/a/m' 's/h/y/a/m' 'g/i/t/a']\n"
     ]
    }
   ],
   "source": [
    "# Join strings with a separator.\n",
    "\n",
    "print(\"Joined Array (with '/'): \", np.char.join('/', arr))"
   ]
  },
  {
   "cell_type": "markdown",
   "id": "b9015218-f4d5-429f-abb8-6a4613eeb371",
   "metadata": {},
   "source": [
    "### Replacing Substrings"
   ]
  },
  {
   "cell_type": "code",
   "execution_count": 64,
   "id": "bb1c0b2f-98e4-46fc-931f-560034bbe6ec",
   "metadata": {},
   "outputs": [
    {
     "name": "stdout",
     "output_type": "stream",
     "text": [
      "Replaced Array: ['rbma' 'bshyaam' 'gitbaaa']\n"
     ]
    }
   ],
   "source": [
    "# Replace a substring with another substring.\n",
    "\n",
    "arr = np.array(['rama', 'ashyaam', 'gitaaaa'])\n",
    "print(\"Replaced Array:\", np.char.replace(arr, 'a', 'b', count=1))  # Replace 'a' with 'b'"
   ]
  },
  {
   "cell_type": "markdown",
   "id": "930db2d7-d272-4a9b-a730-8d22969c132c",
   "metadata": {},
   "source": [
    "# Trigonometric and Mathematical Functions\n"
   ]
  },
  {
   "cell_type": "markdown",
   "id": "59af6907-1408-4827-8813-b9272466beb3",
   "metadata": {},
   "source": [
    "### Trigonometric Functions"
   ]
  },
  {
   "cell_type": "code",
   "execution_count": 68,
   "id": "2561c8e7-8b1f-498d-bf0a-69d8c09b54c5",
   "metadata": {},
   "outputs": [
    {
     "name": "stdout",
     "output_type": "stream",
     "text": [
      "Radians: [0.         0.52359878 0.78539816 1.04719755 1.57079633]\n",
      "Cosine of Angles: [1.00000000e+00 8.66025404e-01 7.07106781e-01 5.00000000e-01\n",
      " 6.12323400e-17]\n",
      "Arc Cosine (Inverse Cosine): [1.57079633 1.01972674 0.66745722 0.         0.        ]\n"
     ]
    }
   ],
   "source": [
    "# NumPy provides trigonometric functions like `sin`, `cos`, `tan`, and their inverses.\n",
    "\n",
    "angles = np.array([0, 30, 45, 60, 90])  # Angles in degrees\n",
    "rad = np.radians(angles)  # Convert to radians\n",
    "print(\"Radians:\", rad)\n",
    "print(\"Cosine of Angles:\", np.cos(rad))\n",
    "print(\"Arc Cosine (Inverse Cosine):\", np.arccos(np.clip(rad, -1, 1)))  # Clip ensures valid input for arccos"
   ]
  },
  {
   "cell_type": "markdown",
   "id": "c22e233b-e073-4c1b-bdfc-980f25fbe6a6",
   "metadata": {},
   "source": [
    "### Exponential, Power, and Logarithmic Functions"
   ]
  },
  {
   "cell_type": "code",
   "execution_count": 71,
   "id": "cea2a754-073d-485e-ba23-90a46b42cbdc",
   "metadata": {},
   "outputs": [
    {
     "name": "stdout",
     "output_type": "stream",
     "text": [
      "Exponential: [ 5.73022043  0.07931405 31.07581923]\n",
      "Power (Cube): [  5.32045945 -16.27775976  40.58097763]\n",
      "Absolute Values: [1.745754 2.53434  3.43643 ]\n",
      "Rounded Values: [ 2. -3.  3.]\n",
      "Degrees from Radians: [ 0. 30. 45. 60. 90.]\n"
     ]
    }
   ],
   "source": [
    "ar = np.array([1.745754, -2.53434, 3.43643])\n",
    "print(\"Exponential:\", np.exp(ar))  # Exponential (e^x)\n",
    "print(\"Power (Cube):\", np.power(ar, 3))  # Raise each element to the power of 3\n",
    "print(\"Absolute Values:\", np.absolute(ar))  # Absolute values\n",
    "print(\"Rounded Values:\", np.around(ar))  # Round to the nearest integer\n",
    "print(\"Degrees from Radians:\", np.degrees(rad))  # Convert radians to degrees"
   ]
  },
  {
   "cell_type": "markdown",
   "id": "f20e8e3e-49b2-4174-b9ef-e1869d151bc6",
   "metadata": {},
   "source": [
    "# Arithmetic Operations"
   ]
  },
  {
   "cell_type": "code",
   "execution_count": 74,
   "id": "177beadb-3236-4ed5-80dd-47fb46510835",
   "metadata": {},
   "outputs": [],
   "source": [
    "a = np.array([1, 2, 3])\n",
    "b = np.array([4, 5, 6])"
   ]
  },
  {
   "cell_type": "markdown",
   "id": "4cdeabec-1b4d-4202-9656-69e83592e7f7",
   "metadata": {},
   "source": [
    "### Element-wise Arithmetic"
   ]
  },
  {
   "cell_type": "code",
   "execution_count": 77,
   "id": "322146d0-b244-463e-bf13-9f354fd7b084",
   "metadata": {},
   "outputs": [
    {
     "name": "stdout",
     "output_type": "stream",
     "text": [
      "Addition: [5 7 9]\n",
      "Subtraction: [-3 -3 -3]\n",
      "Multiplication: [ 4 10 18]\n",
      "Division: [0.25 0.4  0.5 ]\n",
      "Power: [  1  32 729]\n",
      "Modulus: [1 2 3]\n"
     ]
    }
   ],
   "source": [
    "print(\"Addition:\", np.add(a, b))  # Element-wise addition\n",
    "print(\"Subtraction:\", np.subtract(a, b))  # Element-wise subtraction\n",
    "print(\"Multiplication:\", np.multiply(a, b))  # Element-wise multiplication\n",
    "print(\"Division:\", np.divide(a, b))  # Element-wise division\n",
    "print(\"Power:\", np.power(a, b))  # Raise elements of `a` to the power of `b`\n",
    "print(\"Modulus:\", np.mod(a, b))  # Modulus operation"
   ]
  },
  {
   "cell_type": "markdown",
   "id": "b084a019-91ea-45cf-bfd3-b7f94c5108d7",
   "metadata": {},
   "source": [
    "# Statistical Functions"
   ]
  },
  {
   "cell_type": "raw",
   "id": "e2ac64c6-71a0-47ac-a72c-f16125ef532f",
   "metadata": {},
   "source": [
    "NumPy makes statistical calculations simple with built-in methods."
   ]
  },
  {
   "cell_type": "code",
   "execution_count": 82,
   "id": "31efe241-8f22-42b7-b54b-d51f3158a0bd",
   "metadata": {},
   "outputs": [
    {
     "name": "stdout",
     "output_type": "stream",
     "text": [
      "Mean: 2.0\n",
      "Median: 2.0\n",
      "Variance: 0.6666666666666666\n",
      "Standard Deviation: 0.816496580927726\n",
      "Minimum Value: 1\n",
      "Product of Elements: 6\n",
      "Index of Minimum Element: 0\n"
     ]
    }
   ],
   "source": [
    "a = np.array([1, 2, 3])\n",
    "print(\"Mean:\", np.mean(a))  # Average of all elements\n",
    "print(\"Median:\", np.median(a))  # Median value\n",
    "print(\"Variance:\", np.var(a))  # Variance\n",
    "print(\"Standard Deviation:\", np.std(a))  # Standard deviation\n",
    "print(\"Minimum Value:\", np.min(a))  # Minimum element\n",
    "print(\"Product of Elements:\", np.prod(a))  # Product of all elements\n",
    "print(\"Index of Minimum Element:\", np.argmin(a))  # Index of the smallest element"
   ]
  },
  {
   "cell_type": "code",
   "execution_count": null,
   "id": "daedde23-4a0e-4b1d-a74f-821cd7a71b89",
   "metadata": {},
   "outputs": [],
   "source": []
  }
 ],
 "metadata": {
  "kernelspec": {
   "display_name": "Python [conda env:base] *",
   "language": "python",
   "name": "conda-base-py"
  },
  "language_info": {
   "codemirror_mode": {
    "name": "ipython",
    "version": 3
   },
   "file_extension": ".py",
   "mimetype": "text/x-python",
   "name": "python",
   "nbconvert_exporter": "python",
   "pygments_lexer": "ipython3",
   "version": "3.12.7"
  }
 },
 "nbformat": 4,
 "nbformat_minor": 5
}
