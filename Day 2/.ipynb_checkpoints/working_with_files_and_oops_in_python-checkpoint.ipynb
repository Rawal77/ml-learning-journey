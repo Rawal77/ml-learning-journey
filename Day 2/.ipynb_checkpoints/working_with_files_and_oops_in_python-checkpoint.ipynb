{
 "cells": [
  {
   "cell_type": "markdown",
   "id": "649d967a-773c-46b2-bdac-b2dfdb0d60d3",
   "metadata": {},
   "source": [
    "# Day 2: Working with Files in Python"
   ]
  },
  {
   "cell_type": "markdown",
   "id": "449ebb14-e3df-4f97-b050-94d4e86e3db7",
   "metadata": {},
   "source": [
    "### Writing to a File"
   ]
  },
  {
   "cell_type": "code",
   "execution_count": 4,
   "id": "3f2815b3-a799-43e3-a480-8c184086f96f",
   "metadata": {},
   "outputs": [],
   "source": [
    "# Using 'w' mode to create or overwrite a file\n",
    "f = open(\"D:\\\\hello.txt\", \"w\")  \n",
    "f.write(\"Hello world\") \n",
    "f.close()  # Always close the file after writing to free resources"
   ]
  },
  {
   "cell_type": "code",
   "execution_count": 7,
   "id": "0e642730-30dd-470a-b43a-738a5137a8a5",
   "metadata": {},
   "outputs": [],
   "source": [
    "# If we open the same file again with 'w' mode, the content is overwritten\n",
    "f = open(\"D:\\\\hello.txt\", \"w\")  # This will overwrite the previous content\n",
    "f.write(\"Overwriting with new content\")  # Old data is lost\n",
    "f.close()"
   ]
  },
  {
   "cell_type": "markdown",
   "id": "034f4d64-4e5d-4db5-a00d-0507271d86c6",
   "metadata": {},
   "source": [
    "### Reading to a File"
   ]
  },
  {
   "cell_type": "code",
   "execution_count": 10,
   "id": "833f9b82-8598-4b8a-b611-9508c56623b1",
   "metadata": {},
   "outputs": [
    {
     "name": "stdout",
     "output_type": "stream",
     "text": [
      "Overwriting with new content\n"
     ]
    }
   ],
   "source": [
    "# Using 'r' mode to read the entire file content\n",
    "f = open(\"D:\\\\hello.txt\", \"r\")  \n",
    "print(f.read())  \n",
    "f.close()"
   ]
  },
  {
   "cell_type": "code",
   "execution_count": 12,
   "id": "176de70e-bca1-4faa-8090-8beecdcf7a57",
   "metadata": {},
   "outputs": [
    {
     "name": "stdout",
     "output_type": "stream",
     "text": [
      "Overwriting with new content\n"
     ]
    }
   ],
   "source": [
    "# Using 'r' mode to read the file line-by-line\n",
    "f = open(\"D:\\\\hello.txt\", \"r\")\n",
    "for line in f:  \n",
    "    print(line.strip())  # Print each line, strip() removes extra newlines or spaces\n",
    "f.close()"
   ]
  },
  {
   "cell_type": "markdown",
   "id": "5084cf62-eb46-4db0-a257-2337671e9c83",
   "metadata": {},
   "source": [
    "### Append to a File"
   ]
  },
  {
   "cell_type": "code",
   "execution_count": 17,
   "id": "e6197875-be53-4107-bdf6-124f81290eab",
   "metadata": {},
   "outputs": [],
   "source": [
    "f = open(\"D:\\\\hello.txt\", \"a\")  \n",
    "f.write(\"\\nI love playing games\")  # '\\n' adds a new line before appending text\n",
    "f.close()"
   ]
  },
  {
   "cell_type": "code",
   "execution_count": 19,
   "id": "9cfe7013-8bd1-4b34-9c9c-4332276bfbaa",
   "metadata": {},
   "outputs": [
    {
     "name": "stdout",
     "output_type": "stream",
     "text": [
      "Overwriting with new content\n",
      "I love playing games\n"
     ]
    }
   ],
   "source": [
    "f = open(\"D:\\\\hello.txt\", \"r\")  \n",
    "print(f.read())  \n",
    "f.close()"
   ]
  },
  {
   "cell_type": "markdown",
   "id": "65d853e0-995c-444f-89ef-98a1496d368d",
   "metadata": {},
   "source": [
    "### Working with the \"with\" Statement in Python"
   ]
  },
  {
   "cell_type": "code",
   "execution_count": 25,
   "id": "45a0e624-b0f9-4379-9133-7e41785b5a2c",
   "metadata": {},
   "outputs": [
    {
     "name": "stdout",
     "output_type": "stream",
     "text": [
      "Overwriting with new content\n",
      "I love playing games\n",
      "True\n"
     ]
    }
   ],
   "source": [
    "# Using the 'with' statement for file handling\n",
    "with open(\"D:\\\\hello.txt\", \"r\") as f:\n",
    "    print(f.read()) \n",
    "print(f.closed)  # Check if the file is automatically closed "
   ]
  },
  {
   "cell_type": "markdown",
   "id": "66449087-7ab7-4f55-91b7-2ecb730cbb1c",
   "metadata": {},
   "source": [
    "# Classes and Objects in Python"
   ]
  },
  {
   "cell_type": "code",
   "execution_count": 32,
   "id": "51b2f390-9336-4b52-ba96-7181af473e1a",
   "metadata": {},
   "outputs": [],
   "source": [
    "\"\"\"\n",
    "A class is like a blueprint or template for creating things, defining their state (attributes and properties) and behavior(method). \n",
    "For example, a \"Car\" class describes features like color and speed, and behavior like drive() and brake()..\n",
    "\n",
    "An object is an actual instance of a class, like a specific red car with a top speed of 200 km/h.\n",
    "\"\"\"\n",
    "\n",
    "class Human:\n",
    "    \"\"\"\n",
    "    A class to represent a human being.\n",
    "    \"\"\"\n",
    "    # Constructor (__init__) to initialize properties\n",
    "    def __init__(self, name, occupation):\n",
    "        self.name = name  \n",
    "        self.occupation = occupation  \n",
    "\n",
    "    def do_work(self):\n",
    "        \"\"\"\n",
    "        Method to describe the work based on the occupation.\n",
    "        \"\"\"\n",
    "        if self.occupation == \"Tennis player\":\n",
    "            print(self.name, \"plays tennis\")\n",
    "        elif self.occupation == \"actor\":\n",
    "            print(self.name, \"shoots a film\")\n",
    "        else:\n",
    "            print(self.name, \"is currently unemployed\")\n",
    "\n",
    "    def speaks(self):\n",
    "        \"\"\"\n",
    "        Method to simulate the person speaking.\n",
    "        \"\"\"\n",
    "        print(self.name, \"says, 'How are you?'\")\n"
   ]
  },
  {
   "cell_type": "code",
   "execution_count": 34,
   "id": "199ab254-82dc-45f3-952c-bee5d3e63830",
   "metadata": {},
   "outputs": [
    {
     "name": "stdout",
     "output_type": "stream",
     "text": [
      "Ram shoots a film\n",
      "Ram says, 'How are you?'\n"
     ]
    }
   ],
   "source": [
    "# Creating an object (instance of the class)\n",
    "ram = Human(\"Ram\", \"actor\")\n",
    "ram.do_work()  # Calls the do_work method for 'tom'\n",
    "ram.speaks()   # Calls the speaks method for 'tom'"
   ]
  },
  {
   "cell_type": "markdown",
   "id": "2dfa3286-c7ee-4aa9-8d74-24068357bf1a",
   "metadata": {},
   "source": [
    "### Inheritance in Python"
   ]
  },
  {
   "cell_type": "code",
   "execution_count": 39,
   "id": "9e8c8ff6-05f7-4844-ad21-e9087043d544",
   "metadata": {},
   "outputs": [],
   "source": [
    "# Inheritance allows a child class to inherit properties and methods from a parent class.\n",
    "# Parent Class\n",
    "class Vehicle:\n",
    "    \"\"\"\n",
    "    A class to represent a generic vehicle.\n",
    "    \"\"\"\n",
    "    def general_usage(self):\n",
    "        \"\"\"\n",
    "        General purpose of vehicles.\n",
    "        \"\"\"\n",
    "        print(\"General use: transportation\")\n",
    "\n",
    "# Child Class 1: Car\n",
    "class Car(Vehicle):\n",
    "    \"\"\"\n",
    "    A class to represent a car, inheriting from Vehicle.\n",
    "    \"\"\"\n",
    "    def __init__(self):\n",
    "        print(\"I'm a car\")\n",
    "        self.wheels = 4  \n",
    "        self.has_roof = True  \n",
    "\n",
    "    def specific_usage(self):\n",
    "        \"\"\"\n",
    "        Specific purpose of a car.\n",
    "        \"\"\"\n",
    "        print(\"Specific use: commute to work or travel\")\n",
    "\n",
    "# Child Class 2: Motorcycle\n",
    "class Motorcycle(Vehicle):\n",
    "    \"\"\"\n",
    "    A class to represent a motorcycle, inheriting from Vehicle.\n",
    "    \"\"\"\n",
    "    def __init__(self):\n",
    "        print(\"I'm a motorcycle\")\n",
    "        self.wheels = 2  \n",
    "        self.has_roof = False  \n",
    "\n",
    "    def specific_usage(self):\n",
    "        \"\"\"\n",
    "        Specific purpose of a motorcycle.\n",
    "        \"\"\"\n",
    "        print(\"Specific use: road trips or solo rides\")\n",
    "\n"
   ]
  },
  {
   "cell_type": "code",
   "execution_count": 43,
   "id": "f02df3e1-3912-4f1e-a12e-057d5c43f8ca",
   "metadata": {},
   "outputs": [
    {
     "name": "stdout",
     "output_type": "stream",
     "text": [
      "Car Example:\n",
      "I'm a car\n",
      "General use: transportation\n",
      "Specific use: commute to work or travel\n",
      "\n",
      "Motorcycle Example:\n",
      "I'm a motorcycle\n",
      "General use: transportation\n",
      "Specific use: road trips or solo rides\n"
     ]
    }
   ],
   "source": [
    "# Creating instances and demonstrating inheritance\n",
    "print(\"Car Example:\")\n",
    "c = Car()  \n",
    "c.general_usage()  \n",
    "c.specific_usage()  \n",
    "\n",
    "print(\"\\nMotorcycle Example:\")\n",
    "m = Motorcycle()  \n",
    "m.general_usage()  \n",
    "m.specific_usage()  "
   ]
  },
  {
   "cell_type": "markdown",
   "id": "8031fa42-7517-46b7-b665-f3bd8d973c54",
   "metadata": {},
   "source": [
    "### Polymorphism in Python"
   ]
  },
  {
   "cell_type": "code",
   "execution_count": 50,
   "id": "663912e0-4d43-404b-914a-09df4c76a109",
   "metadata": {},
   "outputs": [],
   "source": [
    "\"\"\"\n",
    "\n",
    "Polymorphism is the ability of an object to take on multiple forms. \n",
    "In object-oriented programming, polymorphism is typically divided into two main types: \n",
    "Compile-time Polymorphism and Runtime Polymorphism.\n",
    "\n",
    "\"\"\"\n",
    "# Compile-time Polymorphism (Not Directly Supported in Python)\n",
    "# Found in statically-typed languages like Java or C++, where the behavior of a function or operator is determined during the compilation phase.\n",
    "\n",
    "class Vector:\n",
    "    \"\"\"\n",
    "    A class to represent a 2D vector.\n",
    "    \"\"\"\n",
    "    def __init__(self, x, y):\n",
    "        self.x = x\n",
    "        self.y = y\n",
    "\n",
    "    # Overloading the '+' operator\n",
    "    def __add__(self, other):\n",
    "        return Vector(self.x + other.x, self.y + other.y)\n",
    "\n",
    "    # String representation of the object for easier printing\n",
    "    def __str__(self):\n",
    "        return f\"Vector({self.x}, {self.y})\"\n"
   ]
  },
  {
   "cell_type": "code",
   "execution_count": 54,
   "id": "d3b66e1e-cd9e-4740-bcd5-f27465212d86",
   "metadata": {},
   "outputs": [
    {
     "name": "stdout",
     "output_type": "stream",
     "text": [
      "Vector(6, 8)\n"
     ]
    }
   ],
   "source": [
    "v1 = Vector(2, 3)\n",
    "v2 = Vector(4, 5)\n",
    "\n",
    "# Using the overloaded '+' operator\n",
    "result = v1 + v2\n",
    "print(result)  "
   ]
  },
  {
   "cell_type": "code",
   "execution_count": 56,
   "id": "0aa8f996-d36a-4296-8c07-128b04659c66",
   "metadata": {},
   "outputs": [],
   "source": [
    "# Runtime Polymorphism\n",
    "# Occurs when the behavior of a method is determined at runtime based on the actual type of the object.\n",
    "\n",
    "class Animal:\n",
    "    \"\"\"\n",
    "    Parent class representing a generic animal.\n",
    "    \"\"\"\n",
    "    def sound(self):\n",
    "        return \"Some generic sound\" \n",
    "\n",
    "class Dog(Animal):\n",
    "    \"\"\"\n",
    "    Child class representing a dog.\n",
    "    \"\"\"\n",
    "    def sound(self):\n",
    "        return \"Bark\"  \n",
    "\n",
    "class Cat(Animal):\n",
    "    \"\"\"\n",
    "    Child class representing a cat.\n",
    "    \"\"\"\n",
    "    def sound(self):\n",
    "        return \"Meow\" \n",
    "\n"
   ]
  },
  {
   "cell_type": "code",
   "execution_count": 58,
   "id": "33274bb8-40db-4d84-bcb6-0731dde902b2",
   "metadata": {},
   "outputs": [
    {
     "name": "stdout",
     "output_type": "stream",
     "text": [
      "Bark\n",
      "Meow\n",
      "Some generic sound\n"
     ]
    }
   ],
   "source": [
    "# Polymorphic behavior in action\n",
    "animals = [Dog(), Cat(), Animal()]  \n",
    "for animal in animals:\n",
    "    print(animal.sound())"
   ]
  },
  {
   "cell_type": "markdown",
   "id": "1b7b2323-9af6-40c2-be1d-d64c5eb3d4e7",
   "metadata": {},
   "source": [
    "### Abstraction in python"
   ]
  },
  {
   "cell_type": "code",
   "execution_count": 67,
   "id": "4b03458a-9aa0-4ab8-9d58-876c848f5b2a",
   "metadata": {},
   "outputs": [],
   "source": [
    "# An abstract method is a method that is declared but has no implementation in the parent class.\n",
    "\n",
    "from abc import ABC, abstractmethod\n",
    "\n",
    "class Computer(ABC):\n",
    "    \"\"\"\n",
    "    Abstract Base Class (ABC) to represent a generic computer.\n",
    "    \"\"\"\n",
    "\n",
    "    @abstractmethod\n",
    "    def process(self):\n",
    "        \"\"\"\n",
    "        Abstract method that must be implemented in all derived classes.\n",
    "        \"\"\"\n",
    "        pass\n",
    "\n",
    "class Laptop(Computer):\n",
    "    \"\"\"\n",
    "    A concrete subclass of Computer representing a Laptop.\n",
    "    \"\"\"\n",
    "    def process(self):\n",
    "        print(\"It's running\") \n"
   ]
  },
  {
   "cell_type": "code",
   "execution_count": 69,
   "id": "3b5e426a-5c12-42f1-9161-c1ae14419f00",
   "metadata": {},
   "outputs": [
    {
     "name": "stdout",
     "output_type": "stream",
     "text": [
      "It's running\n"
     ]
    }
   ],
   "source": [
    "com1 = Laptop()\n",
    "com1.process()  "
   ]
  },
  {
   "cell_type": "markdown",
   "id": "c4bee9c2-c618-4c4e-8af2-3eb912130206",
   "metadata": {},
   "source": [
    "### Encapsulation in python"
   ]
  },
  {
   "cell_type": "code",
   "execution_count": null,
   "id": "c4f821b6-4f04-4f7b-bed5-b602023526e0",
   "metadata": {},
   "outputs": [],
   "source": []
  }
 ],
 "metadata": {
  "kernelspec": {
   "display_name": "Python [conda env:base] *",
   "language": "python",
   "name": "conda-base-py"
  },
  "language_info": {
   "codemirror_mode": {
    "name": "ipython",
    "version": 3
   },
   "file_extension": ".py",
   "mimetype": "text/x-python",
   "name": "python",
   "nbconvert_exporter": "python",
   "pygments_lexer": "ipython3",
   "version": "3.12.7"
  }
 },
 "nbformat": 4,
 "nbformat_minor": 5
}
