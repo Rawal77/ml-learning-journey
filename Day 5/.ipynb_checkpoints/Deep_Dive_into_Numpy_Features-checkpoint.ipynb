{
 "cells": [
  {
   "cell_type": "markdown",
   "id": "047ddf77-e021-4e14-8825-61e8c2666efd",
   "metadata": {},
   "source": [
    "# Deep Dive into Numpy Features"
   ]
  },
  {
   "cell_type": "raw",
   "id": "d8fd1c29-0450-4653-a143-a5dc6bfc32c7",
   "metadata": {},
   "source": [
    "    What is the difference between array and ndarray?\n",
    "\n",
    "- `array` is a high-level convenience function provided by NumPy for creating arrays.\n",
    "- `ndarray` is the actual data structure used to represent arrays in NumPy. \n",
    "-  Every `array` created in NumPy is essentially an `ndarray` object under the hood."
   ]
  },
  {
   "cell_type": "code",
   "execution_count": 5,
   "id": "33cddc14-98e0-4c7f-94b7-8e4148488241",
   "metadata": {},
   "outputs": [
    {
     "name": "stdout",
     "output_type": "stream",
     "text": [
      "<class 'numpy.ndarray'>\n"
     ]
    }
   ],
   "source": [
    "# Example\n",
    "import numpy as np\n",
    "\n",
    "data = [1, 2, 3, 4, 5]\n",
    "array = np.array(data)  # Creates an ndarray using the array function\n",
    "print(type(array))"
   ]
  },
  {
   "cell_type": "markdown",
   "id": "a5c4cfd1-8e35-4eb3-b7c9-bec286c6c4a8",
   "metadata": {},
   "source": [
    "### Axis-specific operations"
   ]
  },
  {
   "cell_type": "code",
   "execution_count": 12,
   "id": "4f5fb007-4d7a-417d-90c7-67ebeddcb7e9",
   "metadata": {},
   "outputs": [
    {
     "name": "stdout",
     "output_type": "stream",
     "text": [
      "Mean along columns (axis=0): [2.5 1.5 3.5]\n",
      "Mean along rows (axis=1): [2.33333333 2.66666667]\n",
      "Lowest index value is 4\n",
      "Highest index value is 5\n"
     ]
    }
   ],
   "source": [
    "arr_2d = np.array([\n",
    "    [2, 2, 3],\n",
    "    [3, 1, 4]\n",
    "])\n",
    "print(\"Mean along columns (axis=0):\", arr_2d.mean(axis=0))  # Column mean\n",
    "print(\"Mean along rows (axis=1):\", arr_2d.mean(axis=1))  # Row mean\n",
    "print(f'Lowest index value is {arr_2d.argmin()}')\n",
    "print(f'Highest index value is {arr_2d.argmax()}')"
   ]
  },
  {
   "cell_type": "markdown",
   "id": "fc1f0790-e508-46cb-9539-de8c6734a109",
   "metadata": {},
   "source": [
    "### Array creation in different ways"
   ]
  },
  {
   "cell_type": "code",
   "execution_count": 17,
   "id": "bdde3a8c-5024-4439-9f51-9aa7d6335dc5",
   "metadata": {},
   "outputs": [
    {
     "name": "stdout",
     "output_type": "stream",
     "text": [
      "Zeros array:\n",
      " [[0 0]\n",
      " [0 0]]\n",
      "Ones array:\n",
      " [[1 1 1]\n",
      " [1 1 1]\n",
      " [1 1 1]]\n"
     ]
    }
   ],
   "source": [
    "# Creating arrays of zeros\n",
    "arr_zeros = np.zeros([2, 2], dtype=np.uint16)\n",
    "print(\"Zeros array:\\n\", arr_zeros)\n",
    "\n",
    "# Creating arrays of ones\n",
    "arr_ones = np.ones([3, 3], dtype=np.int32)\n",
    "print(\"Ones array:\\n\", arr_ones)"
   ]
  },
  {
   "cell_type": "raw",
   "id": "c40bb100-2b1b-4472-924f-29f861fb6238",
   "metadata": {},
   "source": [
    "  What is broadcasting?\n",
    "\n",
    "- Broadcasting allows NumPy to perform operations on arrays of different shapes\n",
    "  by stretching smaller arrays along the larger array's dimensions (if rules are satisfied)."
   ]
  },
  {
   "cell_type": "code",
   "execution_count": 19,
   "id": "89a3ee8c-9342-48ce-9a6c-cd0a637bb8cd",
   "metadata": {},
   "outputs": [
    {
     "name": "stdout",
     "output_type": "stream",
     "text": [
      "Broadcasted Sum (1D arrays): [11 22 33 44 55]\n"
     ]
    }
   ],
   "source": [
    "# Example of broadcasting\n",
    "\n",
    "arr1 = np.array([1, 2, 3, 4, 5])  # Shape: (5,)\n",
    "arr2 = np.array([10, 20, 30, 40, 50])  # Shape: (5,)\n",
    "print(\"Broadcasted Sum (1D arrays):\", arr1 + arr2)"
   ]
  },
  {
   "cell_type": "code",
   "execution_count": 25,
   "id": "30ea2c75-2745-4e39-b5ef-c47dd53134fb",
   "metadata": {},
   "outputs": [],
   "source": [
    "# Rule 1: Arrays must be compatible in dimensions\n",
    "\n",
    "arr = np.array([\n",
    "    [1, 2, 3],\n",
    "    [2, 4, 5]\n",
    "])  # Shape: (2, 3)\n",
    "\n",
    "arr_large = np.array([\n",
    "    [1, 2, 3],\n",
    "    [4, 5, 6],\n",
    "    [7, 8, 9]\n",
    "])  # Shape: (3, 3)\n",
    "\n",
    "# Uncommenting the following will raise an error because the shapes are not compatible\n",
    "# print(arr + arr_large)"
   ]
  },
  {
   "cell_type": "code",
   "execution_count": 27,
   "id": "f120c330-bce9-4051-9299-f81d0525469f",
   "metadata": {},
   "outputs": [],
   "source": [
    "# Rule 2: A 1D array can be stretched to match higher dimensions\n",
    "\n",
    "arr_1d = np.array([1, 2, 3])  # Shape: (3,)\n",
    "arr_2d = np.array([\n",
    "    [1, 2, 3],\n",
    "    [2, 4, 5]\n",
    "])  # Shape: (2, 3)\n",
    "arr_3d = np.array([\n",
    "    [\n",
    "        [1, 2, 3],\n",
    "        [2, 3, 5],\n",
    "        [7, 5, 8]\n",
    "    ]\n",
    "])  # Shape: (3, 3, 3)"
   ]
  },
  {
   "cell_type": "code",
   "execution_count": 35,
   "id": "61b6b2d9-f54a-4b3c-aa8f-973da8a7d8b0",
   "metadata": {},
   "outputs": [
    {
     "name": "stdout",
     "output_type": "stream",
     "text": [
      "1D + 2D addition:\n",
      " [[2 4 6]\n",
      " [3 6 8]]\n",
      "1D + 3D addition:\n",
      " [[[ 2  4  6]\n",
      "  [ 3  5  8]\n",
      "  [ 8  7 11]]]\n"
     ]
    }
   ],
   "source": [
    "print(\"1D + 2D addition:\\n\", arr_1d + arr_2d)  \n",
    "print(\"1D + 3D addition:\\n\", arr_1d + arr_3d)  \n",
    "\n",
    "# Observation: 1D arrays can be \"stretched\" along higher dimensions during operations."
   ]
  },
  {
   "cell_type": "markdown",
   "id": "4fe84a11-3abe-4a93-997d-1fbb37f02830",
   "metadata": {},
   "source": [
    "#### Array creating from existing data"
   ]
  },
  {
   "cell_type": "code",
   "execution_count": 40,
   "id": "ab4dfa80-4775-43ae-a413-1c8271220e10",
   "metadata": {},
   "outputs": [
    {
     "name": "stdout",
     "output_type": "stream",
     "text": [
      "Array from list: [1 2 3 4 5]\n"
     ]
    }
   ],
   "source": [
    "data = [1, 2, 3, 4, 5]\n",
    "arr_from_list = np.asarray(data)  # Converts list to ndarray\n",
    "print(\"Array from list:\", arr_from_list)"
   ]
  },
  {
   "cell_type": "code",
   "execution_count": 42,
   "id": "46ca9f4c-8f62-4726-bfa8-f2812785edc2",
   "metadata": {},
   "outputs": [
    {
     "name": "stdout",
     "output_type": "stream",
     "text": [
      "Array from tuple: [10 20 30]\n"
     ]
    }
   ],
   "source": [
    "# Similarly, we can create from tuples\n",
    "\n",
    "data_tuple = (10, 20, 30)\n",
    "arr_from_tuple = np.asarray(data_tuple)\n",
    "print(\"Array from tuple:\", arr_from_tuple)"
   ]
  },
  {
   "cell_type": "code",
   "execution_count": 44,
   "id": "98fe55dc-dc0f-48a5-802b-97145ac5d52b",
   "metadata": {},
   "outputs": [
    {
     "name": "stdout",
     "output_type": "stream",
     "text": [
      "Array from iterator:\n",
      " [1 2 3 4 5 6]\n"
     ]
    }
   ],
   "source": [
    "# Using `fromiter` to create an array from an iterable object\n",
    "\n",
    "lst = [1, 2, 3, 4, 5, 6]\n",
    "arr_from_iter = np.fromiter(lst, dtype=int)\n",
    "print(\"Array from iterator:\\n\", arr_from_iter)"
   ]
  },
  {
   "cell_type": "code",
   "execution_count": 48,
   "id": "21b9e56c-7d85-4fa1-980b-fef12e8c369f",
   "metadata": {},
   "outputs": [
    {
     "name": "stdout",
     "output_type": "stream",
     "text": [
      "Array from dictionary values:\n",
      " ['Red' 'Green']\n"
     ]
    }
   ],
   "source": [
    "# Using dictionary values with `fromiter`\n",
    "\n",
    "color_dict = {1: \"Red\", 2: \"Green\"}\n",
    "arr_from_dict = np.fromiter(color_dict.values(), dtype='<U5')\n",
    "print(\"Array from dictionary values:\\n\", arr_from_dict)"
   ]
  },
  {
   "cell_type": "markdown",
   "id": "2a605d30-2af6-45fc-a3d2-c19373950ef6",
   "metadata": {},
   "source": [
    "### Array from Numerical Ranges"
   ]
  },
  {
   "cell_type": "code",
   "execution_count": 51,
   "id": "f1ad9d4d-44e1-4e43-b8ee-5c1535c94881",
   "metadata": {},
   "outputs": [
    {
     "name": "stdout",
     "output_type": "stream",
     "text": [
      "Array using arange: [0 2 4 6 8]\n",
      "Data type of array: uint32\n"
     ]
    }
   ],
   "source": [
    "# Using `arange` (similar to Python's `range`)\n",
    "\n",
    "arr = np.arange(0, 10, 2, dtype=np.uint)  # Generates values from 0 to 10 with step 2\n",
    "print(\"Array using arange:\", arr)\n",
    "print(\"Data type of array:\", arr.dtype)"
   ]
  },
  {
   "cell_type": "code",
   "execution_count": 53,
   "id": "70e0f83c-743a-4907-b87c-21e327af0690",
   "metadata": {},
   "outputs": [
    {
     "name": "stdout",
     "output_type": "stream",
     "text": [
      "Array using linspace (no endpoint): [1.         2.28571429 3.57142857 4.85714286 6.14285714 7.42857143\n",
      " 8.71428571]\n"
     ]
    }
   ],
   "source": [
    "# Using `linspace` to create evenly spaced values\n",
    "\n",
    "arr_linspace = np.linspace(1, 10, num=7, endpoint=False) # Generates 7 values between 1 and 10 (excluding 10 because endpoint=False)\n",
    "print(\"Array using linspace (no endpoint):\", arr_linspace)"
   ]
  },
  {
   "cell_type": "code",
   "execution_count": 55,
   "id": "7e062cad-48dd-49bb-b6e2-24b4fc662bb9",
   "metadata": {},
   "outputs": [
    {
     "name": "stdout",
     "output_type": "stream",
     "text": [
      "Array using logspace: [1.00000000e-05 5.62341325e-02 3.16227766e+02 1.77827941e+06\n",
      " 1.00000000e+10]\n"
     ]
    }
   ],
   "source": [
    "# Using `logspace` to create values evenly spaced on a log scale\n",
    "\n",
    "\n",
    "arr_logspace = np.logspace(-5, 10, num=5) # Generates 5 values between 10^-5 and 10^10\n",
    "print(\"Array using logspace:\", arr_logspace)"
   ]
  },
  {
   "cell_type": "code",
   "execution_count": 57,
   "id": "90ff32d4-7aef-4dad-b7b1-0fce0b7da2d4",
   "metadata": {},
   "outputs": [
    {
     "name": "stdout",
     "output_type": "stream",
     "text": [
      "Meshgrid X:\n",
      " [[1 2 3]\n",
      " [1 2 3]\n",
      " [1 2 3]]\n",
      "Meshgrid Y:\n",
      " [[4 4 4]\n",
      " [5 5 5]\n",
      " [6 6 6]]\n"
     ]
    }
   ],
   "source": [
    "# Using `meshgrid` to create coordinate grids\n",
    "\n",
    "x = np.arange(1, 4)  # [1, 2, 3]\n",
    "y = np.arange(4, 7)  # [4, 5, 6]\n",
    "xx, yy = np.meshgrid(x, y)  # Generates 2D grids of x and y\n",
    "print(\"Meshgrid X:\\n\", xx)\n",
    "print(\"Meshgrid Y:\\n\", yy)"
   ]
  },
  {
   "cell_type": "code",
   "execution_count": 59,
   "id": "50426d2d-64b9-4938-bd2a-9708fde4129d",
   "metadata": {},
   "outputs": [
    {
     "name": "stdout",
     "output_type": "stream",
     "text": [
      "Diagonal Array:\n",
      " [[1 0 0 0]\n",
      " [0 2 0 0]\n",
      " [0 0 3 0]\n",
      " [0 0 0 4]]\n"
     ]
    }
   ],
   "source": [
    "# Using `diag` to create diagonal matrices\n",
    "\n",
    "diag_arr = np.diag([1, 2, 3, 4])  # Creates a 2D array with values on the diagonal\n",
    "print(\"Diagonal Array:\\n\", diag_arr)"
   ]
  },
  {
   "cell_type": "code",
   "execution_count": 63,
   "id": "b4e7bdb3-6cf0-4f8e-bb00-95956c1460b5",
   "metadata": {},
   "outputs": [
    {
     "name": "stdout",
     "output_type": "stream",
     "text": [
      "Triangular Matrix:\n",
      " [[1 0 0 0]\n",
      " [1 1 0 0]\n",
      " [1 1 1 0]\n",
      " [1 1 1 1]]\n"
     ]
    }
   ],
   "source": [
    "# Using `tri` to create a triangular matrix\n",
    "\n",
    "tri_arr = np.tri(4, 4, k=0, dtype=int)  # Generates a lower triangular matrix of size 4x4\n",
    "print(\"Triangular Matrix:\\n\", tri_arr)"
   ]
  },
  {
   "cell_type": "code",
   "execution_count": null,
   "id": "58e47a9c-bb28-407e-a073-5de7ecc2c938",
   "metadata": {},
   "outputs": [],
   "source": []
  }
 ],
 "metadata": {
  "kernelspec": {
   "display_name": "Python [conda env:base] *",
   "language": "python",
   "name": "conda-base-py"
  },
  "language_info": {
   "codemirror_mode": {
    "name": "ipython",
    "version": 3
   },
   "file_extension": ".py",
   "mimetype": "text/x-python",
   "name": "python",
   "nbconvert_exporter": "python",
   "pygments_lexer": "ipython3",
   "version": "3.12.7"
  }
 },
 "nbformat": 4,
 "nbformat_minor": 5
}
