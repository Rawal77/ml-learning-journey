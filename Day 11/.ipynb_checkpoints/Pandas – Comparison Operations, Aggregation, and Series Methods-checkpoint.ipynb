{
 "cells": [
  {
   "cell_type": "markdown",
   "id": "533b063a-bf76-476f-ae93-f0e22291bad7",
   "metadata": {},
   "source": [
    "# Pandas – Comparison Operations, Aggregation, and Series Methods"
   ]
  },
  {
   "cell_type": "markdown",
   "id": "33c94da6-26d4-42f9-ac73-5a7fe93b1f1a",
   "metadata": {},
   "source": [
    "### Comparison Operations in Pandas Series "
   ]
  },
  {
   "cell_type": "code",
   "execution_count": 3,
   "id": "08d3a998-b029-415b-884b-cf5561c18982",
   "metadata": {},
   "outputs": [],
   "source": [
    "import pandas as pd\n",
    "\n",
    "# Creating two Pandas Series\n",
    "sr1 = pd.Series([1, 2, 3, 4, 5, 6, 7, 8, 9, 10])\n",
    "sr2 = pd.Series([2, 2, 5, 3, 1, 5, 7, 5, 9, 11]) "
   ]
  },
  {
   "cell_type": "code",
   "execution_count": 5,
   "id": "4a767b85-ea3e-4a6a-b782-bf03a615f345",
   "metadata": {},
   "outputs": [
    {
     "name": "stdout",
     "output_type": "stream",
     "text": [
      "0    False\n",
      "1     True\n",
      "2    False\n",
      "3    False\n",
      "4    False\n",
      "5    False\n",
      "6     True\n",
      "7    False\n",
      "8     True\n",
      "9    False\n",
      "dtype: bool\n",
      "3    4\n",
      "4    5\n",
      "5    6\n",
      "7    8\n",
      "dtype: int64\n",
      "0     1\n",
      "2     3\n",
      "3     4\n",
      "4     5\n",
      "5     6\n",
      "7     8\n",
      "9    10\n",
      "dtype: int64\n",
      "1    2\n",
      "3    4\n",
      "4    5\n",
      "5    6\n",
      "6    7\n",
      "7    8\n",
      "8    9\n",
      "dtype: int64\n"
     ]
    }
   ],
   "source": [
    "# Element-wise comparisons\n",
    "\n",
    "print(sr1 == sr2)  \n",
    "print(sr1[sr1 > sr2]) \n",
    "print(sr1[sr1 != sr2])  \n",
    "print(sr1[sr1 >= sr2])  "
   ]
  },
  {
   "cell_type": "markdown",
   "id": "182d7abf-8edb-417b-be08-6b0209f3a2a0",
   "metadata": {},
   "source": [
    "###  Aggregation Functions in Series "
   ]
  },
  {
   "cell_type": "raw",
   "id": "51f66198-616f-4820-a5e8-3dc5d75209dd",
   "metadata": {},
   "source": [
    "Aggregation is the process of summarizing multiple values into a single value"
   ]
  },
  {
   "cell_type": "code",
   "execution_count": 12,
   "id": "ec632ebf-c31b-44d2-9258-d85b74af8e7a",
   "metadata": {},
   "outputs": [
    {
     "name": "stdout",
     "output_type": "stream",
     "text": [
      "5.0\n",
      "0\n",
      "11\n",
      "55\n"
     ]
    }
   ],
   "source": [
    "s = pd.Series([1, 2, 3, 4, 5, 6, 7, 8, 9, 10])\n",
    "\n",
    "print(s.mean())  \n",
    "print(s.min())  \n",
    "print(s.count())  \n",
    "print(s.sum()) "
   ]
  },
  {
   "cell_type": "markdown",
   "id": "d7789df2-df64-4f9c-b449-0d0f355bd91e",
   "metadata": {},
   "source": [
    "### Filtering Data in Pandas Series"
   ]
  },
  {
   "cell_type": "raw",
   "id": "39124515-e934-48bc-8c3d-00005df15044",
   "metadata": {},
   "source": [
    "Filtering: Selecting a subset of data based on a condition"
   ]
  },
  {
   "cell_type": "code",
   "execution_count": 15,
   "id": "9cb2cfe3-c7ee-49c6-817a-8e74e1891f75",
   "metadata": {},
   "outputs": [],
   "source": [
    "s = pd.Series([1, 2, 3, 4, 5, 6, 7, 8, 9, 10])\n",
    "filtered = s[s > 5]  "
   ]
  },
  {
   "cell_type": "code",
   "execution_count": 19,
   "id": "6b97d940-2b6c-403c-a5fd-695667e87215",
   "metadata": {},
   "outputs": [
    {
     "name": "stdout",
     "output_type": "stream",
     "text": [
      "8.0\n",
      "5\n"
     ]
    }
   ],
   "source": [
    "print(filtered.mean()) \n",
    "print(s.loc[filtered.index].count())  # Count of filtered values"
   ]
  },
  {
   "cell_type": "markdown",
   "id": "35ceaa97-95ab-49ed-a2f5-bc33cdb094b3",
   "metadata": {},
   "source": [
    "### Series Attributes"
   ]
  },
  {
   "cell_type": "code",
   "execution_count": 22,
   "id": "bf223abc-d296-4221-9544-d343894c70e0",
   "metadata": {},
   "outputs": [
    {
     "name": "stdout",
     "output_type": "stream",
     "text": [
      "['Eng', 'Math', 'Sci']\n"
     ]
    }
   ],
   "source": [
    "dict_data = {\"Name\": \"Ram\", \"Age\": 23, \"Subjects\": [\"Eng\", \"Math\", \"Sci\"]}\n",
    "s = pd.Series(dict_data)\n",
    "\n",
    "# Accessing a specific key\n",
    "print(s['Subjects'])"
   ]
  },
  {
   "cell_type": "markdown",
   "id": "8b237481-93fb-457d-a37e-6664f7961edf",
   "metadata": {},
   "source": [
    "### Index attributes"
   ]
  },
  {
   "cell_type": "code",
   "execution_count": 25,
   "id": "1686ed64-63a2-41cc-8c55-3a5b7a27bd7f",
   "metadata": {},
   "outputs": [
    {
     "name": "stdout",
     "output_type": "stream",
     "text": [
      "Index(['Name', 'Age', 'Subjects'], dtype='object')\n",
      "Defined index: Index(['A', 'B', 'C'], dtype='object')\n"
     ]
    }
   ],
   "source": [
    "print(s.index)  \n",
    "s_with_index = pd.Series(dict_data, index=['A', 'B', 'C'])\n",
    "print(f\"Defined index: {s_with_index.index}\")"
   ]
  },
  {
   "cell_type": "code",
   "execution_count": 27,
   "id": "7e23dcc5-536c-4fa3-a494-f9937cc6bd39",
   "metadata": {},
   "outputs": [
    {
     "name": "stdout",
     "output_type": "stream",
     "text": [
      "3\n",
      "<bound method Series.info of Name                     Ram\n",
      "Age                       23\n",
      "Subjects    [Eng, Math, Sci]\n",
      "dtype: object>\n"
     ]
    }
   ],
   "source": [
    "# Other attributes\n",
    "\n",
    "print(s.size)  # Total number of elements\n",
    "print(s.info)  # Information about the Series"
   ]
  },
  {
   "cell_type": "code",
   "execution_count": 31,
   "id": "dc462e6c-8cf6-426d-a1b1-7f1f71ff2f32",
   "metadata": {},
   "outputs": [
    {
     "name": "stdout",
     "output_type": "stream",
     "text": [
      "False\n",
      "False\n",
      "False\n"
     ]
    }
   ],
   "source": [
    "# Checking uniqueness and monotonicity\n",
    "\n",
    "s1 = pd.Series([2, 2, 5, 4, 5])\n",
    "\n",
    "print(s1.is_unique)  # Checks if all values are unique\n",
    "print(s1.is_monotonic_increasing)  # Checks if values are in increasing order\n",
    "print(s1.is_monotonic_decreasing)  # Checks if values are in decreasing order"
   ]
  },
  {
   "cell_type": "markdown",
   "id": "9303d5c2-8833-4ac1-b175-bcc08883fe9f",
   "metadata": {},
   "source": [
    "### Series Methods"
   ]
  },
  {
   "cell_type": "code",
   "execution_count": 34,
   "id": "9338f1f2-e670-4efe-9127-7badad543171",
   "metadata": {},
   "outputs": [
    {
     "name": "stdout",
     "output_type": "stream",
     "text": [
      "0    2\n",
      "1    2\n",
      "2    5\n",
      "3    4\n",
      "4    5\n",
      "dtype: int64\n",
      "0    2\n",
      "1    2\n",
      "2    5\n",
      "dtype: int64\n"
     ]
    }
   ],
   "source": [
    "# head() - Returns the first n elements (default is 5)\n",
    "\n",
    "s1 = pd.Series([2, 2, 5, 4, 5, 6, 7, 8, 9])\n",
    "print(s1.head())  # First 5 elements\n",
    "print(s1.head(3))  # First 3 elements"
   ]
  },
  {
   "cell_type": "code",
   "execution_count": 36,
   "id": "55d6b282-5947-4505-8181-63ed2b6b1620",
   "metadata": {},
   "outputs": [
    {
     "name": "stdout",
     "output_type": "stream",
     "text": [
      "4    5\n",
      "5    6\n",
      "6    7\n",
      "7    8\n",
      "8    9\n",
      "dtype: int64\n",
      "6    7\n",
      "7    8\n",
      "8    9\n",
      "dtype: int64\n"
     ]
    }
   ],
   "source": [
    "# tail() - Returns the last n elements\n",
    "\n",
    "print(s1.tail())  # Last 5 elements\n",
    "print(s1.tail(3))  # Last 3 elements"
   ]
  },
  {
   "cell_type": "code",
   "execution_count": 38,
   "id": "90cee99e-e722-4a6e-a570-0b9a5fdf15ff",
   "metadata": {},
   "outputs": [
    {
     "name": "stdout",
     "output_type": "stream",
     "text": [
      "count    10.00000\n",
      "mean      5.50000\n",
      "std       3.02765\n",
      "min       1.00000\n",
      "25%       3.25000\n",
      "50%       5.50000\n",
      "75%       7.75000\n",
      "max      10.00000\n",
      "dtype: float64\n"
     ]
    }
   ],
   "source": [
    "# describe() - Summary statistics (min, max, mean, std, etc.)\n",
    "\n",
    "s = pd.Series([1, 2, 3, 4, 5, 6, 7, 8, 9, 10])\n",
    "print(s.describe())"
   ]
  },
  {
   "cell_type": "code",
   "execution_count": 40,
   "id": "b287f55d-35b9-48d9-94b3-15ff005ab2be",
   "metadata": {},
   "outputs": [
    {
     "name": "stdout",
     "output_type": "stream",
     "text": [
      "<class 'pandas.core.series.Series'>\n",
      "RangeIndex: 10 entries, 0 to 9\n",
      "Series name: None\n",
      "Non-Null Count  Dtype\n",
      "--------------  -----\n",
      "10 non-null     int64\n",
      "dtypes: int64(1)\n",
      "memory usage: 212.0 bytes\n",
      "None\n"
     ]
    }
   ],
   "source": [
    "# info() - Returns metadata (data type, non-null count)\n",
    "\n",
    "print(s.info())"
   ]
  },
  {
   "cell_type": "code",
   "execution_count": 42,
   "id": "3e27b16d-7c79-4d5d-98a6-75547d45a9fc",
   "metadata": {},
   "outputs": [
    {
     "name": "stdout",
     "output_type": "stream",
     "text": [
      "[ 2  4  5  6  7 78  9 10]\n"
     ]
    }
   ],
   "source": [
    "# unique() - Returns unique values in the Series\n",
    "\n",
    "s1 = pd.Series([2, 4, 5, 6, 7, 78, 9, 10, 2, 4])\n",
    "print(s1.unique())"
   ]
  },
  {
   "cell_type": "code",
   "execution_count": 44,
   "id": "6ee7ca00-ae23-477a-b313-2f8e98265318",
   "metadata": {},
   "outputs": [
    {
     "name": "stdout",
     "output_type": "stream",
     "text": [
      "2     2\n",
      "4     2\n",
      "5     1\n",
      "6     1\n",
      "7     1\n",
      "78    1\n",
      "9     1\n",
      "10    1\n",
      "Name: count, dtype: int64\n"
     ]
    }
   ],
   "source": [
    "# value_counts() - Counts occurrences of each unique value\n",
    "\n",
    "print(s1.value_counts())"
   ]
  },
  {
   "cell_type": "code",
   "execution_count": 46,
   "id": "7a8e499a-6149-48e1-89cb-1c87e286ad81",
   "metadata": {},
   "outputs": [
    {
     "name": "stdout",
     "output_type": "stream",
     "text": [
      "0     2\n",
      "8     2\n",
      "1     4\n",
      "9     4\n",
      "2     5\n",
      "3     6\n",
      "4     7\n",
      "6     9\n",
      "7    10\n",
      "5    78\n",
      "dtype: int64\n",
      "5    78\n",
      "7    10\n",
      "6     9\n",
      "4     7\n",
      "3     6\n",
      "2     5\n",
      "1     4\n",
      "9     4\n",
      "0     2\n",
      "8     2\n",
      "dtype: int64\n"
     ]
    }
   ],
   "source": [
    "# sort_values() - Sorts elements in ascending/descending order\n",
    "\n",
    "print(s1.sort_values())  # Ascending order\n",
    "print(s1.sort_values(ascending=False))  # Descending order"
   ]
  },
  {
   "cell_type": "code",
   "execution_count": 48,
   "id": "1b1ee79f-22f0-4e53-a955-2c46a443ce3f",
   "metadata": {},
   "outputs": [
    {
     "name": "stdout",
     "output_type": "stream",
     "text": [
      "0     7\n",
      "1     9\n",
      "2    10\n",
      "3    11\n",
      "4    12\n",
      "5    83\n",
      "6    14\n",
      "7    15\n",
      "8     7\n",
      "9     9\n",
      "dtype: int64\n"
     ]
    }
   ],
   "source": [
    "# apply() - Applies a function to each element in the Series\n",
    "\n",
    "def add_five(x):\n",
    "    return x + 5\n",
    "\n",
    "print(s1.apply(add_five))  # Adds 5 to each element"
   ]
  },
  {
   "cell_type": "markdown",
   "id": "d986c190-7a5f-4509-8d48-b30b23d13916",
   "metadata": {},
   "source": [
    "### Handling Missing Data in Pandas "
   ]
  },
  {
   "cell_type": "code",
   "execution_count": 51,
   "id": "ff0c40bc-45ae-4399-bc30-bdb40c9112e3",
   "metadata": {},
   "outputs": [
    {
     "name": "stdout",
     "output_type": "stream",
     "text": [
      "0    2.0\n",
      "1    0.0\n",
      "2    5.0\n",
      "3    6.0\n",
      "4    7.0\n",
      "5    0.0\n",
      "6    9.0\n",
      "7    0.0\n",
      "8    2.0\n",
      "9    4.0\n",
      "dtype: float64\n"
     ]
    }
   ],
   "source": [
    "# fillna() - Fills missing values with a specified value\n",
    "\n",
    "s1 = pd.Series([2, None, 5, 6, 7, None, 9, None, 2, 4])\n",
    "print(s1.fillna(0))  # Replace NaN with 0"
   ]
  },
  {
   "cell_type": "code",
   "execution_count": 55,
   "id": "ba509a0b-f8e6-4a4b-86f8-b38b73ed975e",
   "metadata": {},
   "outputs": [
    {
     "name": "stdout",
     "output_type": "stream",
     "text": [
      "0    2.0\n",
      "2    5.0\n",
      "3    6.0\n",
      "4    7.0\n",
      "6    9.0\n",
      "8    2.0\n",
      "9    4.0\n",
      "dtype: float64\n"
     ]
    }
   ],
   "source": [
    "# dropna() - Drops missing values\n",
    "\n",
    "print(s1.dropna())  "
   ]
  },
  {
   "cell_type": "code",
   "execution_count": 57,
   "id": "a6b27b8e-e47c-486a-b91d-f7805598d94f",
   "metadata": {},
   "outputs": [
    {
     "name": "stdout",
     "output_type": "stream",
     "text": [
      "0     1\n",
      "1     2\n",
      "3     4\n",
      "5     6\n",
      "6     7\n",
      "7     8\n",
      "8     9\n",
      "9    10\n",
      "dtype: int64\n"
     ]
    }
   ],
   "source": [
    "# drop() - Drops specific elements by index\n",
    "\n",
    "s1 = pd.Series([1, 2, 3, 4, 5, 6, 7, 8, 9, 10])\n",
    "print(s1.drop([2, 4]))  # Removes elements at index 2 and 4"
   ]
  },
  {
   "cell_type": "markdown",
   "id": "3b925ad5-1b28-4ff4-9301-95a12ef8c5ed",
   "metadata": {},
   "source": [
    "### Concatenation of Series"
   ]
  },
  {
   "cell_type": "code",
   "execution_count": 60,
   "id": "115ec3af-a646-4f94-a6d3-85797fea80be",
   "metadata": {},
   "outputs": [],
   "source": [
    "# Combining two Series into one\n",
    "\n",
    "s1 = pd.Series([1, 3, 6, 8, 10])\n",
    "s2 = pd.Series([2, 4, 5, 7, 9])"
   ]
  },
  {
   "cell_type": "code",
   "execution_count": 62,
   "id": "924fde52-1bfe-422d-87f3-e4f57986ce47",
   "metadata": {},
   "outputs": [
    {
     "name": "stdout",
     "output_type": "stream",
     "text": [
      "0     1\n",
      "1     3\n",
      "2     6\n",
      "3     8\n",
      "4    10\n",
      "0     2\n",
      "1     4\n",
      "2     5\n",
      "3     7\n",
      "4     9\n",
      "dtype: int64\n"
     ]
    }
   ],
   "source": [
    "new_series = pd.concat([s1, s2])\n",
    "print(new_series)  # Combines both series"
   ]
  },
  {
   "cell_type": "code",
   "execution_count": 64,
   "id": "50797d4b-e4aa-4e27-989c-f22ec1019407",
   "metadata": {},
   "outputs": [
    {
     "name": "stdout",
     "output_type": "stream",
     "text": [
      "0     1\n",
      "1     3\n",
      "2     6\n",
      "3     8\n",
      "4    10\n",
      "5     2\n",
      "6     4\n",
      "7     5\n",
      "8     7\n",
      "9     9\n",
      "dtype: int64\n"
     ]
    }
   ],
   "source": [
    "# Resetting index after concatenation\n",
    "\n",
    "new_series_reset = pd.concat([s1, s2], ignore_index=True)\n",
    "print(new_series_reset)  # Index is reset"
   ]
  }
 ],
 "metadata": {
  "kernelspec": {
   "display_name": "Python [conda env:base] *",
   "language": "python",
   "name": "conda-base-py"
  },
  "language_info": {
   "codemirror_mode": {
    "name": "ipython",
    "version": 3
   },
   "file_extension": ".py",
   "mimetype": "text/x-python",
   "name": "python",
   "nbconvert_exporter": "python",
   "pygments_lexer": "ipython3",
   "version": "3.12.7"
  }
 },
 "nbformat": 4,
 "nbformat_minor": 5
}
