{
 "cells": [
  {
   "cell_type": "markdown",
   "id": "48f9962d-fed7-480b-b69c-2cc0c285418c",
   "metadata": {},
   "source": [
    "# DataFrame in Pandas"
   ]
  },
  {
   "cell_type": "raw",
   "id": "b7404ca7-9ec3-43ab-9152-c177874d2089",
   "metadata": {},
   "source": [
    "A DataFrame is a two-dimensional labeled data structure with rows and columns, similar to a table in databases or an Excel spreadsheet."
   ]
  },
  {
   "cell_type": "code",
   "execution_count": 4,
   "id": "c6e8745f-b031-4c7f-94ad-e7b3eb4e6ba3",
   "metadata": {},
   "outputs": [],
   "source": [
    "import pandas as pd "
   ]
  },
  {
   "cell_type": "code",
   "execution_count": 6,
   "id": "c520d201-e02a-405a-9633-842c01fabb7c",
   "metadata": {},
   "outputs": [
    {
     "name": "stdout",
     "output_type": "stream",
     "text": [
      "Empty DataFrame:\n",
      "Empty DataFrame\n",
      "Columns: []\n",
      "Index: []\n"
     ]
    }
   ],
   "source": [
    "# Creating an Empty DataFrame\n",
    "\n",
    "print(\"Empty DataFrame:\")\n",
    "df = pd.DataFrame()  \n",
    "print(df)"
   ]
  },
  {
   "cell_type": "code",
   "execution_count": 8,
   "id": "f4db7ef2-2b3b-4951-bea0-639ffd17ed0c",
   "metadata": {},
   "outputs": [
    {
     "name": "stdout",
     "output_type": "stream",
     "text": [
      "\n",
      "DataFrame from a List of Lists:\n",
      "    Name  Marks\n",
      "0    Ram     40\n",
      "1  Shyam     50\n",
      "2   Hari     60\n",
      "3   Gita     80\n"
     ]
    }
   ],
   "source": [
    "# 1️ Creating a DataFrame from a List of Lists\n",
    "\n",
    "print(\"\\nDataFrame from a List of Lists:\")\n",
    "df = pd.DataFrame([['Ram', 40], ['Shyam', 50], ['Hari', 60], ['Gita', 80]], columns=['Name', 'Marks'])\n",
    "print(df)"
   ]
  },
  {
   "cell_type": "code",
   "execution_count": 10,
   "id": "0b6925b9-148b-43de-970d-3474debc03c9",
   "metadata": {},
   "outputs": [
    {
     "name": "stdout",
     "output_type": "stream",
     "text": [
      "\n",
      "DataFrame from a Dictionary of Lists:\n",
      "    Name  Age Grade\n",
      "0    Ram   21     A\n",
      "1  Shyam   24    A+\n",
      "2   Hari   25    B+\n"
     ]
    }
   ],
   "source": [
    "# 2️ Creating a DataFrame from a Dictionary of Lists\n",
    "\n",
    "print(\"\\nDataFrame from a Dictionary of Lists:\")\n",
    "d = {\"Name\": [\"Ram\", \"Shyam\", \"Hari\"], \"Age\": [21, 24, 25], \"Grade\": [\"A\", \"A+\", \"B+\"]}\n",
    "df = pd.DataFrame(d)\n",
    "print(df)"
   ]
  },
  {
   "cell_type": "code",
   "execution_count": 12,
   "id": "b6e745f1-7f01-47d5-9753-5816500c7734",
   "metadata": {},
   "outputs": [
    {
     "name": "stdout",
     "output_type": "stream",
     "text": [
      "\n",
      "DataFrame from a List of Dictionaries:\n",
      "    Name  Age\n",
      "0    Ram   21\n",
      "1  Shyam   24\n",
      "2   Hari   25\n"
     ]
    }
   ],
   "source": [
    "# 3️ Creating a DataFrame from a List of Dictionaries\n",
    "\n",
    "print(\"\\nDataFrame from a List of Dictionaries:\")\n",
    "d = [\n",
    "    {\"Name\": \"Ram\", \"Age\": 21},\n",
    "    {\"Name\": \"Shyam\", \"Age\": 24},\n",
    "    {\"Name\": \"Hari\", \"Age\": 25}\n",
    "]\n",
    "df = pd.DataFrame(d)\n",
    "print(df)"
   ]
  },
  {
   "cell_type": "code",
   "execution_count": 14,
   "id": "75922f4d-fe7e-4e32-b297-9e9f2f21c5fa",
   "metadata": {},
   "outputs": [
    {
     "name": "stdout",
     "output_type": "stream",
     "text": [
      "\n",
      "DataFrame from a Dictionary of Series:\n",
      "    Name  Age Grade\n",
      "0    Ram   21     A\n",
      "1  Shyam   24    A+\n",
      "2   Hari   25    B+\n"
     ]
    }
   ],
   "source": [
    "# 4️ Creating a DataFrame from a Dictionary of Series\n",
    "\n",
    "print(\"\\nDataFrame from a Dictionary of Series:\")\n",
    "d = {\n",
    "    'Name': pd.Series([\"Ram\", \"Shyam\", \"Hari\"]),\n",
    "    'Age': pd.Series([21, 24, 25]),\n",
    "    'Grade': pd.Series([\"A\", \"A+\", \"B+\"])\n",
    "}\n",
    "df = pd.DataFrame(d)\n",
    "print(df)"
   ]
  },
  {
   "cell_type": "markdown",
   "id": "a19cdfd0-c987-4d9b-ac7f-0288e2f561c5",
   "metadata": {},
   "source": [
    "### Selecting, Adding, and Deleting Columns"
   ]
  },
  {
   "cell_type": "code",
   "execution_count": 16,
   "id": "2fe1223b-5898-4b30-adaa-e6751dc82dfd",
   "metadata": {},
   "outputs": [
    {
     "name": "stdout",
     "output_type": "stream",
     "text": [
      "\n",
      "Selecting, Adding, and Deleting Columns\n",
      "Original DataFrame:\n",
      "    Name  Age Grade\n",
      "0    Ram   21     A\n",
      "1  Shyam   24    A+\n",
      "2   Hari   25    B+\n"
     ]
    }
   ],
   "source": [
    "print(\"\\nSelecting, Adding, and Deleting Columns\")\n",
    "d = {\"Name\": [\"Ram\", \"Shyam\", \"Hari\"], \"Age\": [21, 24, 25], \"Grade\": [\"A\", \"A+\", \"B+\"]}\n",
    "df = pd.DataFrame(d)\n",
    "print(\"Original DataFrame:\")\n",
    "print(df)"
   ]
  },
  {
   "cell_type": "code",
   "execution_count": 19,
   "id": "3c967b6c-c092-4603-b6ea-bd88c738b4c1",
   "metadata": {},
   "outputs": [
    {
     "name": "stdout",
     "output_type": "stream",
     "text": [
      "\n",
      "Selecting 'Grade' column:\n",
      "0     A\n",
      "1    A+\n",
      "2    B+\n",
      "Name: Grade, dtype: object\n"
     ]
    }
   ],
   "source": [
    "# Selecting a single column\n",
    "\n",
    "print(\"\\nSelecting 'Grade' column:\")\n",
    "print(df['Grade'])"
   ]
  },
  {
   "cell_type": "code",
   "execution_count": 21,
   "id": "8b206364-6766-4298-bd20-8f509485a4b6",
   "metadata": {},
   "outputs": [
    {
     "name": "stdout",
     "output_type": "stream",
     "text": [
      "\n",
      "Selecting 'Name' and 'Grade' columns:\n",
      "    Name Grade\n",
      "0    Ram     A\n",
      "1  Shyam    A+\n",
      "2   Hari    B+\n"
     ]
    }
   ],
   "source": [
    "# Selecting multiple columns\n",
    "\n",
    "print(\"\\nSelecting 'Name' and 'Grade' columns:\")\n",
    "print(df[['Name', 'Grade']])"
   ]
  },
  {
   "cell_type": "code",
   "execution_count": 23,
   "id": "3f614fb8-22a3-4894-8017-93806333de14",
   "metadata": {},
   "outputs": [
    {
     "name": "stdout",
     "output_type": "stream",
     "text": [
      "\n",
      "Adding a new column 'Course':\n",
      "    Name  Age Grade Course\n",
      "0    Ram   21     A    BCA\n",
      "1  Shyam   24    A+    BBS\n",
      "2   Hari   25    B+     BE\n"
     ]
    }
   ],
   "source": [
    "# Adding a new column\n",
    "\n",
    "print(\"\\nAdding a new column 'Course':\")\n",
    "df['Course'] = ['BCA', 'BBS', 'BE']\n",
    "print(df)"
   ]
  },
  {
   "cell_type": "code",
   "execution_count": 25,
   "id": "c23ffaec-8e7a-4d0e-9bc5-f5d111fc28cf",
   "metadata": {},
   "outputs": [
    {
     "name": "stdout",
     "output_type": "stream",
     "text": [
      "\n",
      "Deleting 'Course' column:\n",
      "    Name  Age Grade\n",
      "0    Ram   21     A\n",
      "1  Shyam   24    A+\n",
      "2   Hari   25    B+\n"
     ]
    }
   ],
   "source": [
    "# Deleting a column\n",
    "\n",
    "print(\"\\nDeleting 'Course' column:\")\n",
    "df = df.drop('Course', axis=1)  # axis=1 means column-wise operation\n",
    "print(df)"
   ]
  },
  {
   "cell_type": "markdown",
   "id": "5e2a7523-6334-4125-88e4-b2a8dfae3743",
   "metadata": {},
   "source": [
    "### Selecting, Adding, and Deleting Rows"
   ]
  },
  {
   "cell_type": "code",
   "execution_count": 28,
   "id": "91a8d585-c071-4908-97dc-62e9cbb32c34",
   "metadata": {},
   "outputs": [
    {
     "name": "stdout",
     "output_type": "stream",
     "text": [
      "\n",
      "Selecting, Adding, and Deleting Rows\n",
      "Original DataFrame:\n",
      "    Name  Age Grade\n",
      "0    Ram   21     A\n",
      "1  Shyam   24    A+\n",
      "2   Hari   25    B+\n"
     ]
    }
   ],
   "source": [
    "print(\"\\nSelecting, Adding, and Deleting Rows\")\n",
    "d = {\"Name\": [\"Ram\", \"Shyam\", \"Hari\"], \"Age\": [21, 24, 25], \"Grade\": [\"A\", \"A+\", \"B+\"]}\n",
    "df = pd.DataFrame(d)\n",
    "print(\"Original DataFrame:\")\n",
    "print(df)"
   ]
  },
  {
   "cell_type": "code",
   "execution_count": 30,
   "id": "2c556cae-e1d2-4c58-9943-e841c79488a3",
   "metadata": {},
   "outputs": [
    {
     "name": "stdout",
     "output_type": "stream",
     "text": [
      "\n",
      "Selecting the first row using .loc[]:\n",
      "Name     Ram\n",
      "Age       21\n",
      "Grade      A\n",
      "Name: 0, dtype: object\n"
     ]
    }
   ],
   "source": [
    "# Selecting a row using .loc[]\n",
    "\n",
    "print(\"\\nSelecting the first row using .loc[]:\")\n",
    "print(df.loc[0])"
   ]
  },
  {
   "cell_type": "code",
   "execution_count": 32,
   "id": "486e00fa-c4d4-4c30-a008-20ab8f91b21e",
   "metadata": {},
   "outputs": [
    {
     "name": "stdout",
     "output_type": "stream",
     "text": [
      "\n",
      "Adding a new row:\n",
      "    Name  Age Grade\n",
      "0    Ram   21     A\n",
      "1  Shyam   24    A+\n",
      "2   Hari   25    B+\n",
      "3   Gita   24     B\n"
     ]
    }
   ],
   "source": [
    "# Adding a new row using .loc[]\n",
    "\n",
    "print(\"\\nAdding a new row:\")\n",
    "df.loc[len(df)] = {\"Name\": \"Gita\", \"Age\": 24, \"Grade\": \"B\"}  # Adds at the next available index\n",
    "print(df)"
   ]
  },
  {
   "cell_type": "code",
   "execution_count": 34,
   "id": "859c0968-7f6d-45bb-a542-19f47a97c1d7",
   "metadata": {},
   "outputs": [
    {
     "name": "stdout",
     "output_type": "stream",
     "text": [
      "\n",
      "Adding a new row at index 5:\n",
      "    Name  Age Grade\n",
      "0    Ram   21     A\n",
      "1  Shyam   24    A+\n",
      "2   Hari   25    B+\n",
      "3   Gita   24     B\n",
      "5   Gita   24     B\n"
     ]
    }
   ],
   "source": [
    "# Adding a new row at a specific index\n",
    "\n",
    "print(\"\\nAdding a new row at index 5:\")\n",
    "df.loc[5] = {\"Name\": \"Gita\", \"Age\": 24, \"Grade\": \"B\"}  # Manually setting an index\n",
    "print(df)"
   ]
  },
  {
   "cell_type": "code",
   "execution_count": 36,
   "id": "dbadbc58-9461-4f67-9436-8451adc6bf81",
   "metadata": {},
   "outputs": [
    {
     "name": "stdout",
     "output_type": "stream",
     "text": [
      "\n",
      "Deleting the row at index 0:\n",
      "    Name  Age Grade\n",
      "1  Shyam   24    A+\n",
      "2   Hari   25    B+\n",
      "3   Gita   24     B\n",
      "5   Gita   24     B\n"
     ]
    }
   ],
   "source": [
    "# Deleting a row\n",
    "\n",
    "print(\"\\nDeleting the row at index 0:\")\n",
    "df = df.drop(0)\n",
    "print(df)"
   ]
  },
  {
   "cell_type": "markdown",
   "id": "6316c786-ef8b-46bf-ac1f-7305bb358dc6",
   "metadata": {},
   "source": [
    "### Indexing and Slicing in DataFrame"
   ]
  },
  {
   "cell_type": "code",
   "execution_count": 39,
   "id": "c590c603-66f1-4fe8-9d3d-a5c9d61846f5",
   "metadata": {},
   "outputs": [
    {
     "name": "stdout",
     "output_type": "stream",
     "text": [
      "\n",
      "Indexing and Slicing in DataFrame\n",
      "Original DataFrame:\n",
      "    Name  Age Grade\n",
      "0    Ram   21     A\n",
      "1  Shyam   24    A+\n",
      "2   Hari   25    B+\n"
     ]
    }
   ],
   "source": [
    "print(\"\\nIndexing and Slicing in DataFrame\")\n",
    "d = {\"Name\": [\"Ram\", \"Shyam\", \"Hari\"], \"Age\": [21, 24, 25], \"Grade\": [\"A\", \"A+\", \"B+\"]}\n",
    "df = pd.DataFrame(d)\n",
    "print(\"Original DataFrame:\")\n",
    "print(df)"
   ]
  },
  {
   "cell_type": "code",
   "execution_count": 41,
   "id": "534bbe08-7819-40b9-bafa-15eb7ed468ab",
   "metadata": {},
   "outputs": [
    {
     "name": "stdout",
     "output_type": "stream",
     "text": [
      "\n",
      "Selecting a row using .loc[]:\n",
      "Name     Shyam\n",
      "Age         24\n",
      "Grade       A+\n",
      "Name: 1, dtype: object\n"
     ]
    }
   ],
   "source": [
    "# Selecting a row using .loc[] (label-based indexing)\n",
    "\n",
    "print(\"\\nSelecting a row using .loc[]:\")\n",
    "print(df.loc[1])"
   ]
  },
  {
   "cell_type": "code",
   "execution_count": 43,
   "id": "91e39753-5255-4718-8424-d29e1f736baa",
   "metadata": {},
   "outputs": [
    {
     "name": "stdout",
     "output_type": "stream",
     "text": [
      "\n",
      "Selecting specific values (rows: 0-2, column: 1) using .iloc[]:\n",
      "0    21\n",
      "1    24\n",
      "Name: Age, dtype: int64\n"
     ]
    }
   ],
   "source": [
    "# Selecting specific values using .iloc[] (position-based indexing)\n",
    "\n",
    "print(\"\\nSelecting specific values (rows: 0-2, column: 1) using .iloc[]:\")\n",
    "print(df.iloc[0:2, 1])"
   ]
  },
  {
   "cell_type": "markdown",
   "id": "dbbbc5f5-e3bf-4d1a-818e-3e2a2f54f8b3",
   "metadata": {},
   "source": [
    "### Arithmetic Operations"
   ]
  },
  {
   "cell_type": "code",
   "execution_count": 46,
   "id": "860dd538-8e64-47cf-8cd6-909a03f9d148",
   "metadata": {},
   "outputs": [
    {
     "name": "stdout",
     "output_type": "stream",
     "text": [
      "\n",
      "Performing Arithmetic Operations on 'Age' Column\n",
      "Before Addition:\n",
      "    Name  Age Grade\n",
      "0    Ram   21     A\n",
      "1  Shyam   24    A+\n",
      "2   Hari   25    B+\n"
     ]
    }
   ],
   "source": [
    "print(\"\\nPerforming Arithmetic Operations on 'Age' Column\")\n",
    "print(\"Before Addition:\")\n",
    "print(df)"
   ]
  },
  {
   "cell_type": "code",
   "execution_count": 48,
   "id": "2ef727e5-868d-4f2f-b3e5-04a7c1a97d25",
   "metadata": {},
   "outputs": [
    {
     "name": "stdout",
     "output_type": "stream",
     "text": [
      "After Addition:\n",
      "    Name  Age Grade\n",
      "0    Ram   26     A\n",
      "1  Shyam   29    A+\n",
      "2   Hari   30    B+\n"
     ]
    }
   ],
   "source": [
    "df['Age'] += 5  # Incrementing 'Age' column values by 5\n",
    "print(\"After Addition:\")\n",
    "print(df)"
   ]
  },
  {
   "cell_type": "markdown",
   "id": "9c633bd6-6d05-4947-8ac4-180a84f7a1e7",
   "metadata": {},
   "source": [
    "### Comparison Operations"
   ]
  },
  {
   "cell_type": "code",
   "execution_count": 51,
   "id": "29da4e53-307c-413f-9a0b-d5b3abcbcddd",
   "metadata": {},
   "outputs": [
    {
     "name": "stdout",
     "output_type": "stream",
     "text": [
      "\n",
      "Performing Comparison Operations\n",
      "Original DataFrame:\n",
      "    Name  Age Grade\n",
      "0    Ram   26     A\n",
      "1  Shyam   29    A+\n",
      "2   Hari   30    B+\n"
     ]
    }
   ],
   "source": [
    "print(\"\\nPerforming Comparison Operations\")\n",
    "print(\"Original DataFrame:\")\n",
    "print(df)"
   ]
  },
  {
   "cell_type": "code",
   "execution_count": 53,
   "id": "73b7f851-d5fa-4ff1-8499-13ba5890fb5d",
   "metadata": {},
   "outputs": [
    {
     "name": "stdout",
     "output_type": "stream",
     "text": [
      "\n",
      "Checking which ages are greater than 29:\n",
      "0    False\n",
      "1    False\n",
      "2     True\n",
      "Name: Age, dtype: bool\n"
     ]
    }
   ],
   "source": [
    "# Checking if values in 'Age' column are greater than 29\n",
    "\n",
    "print(\"\\nChecking which ages are greater than 29:\")\n",
    "print(df['Age'] > 29)"
   ]
  },
  {
   "cell_type": "code",
   "execution_count": 55,
   "id": "736be402-af8e-40b0-b304-9029803eb732",
   "metadata": {},
   "outputs": [
    {
     "name": "stdout",
     "output_type": "stream",
     "text": [
      "\n",
      "Filtering rows where 'Age' is equal to 30:\n",
      "   Name  Age Grade\n",
      "2  Hari   30    B+\n"
     ]
    }
   ],
   "source": [
    "# Filtering rows where 'Age' is equal to 30\n",
    "\n",
    "print(\"\\nFiltering rows where 'Age' is equal to 30:\")\n",
    "print(df[df['Age'] == 30])"
   ]
  },
  {
   "cell_type": "code",
   "execution_count": 57,
   "id": "7d0aa515-e3c1-41a2-98ab-fc2e60dc7367",
   "metadata": {},
   "outputs": [
    {
     "name": "stdout",
     "output_type": "stream",
     "text": [
      "\n",
      "Performing Aggregation Operations\n",
      "Mean Age: 28.333333333333332\n",
      "Total Age Sum: 85\n",
      "Number of Entries in Age Column: 3\n"
     ]
    }
   ],
   "source": [
    "### Aggregation Operations\n",
    "\n",
    "print(\"\\nPerforming Aggregation Operations\")\n",
    "print(\"Mean Age:\", df['Age'].mean())  # Mean (Average) of 'Age' column\n",
    "print(\"Total Age Sum:\", df['Age'].sum())  # Sum of 'Age' column\n",
    "print(\"Number of Entries in Age Column:\", df['Age'].count())  # Count of non-null values in 'Age'"
   ]
  },
  {
   "cell_type": "code",
   "execution_count": null,
   "id": "100c7861-7bcf-416a-a801-b2294e00988d",
   "metadata": {},
   "outputs": [],
   "source": []
  }
 ],
 "metadata": {
  "kernelspec": {
   "display_name": "Python [conda env:base] *",
   "language": "python",
   "name": "conda-base-py"
  },
  "language_info": {
   "codemirror_mode": {
    "name": "ipython",
    "version": 3
   },
   "file_extension": ".py",
   "mimetype": "text/x-python",
   "name": "python",
   "nbconvert_exporter": "python",
   "pygments_lexer": "ipython3",
   "version": "3.12.7"
  }
 },
 "nbformat": 4,
 "nbformat_minor": 5
}
