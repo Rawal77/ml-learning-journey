{
 "cells": [
  {
   "cell_type": "markdown",
   "id": "6a126e23-d10a-449d-bde5-702ded00647f",
   "metadata": {},
   "source": [
    "# Working with Pandas Series"
   ]
  },
  {
   "cell_type": "raw",
   "id": "aaf7d306-a513-4004-92c4-8e212e48b255",
   "metadata": {},
   "source": [
    " Creating a Series in Pandas (4 Methods)"
   ]
  },
  {
   "cell_type": "code",
   "execution_count": 6,
   "id": "2e568ac8-0324-4344-ba43-db2e89f56c02",
   "metadata": {},
   "outputs": [],
   "source": [
    "import pandas as pd"
   ]
  },
  {
   "cell_type": "code",
   "execution_count": 8,
   "id": "884f4157-8435-47d6-a893-642baefe666d",
   "metadata": {},
   "outputs": [
    {
     "name": "stdout",
     "output_type": "stream",
     "text": [
      "0    1\n",
      "1    2\n",
      "2    3\n",
      "3    4\n",
      "4    5\n",
      "dtype: int64\n"
     ]
    }
   ],
   "source": [
    "# 1 Direct Method (General Way)\n",
    "\n",
    "sr = pd.Series([1, 2, 3, 4, 5])  # Creating a simple series with numerical values\n",
    "print(sr)"
   ]
  },
  {
   "cell_type": "code",
   "execution_count": 10,
   "id": "9e411504-056d-473f-beed-b709c287011e",
   "metadata": {},
   "outputs": [
    {
     "name": "stdout",
     "output_type": "stream",
     "text": [
      "0      Ram\n",
      "1     Hari\n",
      "2    Shyam\n",
      "dtype: object\n"
     ]
    }
   ],
   "source": [
    "# 2️ List Method (Using a Python List)\n",
    "\n",
    "listVar = ['Ram', 'Hari', 'Shyam']  \n",
    "sr = pd.Series(listVar)  # Converting list into a Pandas Series\n",
    "print(sr)"
   ]
  },
  {
   "cell_type": "code",
   "execution_count": 16,
   "id": "8b18c0c2-f5f0-4adf-9f72-aa7d0864e557",
   "metadata": {},
   "outputs": [
    {
     "name": "stdout",
     "output_type": "stream",
     "text": [
      "0      Ram\n",
      "1     Hari\n",
      "2    Shyam\n",
      "dtype: object\n"
     ]
    }
   ],
   "source": [
    "# 3️⃣ Tuple Method (Using a Tuple)\n",
    "\n",
    "tupleVar = ('Ram', 'Hari', 'Shyam') \n",
    "sr = pd.Series(tupleVar)  # Converting tuple into a Pandas Series\n",
    "print(sr)"
   ]
  },
  {
   "cell_type": "code",
   "execution_count": 14,
   "id": "88c904b1-4275-460a-b939-3e09d904e2ff",
   "metadata": {},
   "outputs": [
    {
     "name": "stdout",
     "output_type": "stream",
     "text": [
      "Name                 Gita\n",
      "Sub     [Eng, Math, Comp]\n",
      "Age                    20\n",
      "dtype: object\n"
     ]
    }
   ],
   "source": [
    "# 4️⃣ Dictionary Method (Using a Dictionary)\n",
    "\n",
    "dictVar = {\n",
    "    'Name': 'Gita', \n",
    "    'Sub': ['Eng', 'Math', 'Comp'],  # A list inside a dictionary\n",
    "    'Age': 20\n",
    "}  \n",
    "sr = pd.Series(dictVar)  # Creating a Series from dictionary keys and values\n",
    "print(sr)"
   ]
  },
  {
   "cell_type": "markdown",
   "id": "77963e30-d37a-48f5-8439-210f337e0a4a",
   "metadata": {},
   "source": [
    "#  Indexing in Pandas Series"
   ]
  },
  {
   "cell_type": "code",
   "execution_count": 19,
   "id": "e6c0eb9c-6348-436b-a354-35ab42cb4e1f",
   "metadata": {},
   "outputs": [
    {
     "name": "stdout",
     "output_type": "stream",
     "text": [
      "A          Ram\n",
      "B        Shyam\n",
      "C    GhanShyam\n",
      "dtype: object\n"
     ]
    }
   ],
   "source": [
    "# Creating a Series with custom labels for indexing\n",
    "\n",
    "sr = pd.Series(['Ram', 'Shyam', 'GhanShyam'], index=['A', 'B', 'C'])\n",
    "print(sr)"
   ]
  },
  {
   "cell_type": "code",
   "execution_count": 23,
   "id": "d04150d8-59d9-480e-9582-fbe6a483e790",
   "metadata": {},
   "outputs": [
    {
     "name": "stdout",
     "output_type": "stream",
     "text": [
      "Ram\n",
      "A          Ram\n",
      "C    GhanShyam\n",
      "dtype: object\n",
      "A          Ram\n",
      "B        Shyam\n",
      "C    GhanShyam\n",
      "dtype: object\n"
     ]
    }
   ],
   "source": [
    "# Using .loc[] for Label-Based Indexing\n",
    "\n",
    "print(sr.loc['A'])  # Accessing a single element by label\n",
    "print(sr.loc[['A', 'C']])  # Accessing multiple elements by labels\n",
    "print(sr.loc['A':'C'])  # Accessing a range of elements using labels"
   ]
  },
  {
   "cell_type": "code",
   "execution_count": 25,
   "id": "bd260ff2-1f23-453d-8f02-46e2531a9f1b",
   "metadata": {},
   "outputs": [
    {
     "name": "stdout",
     "output_type": "stream",
     "text": [
      "Ram\n",
      "A          Ram\n",
      "C    GhanShyam\n",
      "dtype: object\n",
      "A      Ram\n",
      "B    Shyam\n",
      "dtype: object\n"
     ]
    }
   ],
   "source": [
    "# Using .iloc[] for Position-Based Indexing\n",
    "\n",
    "print(sr.iloc[0])  # Accessing a single element by index position\n",
    "print(sr.iloc[[0, 2]])  # Accessing multiple elements using index positions\n",
    "print(sr.iloc[0:2])  # Accessing a range of elements using index positions"
   ]
  },
  {
   "cell_type": "markdown",
   "id": "bd2ba086-1892-4b60-bff0-afa0cd808b89",
   "metadata": {},
   "source": [
    "#  Boolean Indexing (Filtering Elements Based on Conditions)"
   ]
  },
  {
   "cell_type": "code",
   "execution_count": 28,
   "id": "e979bbf0-71f0-45c4-a076-462a7e46c801",
   "metadata": {},
   "outputs": [],
   "source": [
    "# Creating a numerical Series\n",
    "\n",
    "sr = pd.Series([1, 2, 3, 4, 5, 6, 7, 8, 9, 10])"
   ]
  },
  {
   "cell_type": "code",
   "execution_count": 30,
   "id": "f1b38076-ff2c-44de-a914-32bab4be813a",
   "metadata": {},
   "outputs": [
    {
     "name": "stdout",
     "output_type": "stream",
     "text": [
      "1     2\n",
      "3     4\n",
      "5     6\n",
      "7     8\n",
      "9    10\n",
      "dtype: int64\n"
     ]
    }
   ],
   "source": [
    "print(sr[sr % 2 == 0])  # Returns only even numbers"
   ]
  },
  {
   "cell_type": "code",
   "execution_count": 34,
   "id": "81621ae0-202c-4bab-8d98-96a5a3a70d94",
   "metadata": {},
   "outputs": [
    {
     "name": "stdout",
     "output_type": "stream",
     "text": [
      "5     6\n",
      "6     7\n",
      "7     8\n",
      "8     9\n",
      "9    10\n",
      "dtype: int64\n"
     ]
    }
   ],
   "source": [
    "print(sr[sr > 5])  # Returns numbers that are greater than 5"
   ]
  },
  {
   "cell_type": "code",
   "execution_count": 36,
   "id": "62cbd0ed-a0d6-4faa-afa9-e964086411c8",
   "metadata": {},
   "outputs": [
    {
     "name": "stdout",
     "output_type": "stream",
     "text": [
      "Series([], dtype: int64)\n"
     ]
    }
   ],
   "source": [
    "print(sr[sr == 11])  # Returns an empty Series as 11 is not in the Series"
   ]
  },
  {
   "cell_type": "markdown",
   "id": "a6197441-af2f-43ee-b854-1ab82eec4390",
   "metadata": {},
   "source": [
    "# Testing: Understanding the Behavior of iloc[] "
   ]
  },
  {
   "cell_type": "code",
   "execution_count": 41,
   "id": "8fb82f91-4618-4328-b79d-13321c2d25b9",
   "metadata": {},
   "outputs": [
    {
     "name": "stdout",
     "output_type": "stream",
     "text": [
      "A          Ram\n",
      "B        Shyam\n",
      "C    Ghanshyam\n",
      "dtype: object\n"
     ]
    }
   ],
   "source": [
    "df = pd.Series(['Ram', 'Shyam', 'Ghanshyam', 'Hari', 'Raman'], index=['A', 'B', 'C', 'D', 'E'])\n",
    "\n",
    "# 🔍 Regardless of custom index labels, iloc[] always works based on index position\n",
    "print(df.iloc[0:3])  # Extracts the first three elements"
   ]
  },
  {
   "cell_type": "markdown",
   "id": "fe529adc-481e-4d40-bb32-3303b9094744",
   "metadata": {},
   "source": [
    "# Slicing in Series (Extracting Subsets)"
   ]
  },
  {
   "cell_type": "code",
   "execution_count": 46,
   "id": "36285d68-0d95-4f2c-9e65-f05890f95bd1",
   "metadata": {},
   "outputs": [
    {
     "name": "stdout",
     "output_type": "stream",
     "text": [
      "Original Series:\n",
      "a     1\n",
      "b     2\n",
      "c     3\n",
      "d     4\n",
      "e     5\n",
      "f     6\n",
      "g     7\n",
      "h     8\n",
      "i     9\n",
      "j    10\n",
      "dtype: int64\n"
     ]
    }
   ],
   "source": [
    "# Creating a sample Series\n",
    "\n",
    "sr = pd.Series([1, 2, 3, 4, 5, 6, 7, 8, 9, 10], index=['a', 'b', 'c', 'd', 'e', 'f', 'g', 'h', 'i', 'j'])\n",
    "print(\"Original Series:\")\n",
    "print(sr)"
   ]
  },
  {
   "cell_type": "code",
   "execution_count": 48,
   "id": "dafea7ff-e4c2-44d0-b5c3-84f7d5b7e02e",
   "metadata": {},
   "outputs": [
    {
     "name": "stdout",
     "output_type": "stream",
     "text": [
      "\n",
      "Elements greater than 2:\n",
      "c     3\n",
      "d     4\n",
      "e     5\n",
      "f     6\n",
      "g     7\n",
      "h     8\n",
      "i     9\n",
      "j    10\n",
      "dtype: int64\n"
     ]
    }
   ],
   "source": [
    "# Slicing using conditions\n",
    "\n",
    "print(\"\\nElements greater than 2:\")\n",
    "print(sr[sr > 2])"
   ]
  },
  {
   "cell_type": "code",
   "execution_count": 50,
   "id": "5ef83a3a-adb1-481b-acde-29eaab5ff766",
   "metadata": {},
   "outputs": [
    {
     "name": "stdout",
     "output_type": "stream",
     "text": [
      "\n",
      "First five elements:\n",
      "a    1\n",
      "b    2\n",
      "c    3\n",
      "d    4\n",
      "e    5\n",
      "dtype: int64\n"
     ]
    }
   ],
   "source": [
    "print(\"\\nFirst five elements:\")\n",
    "print(sr[:5])"
   ]
  },
  {
   "cell_type": "code",
   "execution_count": 54,
   "id": "2ed682e1-f45b-48f0-ad2c-43254aa91fe7",
   "metadata": {},
   "outputs": [
    {
     "name": "stdout",
     "output_type": "stream",
     "text": [
      "\n",
      "Slicing with .loc[]:\n",
      "b    2\n",
      "c    3\n",
      "d    4\n",
      "dtype: int64\n"
     ]
    }
   ],
   "source": [
    "# Slicing using .loc[] (Label-based indexing)\n",
    "\n",
    "print(\"\\nSlicing with .loc[]:\")\n",
    "print(sr.loc['b':'d'])  # Selecting values from index 'b' to 'd'"
   ]
  },
  {
   "cell_type": "code",
   "execution_count": 58,
   "id": "020100f0-b3ac-451b-99d4-52c9aafd56bf",
   "metadata": {},
   "outputs": [
    {
     "name": "stdout",
     "output_type": "stream",
     "text": [
      "\n",
      "Slicing with .iloc[]:\n",
      "c    3\n",
      "d    4\n",
      "dtype: int64\n",
      "a    1\n",
      "b    2\n",
      "c    3\n",
      "dtype: int64\n"
     ]
    }
   ],
   "source": [
    "# Slicing using .iloc[] (Index-based slicing)\n",
    "\n",
    "print(\"\\nSlicing with .iloc[]:\")\n",
    "print(sr.iloc[2:4])  # Selecting elements at index positions 2 to 3\n",
    "print(sr.iloc[0:3])  # Selecting first three elements"
   ]
  },
  {
   "cell_type": "markdown",
   "id": "f1f76941-be49-4b4d-a83e-8d878b031a19",
   "metadata": {},
   "source": [
    "# Arithmetic Operations on Series"
   ]
  },
  {
   "cell_type": "code",
   "execution_count": 63,
   "id": "55513384-f7a6-4f94-bc2c-524a1be5eaf1",
   "metadata": {},
   "outputs": [
    {
     "name": "stdout",
     "output_type": "stream",
     "text": [
      "\n",
      "Series 1:\n",
      "0     1\n",
      "1     2\n",
      "2     3\n",
      "3     4\n",
      "4     5\n",
      "5     6\n",
      "6     7\n",
      "7     8\n",
      "8     9\n",
      "9    10\n",
      "dtype: int64\n",
      "\n",
      "Series 2:\n",
      "0     1\n",
      "1     2\n",
      "2     3\n",
      "3     4\n",
      "4     5\n",
      "5     6\n",
      "6     7\n",
      "7     8\n",
      "8     9\n",
      "9    10\n",
      "dtype: int64\n"
     ]
    }
   ],
   "source": [
    "# Creating two sample Series\n",
    "sr1 = pd.Series([1, 2, 3, 4, 5, 6, 7, 8, 9, 10])\n",
    "sr2 = pd.Series([1, 2, 3, 4, 5, 6, 7, 8, 9, 10])\n",
    "\n",
    "print(\"\\nSeries 1:\")\n",
    "print(sr1)\n",
    "print(\"\\nSeries 2:\")\n",
    "print(sr2)"
   ]
  },
  {
   "cell_type": "code",
   "execution_count": 75,
   "id": "2dce682c-d0a6-4470-bf52-791f5d4f9568",
   "metadata": {},
   "outputs": [
    {
     "name": "stdout",
     "output_type": "stream",
     "text": [
      "\n",
      "Addition using `+` operator:\n",
      "0     2\n",
      "1     4\n",
      "2     6\n",
      "3     8\n",
      "4    10\n",
      "5    12\n",
      "6    14\n",
      "7    16\n",
      "8    18\n",
      "9    20\n",
      "dtype: int64\n"
     ]
    },
    {
     "data": {
      "text/plain": [
       "'\\nCan be done like this as well\\n\\nprint(\"\\nAddition using `add()` method:\")\\nprint(sr1.add(sr2))\\n'"
      ]
     },
     "execution_count": 75,
     "metadata": {},
     "output_type": "execute_result"
    }
   ],
   "source": [
    "# Addition\n",
    "print(\"\\nAddition using `+` operator:\")\n",
    "print(sr1 + sr2)\n",
    "\n",
    "\"\"\"\n",
    "Can be done like this as well\n",
    "\n",
    "print(\"\\nAddition using `add()` method:\")\n",
    "print(sr1.add(sr2))\n",
    "\"\"\""
   ]
  },
  {
   "cell_type": "code",
   "execution_count": 73,
   "id": "e3816e1d-bd47-4157-9c43-d77f39ac6a61",
   "metadata": {},
   "outputs": [
    {
     "name": "stdout",
     "output_type": "stream",
     "text": [
      "\n",
      "Subtraction using `-` operator:\n",
      "0    0\n",
      "1    0\n",
      "2    0\n",
      "3    0\n",
      "4    0\n",
      "5    0\n",
      "6    0\n",
      "7    0\n",
      "8    0\n",
      "9    0\n",
      "dtype: int64\n"
     ]
    },
    {
     "data": {
      "text/plain": [
       "'\\nCan be done like this as well\\n\\nprint(\"\\nSubtraction using `sub()` method:\")\\nprint(sr1.sub(sr2))\\n'"
      ]
     },
     "execution_count": 73,
     "metadata": {},
     "output_type": "execute_result"
    }
   ],
   "source": [
    "# Subtraction\n",
    "print(\"\\nSubtraction using `-` operator:\")\n",
    "print(sr1 - sr2)\n",
    "\n",
    "\"\"\"\n",
    "Can be done like this as well\n",
    "\n",
    "print(\"\\nSubtraction using `sub()` method:\")\n",
    "print(sr1.sub(sr2))\n",
    "\"\"\""
   ]
  },
  {
   "cell_type": "code",
   "execution_count": 77,
   "id": "2b047a90-98c5-4809-8eb8-5274af692003",
   "metadata": {},
   "outputs": [
    {
     "name": "stdout",
     "output_type": "stream",
     "text": [
      "\n",
      "Multiplication using `mul()` method:\n",
      "0      1\n",
      "1      4\n",
      "2      9\n",
      "3     16\n",
      "4     25\n",
      "5     36\n",
      "6     49\n",
      "7     64\n",
      "8     81\n",
      "9    100\n",
      "dtype: int64\n"
     ]
    }
   ],
   "source": [
    "# Multiplication\n",
    "\"\"\"\n",
    "Can be done like this as well\n",
    "\n",
    "print(\"\\nMultiplication using `*` operator:\")\n",
    "print(sr1 * sr2)\n",
    "\"\"\"\n",
    "\n",
    "print(\"\\nMultiplication using `mul()` method:\")\n",
    "print(sr1.mul(sr2))"
   ]
  },
  {
   "cell_type": "code",
   "execution_count": 79,
   "id": "c1b1c32e-8ae5-416b-a4e0-910bbcaa4c79",
   "metadata": {},
   "outputs": [
    {
     "name": "stdout",
     "output_type": "stream",
     "text": [
      "\n",
      "Division using `div()` method:\n",
      "0    1.0\n",
      "1    1.0\n",
      "2    1.0\n",
      "3    1.0\n",
      "4    1.0\n",
      "5    1.0\n",
      "6    1.0\n",
      "7    1.0\n",
      "8    1.0\n",
      "9    1.0\n",
      "dtype: float64\n"
     ]
    }
   ],
   "source": [
    "# Division\n",
    "\"\"\"\n",
    "Can be done like this as well\n",
    "\n",
    "print(\"\\nDivision using `/` operator:\")\n",
    "print(sr1 / sr2)\n",
    "\"\"\"\n",
    "\n",
    "print(\"\\nDivision using `div()` method:\")\n",
    "print(sr1.div(sr2))"
   ]
  }
 ],
 "metadata": {
  "kernelspec": {
   "display_name": "Python [conda env:base] *",
   "language": "python",
   "name": "conda-base-py"
  },
  "language_info": {
   "codemirror_mode": {
    "name": "ipython",
    "version": 3
   },
   "file_extension": ".py",
   "mimetype": "text/x-python",
   "name": "python",
   "nbconvert_exporter": "python",
   "pygments_lexer": "ipython3",
   "version": "3.12.7"
  }
 },
 "nbformat": 4,
 "nbformat_minor": 5
}
