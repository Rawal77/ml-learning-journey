{
 "cells": [
  {
   "cell_type": "markdown",
   "id": "d288e27c-7c2e-459d-8b06-6350ce42f579",
   "metadata": {},
   "source": [
    "# Introduction to Pandas – Basics and its Core Data Structures"
   ]
  },
  {
   "cell_type": "markdown",
   "id": "43616d7a-50d5-4f47-b087-7b78143e232f",
   "metadata": {},
   "source": [
    "    What is Pandas?\n",
    "\n",
    " - Pandas is an open-source Python library used for data manipulation and analysis.\n",
    " - It provides easy-to-use data structures and operations for handling structured data seamlessly."
   ]
  },
  {
   "cell_type": "raw",
   "id": "3f81bbfe-9800-47c2-961f-88ae7d673ec0",
   "metadata": {},
   "source": [
    "   Where can we use Pandas?\n",
    "\n",
    " - Data analysis and manipulation.\n",
    " - Cleaning, transforming, and organizing datasets.\n",
    " - Working with structured data like CSV, Excel, SQL databases, and JSON."
   ]
  },
  {
   "cell_type": "raw",
   "id": "9d372086-1330-434e-b4cc-778813e9349b",
   "metadata": {},
   "source": [
    "  What can we do with Pandas?\n",
    "\n",
    "- Perform operations like filtering, grouping, merging, reshaping, and more.\n",
    "- Handle missing data effectively.\n",
    "- Support for time-series data."
   ]
  },
  {
   "cell_type": "code",
   "execution_count": 13,
   "id": "df300773-365d-4454-8f13-3397e8c2ae7e",
   "metadata": {},
   "outputs": [
    {
     "name": "stdout",
     "output_type": "stream",
     "text": [
      "Requirement already satisfied: pandas in c:\\users\\bisss\\anaconda3\\lib\\site-packages (2.2.2)\n",
      "Requirement already satisfied: numpy>=1.26.0 in c:\\users\\bisss\\anaconda3\\lib\\site-packages (from pandas) (1.26.4)\n",
      "Requirement already satisfied: python-dateutil>=2.8.2 in c:\\users\\bisss\\anaconda3\\lib\\site-packages (from pandas) (2.9.0.post0)\n",
      "Requirement already satisfied: pytz>=2020.1 in c:\\users\\bisss\\anaconda3\\lib\\site-packages (from pandas) (2024.1)\n",
      "Requirement already satisfied: tzdata>=2022.7 in c:\\users\\bisss\\anaconda3\\lib\\site-packages (from pandas) (2023.3)\n",
      "Requirement already satisfied: six>=1.5 in c:\\users\\bisss\\anaconda3\\lib\\site-packages (from python-dateutil>=2.8.2->pandas) (1.16.0)\n"
     ]
    }
   ],
   "source": [
    "# Install Pandas in Jupyter Notebook:\n",
    "\n",
    "! pip install pandas"
   ]
  },
  {
   "cell_type": "code",
   "execution_count": 32,
   "id": "00fc8c8b-0e4a-475a-ad9c-3285932fc55e",
   "metadata": {},
   "outputs": [],
   "source": [
    "import pandas as pd\n",
    "import numpy as np"
   ]
  },
  {
   "cell_type": "code",
   "execution_count": 17,
   "id": "e360e4a1-e04c-46c5-897a-961869211fd0",
   "metadata": {},
   "outputs": [
    {
     "name": "stdout",
     "output_type": "stream",
     "text": [
      "Pandas Series from List:\n",
      "0    1\n",
      "1    2\n",
      "2    3\n",
      "3    4\n",
      "4    5\n",
      "dtype: int64\n"
     ]
    }
   ],
   "source": [
    "# Converting a Python list to a Pandas Series\n",
    "\n",
    "lst = [1, 2, 3, 4, 5]\n",
    "series = pd.Series(lst)\n",
    "print(\"Pandas Series from List:\")\n",
    "print(series)"
   ]
  },
  {
   "cell_type": "code",
   "execution_count": 21,
   "id": "3b8520ee-3467-49db-a820-a555aa0b60f5",
   "metadata": {},
   "outputs": [
    {
     "name": "stdout",
     "output_type": "stream",
     "text": [
      "\n",
      "Series Data Type:\n",
      "int64\n"
     ]
    }
   ],
   "source": [
    "print(\"\\nSeries Data Type:\")\n",
    "print(series.dtype)  # Shows the data type of the Series"
   ]
  },
  {
   "cell_type": "markdown",
   "id": "9df8ff42-f38e-447e-9c00-178e5b46436d",
   "metadata": {},
   "source": [
    "# Data Structures in Pandas"
   ]
  },
  {
   "cell_type": "raw",
   "id": "7c9c415a-c2b9-40bc-9735-c55e3c6487de",
   "metadata": {},
   "source": [
    "   Types of data structures in Pandas:\n",
    "\n",
    " - Series: One-dimensional labeled array capable of holding data of any type.\n",
    " - DataFrame: Two-dimensional labeled data structure with columns of potentially different types.\n",
    " - Panel: Three-dimensional data structure (deprecated in the latest Pandas versions)."
   ]
  },
  {
   "cell_type": "markdown",
   "id": "ddeadca0-01c1-4edd-80a1-c53a881b0d8d",
   "metadata": {},
   "source": [
    "### Series: A Simple One-Dimensional Array"
   ]
  },
  {
   "cell_type": "code",
   "execution_count": 34,
   "id": "340a02c6-b844-4626-b107-a9a4b1868cae",
   "metadata": {},
   "outputs": [
    {
     "name": "stdout",
     "output_type": "stream",
     "text": [
      "\n",
      "Series with Integer Data:\n",
      "0    1\n",
      "1    2\n",
      "2    3\n",
      "3    4\n",
      "4    5\n",
      "dtype: uint8\n"
     ]
    }
   ],
   "source": [
    "# Creating a Series with integers\n",
    "\n",
    "sr = pd.Series([1, 2, 3, 4, 5])\n",
    "print(\"\\nSeries with Integer Data:\")\n",
    "print(sr.astype(np.uint8))  # Converting data type to unsigned 8-bit integer"
   ]
  },
  {
   "cell_type": "code",
   "execution_count": 36,
   "id": "c9d32490-0c71-4895-852e-41e8e73e3b4e",
   "metadata": {},
   "outputs": [
    {
     "name": "stdout",
     "output_type": "stream",
     "text": [
      "\n",
      "Series with String Data:\n",
      "0          Ram\n",
      "1        Shyam\n",
      "2         Hari\n",
      "3    GhanShyam\n",
      "dtype: object\n"
     ]
    }
   ],
   "source": [
    "# Creating a Series with strings\n",
    "\n",
    "sr = pd.Series(['Ram', 'Shyam', 'Hari', 'GhanShyam'])\n",
    "print(\"\\nSeries with String Data:\")\n",
    "print(sr)"
   ]
  },
  {
   "cell_type": "code",
   "execution_count": 38,
   "id": "6c52b256-1f05-4d76-a3c6-710873f1b685",
   "metadata": {},
   "outputs": [
    {
     "name": "stdout",
     "output_type": "stream",
     "text": [
      "\n",
      "Series from Tuple:\n",
      "0          Ram\n",
      "1        Shyam\n",
      "2         Hari\n",
      "3    GhanShyam\n",
      "dtype: object\n"
     ]
    }
   ],
   "source": [
    "# Creating a Series from a tuple\n",
    "\n",
    "tuple_var = ('Ram', 'Shyam', 'Hari', 'GhanShyam')\n",
    "sr = pd.Series(tuple_var)\n",
    "print(\"\\nSeries from Tuple:\")\n",
    "print(sr)"
   ]
  },
  {
   "cell_type": "markdown",
   "id": "7fa90100-d593-45d6-8b36-c960672eaa68",
   "metadata": {},
   "source": [
    "### DataFrame: A Two-Dimensional Labeled Data Structure"
   ]
  },
  {
   "cell_type": "code",
   "execution_count": 43,
   "id": "ad4cb26d-1b7a-4393-9cd0-59d5b420654f",
   "metadata": {},
   "outputs": [
    {
     "name": "stdout",
     "output_type": "stream",
     "text": [
      "\n",
      "Simple DataFrame Example:\n",
      "   Name  Age  Subject\n",
      "0  Rama   21     Math\n",
      "1  Sita   24  Science\n",
      "2  Gita   25  English\n"
     ]
    }
   ],
   "source": [
    "# Creating a simple DataFrame\n",
    "\n",
    "df = pd.DataFrame({\n",
    "    'Name': ['Rama', 'Sita', 'Gita'],\n",
    "    'Age': [21, 24, 25],\n",
    "    'Subject': ['Math', 'Science', 'English']\n",
    "})\n",
    "print(\"\\nSimple DataFrame Example:\")\n",
    "print(df)"
   ]
  },
  {
   "cell_type": "markdown",
   "id": "c4a8564f-25e1-4024-8120-223e78f81763",
   "metadata": {},
   "source": [
    "### Panel: A Three-Dimensional Data Structure (Deprecated)"
   ]
  },
  {
   "cell_type": "raw",
   "id": "02e47b65-304a-480e-b5e4-0925994cc409",
   "metadata": {},
   "source": [
    " - The `Panel` data structure was removed in Pandas version 0.20.0.\n",
    " - Alternatives like multi-index DataFrames or xarray library are recommended."
   ]
  },
  {
   "cell_type": "code",
   "execution_count": 46,
   "id": "c44227ef-7a3f-4273-b24f-e43ba9ae9165",
   "metadata": {},
   "outputs": [],
   "source": [
    "# Example of creating a multi-index DataFrame to mimic Panel functionality\n",
    "\n",
    "df1 = pd.DataFrame({\n",
    "    'Name': ['Rama', 'Sita', 'Gita'],\n",
    "    'Age': [21, 24, 25],\n",
    "    'Subject': ['Math', 'Science', 'English']\n",
    "})"
   ]
  },
  {
   "cell_type": "code",
   "execution_count": 48,
   "id": "b0acb9b1-c565-420e-98cf-c61c74db568f",
   "metadata": {},
   "outputs": [],
   "source": [
    "df2 = pd.DataFrame({\n",
    "    'Name': ['Ram', 'Sitaram', 'Gitaraman'],\n",
    "    'Age': [23, 22, 23],\n",
    "    'Subject': ['Math', 'Science', 'English']\n",
    "})\n"
   ]
  },
  {
   "cell_type": "code",
   "execution_count": 50,
   "id": "6220d54b-5ed7-4655-94f3-95262c327459",
   "metadata": {},
   "outputs": [
    {
     "name": "stdout",
     "output_type": "stream",
     "text": [
      "\n",
      "Panel-Like Multi-Index DataFrame:\n",
      "            Name  Age  Subject\n",
      "df1 0       Rama   21     Math\n",
      "    1       Sita   24  Science\n",
      "    2       Gita   25  English\n",
      "df2 0        Ram   23     Math\n",
      "    1    Sitaram   22  Science\n",
      "    2  Gitaraman   23  English\n"
     ]
    }
   ],
   "source": [
    "# Concatenating DataFrames with keys to simulate a Panel-like structure\n",
    "\n",
    "df_panel_like = pd.concat({'df1': df1, 'df2': df2})\n",
    "print(\"\\nPanel-Like Multi-Index DataFrame:\")\n",
    "print(df_panel_like)"
   ]
  },
  {
   "cell_type": "code",
   "execution_count": null,
   "id": "3130657b-da2d-46f9-b761-f1064a19db2b",
   "metadata": {},
   "outputs": [],
   "source": []
  }
 ],
 "metadata": {
  "kernelspec": {
   "display_name": "Python [conda env:base] *",
   "language": "python",
   "name": "conda-base-py"
  },
  "language_info": {
   "codemirror_mode": {
    "name": "ipython",
    "version": 3
   },
   "file_extension": ".py",
   "mimetype": "text/x-python",
   "name": "python",
   "nbconvert_exporter": "python",
   "pygments_lexer": "ipython3",
   "version": "3.12.7"
  }
 },
 "nbformat": 4,
 "nbformat_minor": 5
}
